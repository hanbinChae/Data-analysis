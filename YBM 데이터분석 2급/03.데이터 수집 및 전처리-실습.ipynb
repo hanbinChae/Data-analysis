{
 "cells": [
  {
   "cell_type": "code",
   "execution_count": 2,
   "id": "f836c054",
   "metadata": {
    "scrolled": true
   },
   "outputs": [],
   "source": [
    "import pandas as pd\n",
    "import numpy as np"
   ]
  },
  {
   "cell_type": "markdown",
   "id": "d4a3a994",
   "metadata": {},
   "source": [
    "## 1. 데이터 수집"
   ]
  },
  {
   "cell_type": "markdown",
   "id": "a888abc1",
   "metadata": {},
   "source": [
    "### 텍스트 파일"
   ]
  },
  {
   "cell_type": "markdown",
   "id": "67e2fef7",
   "metadata": {},
   "source": [
    "* csv : comma-separated values ( , ) "
   ]
  },
  {
   "cell_type": "code",
   "execution_count": null,
   "id": "b4674fd1",
   "metadata": {
    "scrolled": true
   },
   "outputs": [],
   "source": [
    "df = pd.read_csv('./iris.csv')\n",
    "df"
   ]
  },
  {
   "cell_type": "markdown",
   "id": "a72149a3",
   "metadata": {},
   "source": [
    "* tsv : tab-separated values ( \\t )"
   ]
  },
  {
   "cell_type": "code",
   "execution_count": null,
   "id": "d143219f",
   "metadata": {
    "scrolled": true
   },
   "outputs": [],
   "source": [
    "df = pd.read_csv('./iris.tsv', )\n",
    "df"
   ]
  },
  {
   "cell_type": "markdown",
   "id": "f4c22a36",
   "metadata": {},
   "source": [
    "* txt : 단순 텍스트 파일 ( 구분자 문자 ; )"
   ]
  },
  {
   "cell_type": "code",
   "execution_count": null,
   "id": "bb73594b",
   "metadata": {
    "scrolled": true
   },
   "outputs": [],
   "source": [
    "df = pd.read_csv('./iris.txt', )\n",
    "df"
   ]
  },
  {
   "cell_type": "markdown",
   "id": "f5de4787",
   "metadata": {},
   "source": [
    "* fwf : fixed width file ( 동일한 간격으로 값이 있음 )"
   ]
  },
  {
   "cell_type": "code",
   "execution_count": null,
   "id": "2131bc90",
   "metadata": {
    "scrolled": true
   },
   "outputs": [],
   "source": [
    "df = pd.read_fwf('iris.fwf')\n",
    "df"
   ]
  },
  {
   "cell_type": "markdown",
   "id": "b35ec98b",
   "metadata": {},
   "source": [
    "* json : \"키-값 쌍\"으로 이루어진 데이터 형태"
   ]
  },
  {
   "cell_type": "code",
   "execution_count": null,
   "id": "748d9a98",
   "metadata": {
    "scrolled": true
   },
   "outputs": [],
   "source": [
    "df = pd.read_json('iris.json')\n",
    "df"
   ]
  },
  {
   "cell_type": "markdown",
   "id": "d1f054fb",
   "metadata": {},
   "source": [
    "### 엑셀 파일"
   ]
  },
  {
   "cell_type": "code",
   "execution_count": null,
   "id": "4982ca5b",
   "metadata": {
    "scrolled": true
   },
   "outputs": [],
   "source": [
    "df = pd.read_excel('iris.xlsx')\n",
    "df"
   ]
  },
  {
   "cell_type": "markdown",
   "id": "35a8cdf5",
   "metadata": {},
   "source": [
    "## 2.데이터 가공"
   ]
  },
  {
   "cell_type": "markdown",
   "id": "52b8abec",
   "metadata": {},
   "source": [
    "### 필터링"
   ]
  },
  {
   "cell_type": "markdown",
   "id": "c338df36",
   "metadata": {},
   "source": [
    "* 데이터 준비 - DATA_test_result.csv"
   ]
  },
  {
   "cell_type": "code",
   "execution_count": null,
   "id": "fd3cfaa5",
   "metadata": {
    "scrolled": true
   },
   "outputs": [],
   "source": [
    "df = pd.read_csv('./DATA_test_result.csv')\n",
    "df.head()"
   ]
  },
  {
   "cell_type": "code",
   "execution_count": null,
   "id": "ca41e0e7",
   "metadata": {
    "scrolled": true
   },
   "outputs": [],
   "source": [
    "df.info()"
   ]
  },
  {
   "cell_type": "markdown",
   "id": "20427bda",
   "metadata": {},
   "source": [
    "* score_a가 200보다 큰 데이터"
   ]
  },
  {
   "cell_type": "code",
   "execution_count": null,
   "id": "a01800b3",
   "metadata": {
    "scrolled": true
   },
   "outputs": [],
   "source": []
  },
  {
   "cell_type": "markdown",
   "id": "1e36228e",
   "metadata": {},
   "source": [
    "* score_a가 200인 데이터"
   ]
  },
  {
   "cell_type": "code",
   "execution_count": null,
   "id": "8a6c19ab",
   "metadata": {
    "scrolled": true
   },
   "outputs": [],
   "source": []
  },
  {
   "cell_type": "markdown",
   "id": "bafd391b",
   "metadata": {},
   "source": [
    "* score_a가 200이 아닌 데이터"
   ]
  },
  {
   "cell_type": "code",
   "execution_count": null,
   "id": "50a2b0e0",
   "metadata": {
    "scrolled": true
   },
   "outputs": [],
   "source": []
  },
  {
   "cell_type": "markdown",
   "id": "cf3dc911",
   "metadata": {},
   "source": [
    "* 필터링 결과를 별도로 저장"
   ]
  },
  {
   "cell_type": "code",
   "execution_count": null,
   "id": "7be4e6ff",
   "metadata": {
    "scrolled": true
   },
   "outputs": [],
   "source": [
    "df_sub = df[df['score_a'] == 200]\n",
    "df_sub"
   ]
  },
  {
   "cell_type": "code",
   "execution_count": null,
   "id": "0188038d",
   "metadata": {
    "scrolled": true
   },
   "outputs": [],
   "source": [
    "df.loc[df['score_a'] == 200,]"
   ]
  },
  {
   "cell_type": "code",
   "execution_count": null,
   "id": "917d70e2",
   "metadata": {
    "scrolled": true
   },
   "outputs": [],
   "source": [
    "df.loc[df['score_a'] == 200,['test_id', 'score_b']]"
   ]
  },
  {
   "cell_type": "markdown",
   "id": "1b0ccf92",
   "metadata": {},
   "source": [
    "<p style=\"color:#fb0101;\"><b>실습: df 객체에서 score_a 변수값이 score_a 변수 평균보다 작고 score_b 변수값이 score_b 평균보다 큰 데이터는 몇 개인가?</b></p>"
   ]
  },
  {
   "cell_type": "code",
   "execution_count": null,
   "id": "e18c57a4",
   "metadata": {
    "scrolled": true
   },
   "outputs": [],
   "source": [
    "import pandas as pd\n",
    "\n",
    "df = pd.read_csv('./DATA_test_result.csv')\n",
    "\n",
    "def solution():\n",
    "    return 1\n",
    "    \n",
    "solution()"
   ]
  },
  {
   "cell_type": "markdown",
   "id": "8e2922e4",
   "metadata": {},
   "source": [
    "* isin( )"
   ]
  },
  {
   "cell_type": "code",
   "execution_count": null,
   "id": "5f6488ee",
   "metadata": {
    "scrolled": true
   },
   "outputs": [],
   "source": [
    "df = pd.read_csv('./DATA_test_result.csv')"
   ]
  },
  {
   "cell_type": "code",
   "execution_count": null,
   "id": "7e4ef011",
   "metadata": {
    "scrolled": true
   },
   "outputs": [],
   "source": [
    "# 값이 500과 700 인지 판별\n"
   ]
  },
  {
   "cell_type": "code",
   "execution_count": null,
   "id": "0c341450",
   "metadata": {
    "scrolled": true
   },
   "outputs": [],
   "source": [
    "#500과 700이 들어있는 자료만 검색\n"
   ]
  },
  {
   "cell_type": "markdown",
   "id": "cfe15894",
   "metadata": {},
   "source": [
    "* str.contains( )"
   ]
  },
  {
   "cell_type": "code",
   "execution_count": null,
   "id": "1123472d",
   "metadata": {
    "scrolled": true
   },
   "outputs": [],
   "source": [
    "df = pd.DataFrame(['Mouse', 'dog', 'house and parrot', '23', np.NaN],columns=['a'])\n",
    "\n",
    "# 단어에 'ou'가 포함되어 있는 지 판별\n"
   ]
  },
  {
   "cell_type": "code",
   "execution_count": null,
   "id": "d8b0c4bd",
   "metadata": {
    "scrolled": true
   },
   "outputs": [],
   "source": [
    "# 단어에 'ou'가 포함된 자료만 검색\n"
   ]
  },
  {
   "cell_type": "markdown",
   "id": "fe939969",
   "metadata": {},
   "source": [
    "* str.replace()"
   ]
  },
  {
   "cell_type": "code",
   "execution_count": null,
   "id": "18c63ac5",
   "metadata": {
    "scrolled": true
   },
   "outputs": [],
   "source": [
    "df = pd.DataFrame(['Mouse', 'dog', 'house and parrot', '23', np.NaN],columns=['a'])\n",
    "# 'ou'를 'OU'로 변경\n"
   ]
  },
  {
   "cell_type": "markdown",
   "id": "95fbdf2b",
   "metadata": {},
   "source": [
    "* 데이터를 준비 - iris.csv : 아이리트(붓꽃) 데이터"
   ]
  },
  {
   "cell_type": "code",
   "execution_count": null,
   "id": "137ab211",
   "metadata": {
    "scrolled": true
   },
   "outputs": [],
   "source": [
    "df = pd.read_csv('./iris.csv')\n",
    "df.head()"
   ]
  },
  {
   "cell_type": "markdown",
   "id": "5e4e5109",
   "metadata": {},
   "source": [
    "* 꽃받침 길이(Sepal.Length)가 7보다 크고, 꽃잎 너비(Petal.Width)가 2보다 작은 모든 필드의 데이터"
   ]
  },
  {
   "cell_type": "code",
   "execution_count": null,
   "id": "6fde5f18",
   "metadata": {
    "scrolled": true
   },
   "outputs": [],
   "source": []
  },
  {
   "cell_type": "markdown",
   "id": "5087c502",
   "metadata": {},
   "source": [
    "* 꽃받침 길이(Sepal.Length)가 7.4 이거나, 꽃잎 너비(Petal.Width)가 0.2보다 작은 모든 필드의 데이터"
   ]
  },
  {
   "cell_type": "code",
   "execution_count": null,
   "id": "35dc47c1",
   "metadata": {
    "scrolled": true
   },
   "outputs": [],
   "source": []
  },
  {
   "cell_type": "markdown",
   "id": "1cace0e7",
   "metadata": {},
   "source": [
    "* 꽃의 종류(Species)가 'setosa'인 데이터 중 상위 10개"
   ]
  },
  {
   "cell_type": "code",
   "execution_count": null,
   "id": "bcdb34fa",
   "metadata": {
    "scrolled": true
   },
   "outputs": [],
   "source": []
  },
  {
   "cell_type": "markdown",
   "id": "e07dfdbc",
   "metadata": {},
   "source": [
    "* 꽃의 종류(Species)가 'setosa'이거나 'versicolor'인 데이터"
   ]
  },
  {
   "cell_type": "code",
   "execution_count": null,
   "id": "ae580fd9",
   "metadata": {
    "scrolled": true
   },
   "outputs": [],
   "source": []
  },
  {
   "cell_type": "markdown",
   "id": "920b21c6",
   "metadata": {},
   "source": [
    "* 꽃의 종류(Species)에 'vir' 문자열이 포함된 데이터"
   ]
  },
  {
   "cell_type": "code",
   "execution_count": null,
   "id": "1a292453",
   "metadata": {
    "scrolled": true
   },
   "outputs": [],
   "source": []
  },
  {
   "cell_type": "markdown",
   "id": "a5b0e94c",
   "metadata": {},
   "source": [
    "<p style=\"color:#fb0101;\"><b>실습: 'Month_Value_1.csv'파일을 불러와서 2022년 데이터를 제거하고 나머지 정보를 Pandas 데이터프레임 df_past 객체로 저장하시고. 그리고 df_past 객체의 행 개수를 구하시오.</b></p>\n",
    "\n",
    "※ 'Month_Value_1.csv'파일을 사용하여 분석하시오.\n",
    "\n",
    "※ Preiod 변수에 '2022'가 있으면 2022년 데이터로 판단한다.\n",
    "\n",
    "※ Pandas의 .str accessor의 .contains() 메서드를 사용하시오.\n",
    "\n",
    "※ Pandas 객체 필터링에서 '~'를 사용하면 논리값(True, False)을 반전시킬 수 있다."
   ]
  },
  {
   "cell_type": "code",
   "execution_count": null,
   "id": "a783969a",
   "metadata": {
    "scrolled": true
   },
   "outputs": [],
   "source": [
    "import pandas as pd\n",
    "\n",
    "df = pd.read_csv('Month_Value_1.csv')\n",
    "\n",
    "\n",
    "def solution():\n",
    "    return 1\n",
    "    \n",
    "solution()"
   ]
  },
  {
   "cell_type": "markdown",
   "id": "10580d9a",
   "metadata": {},
   "source": [
    "<p style=\"color:#fb0101;\"><b>실습: df 객체의 room 변수의 원소에 A가 있는 경우 'VIP', 그렇지 않은 경우 'Standard'로 지정한 새로운 변수 kind를 새로 만드시오. 이 때 kind 변수의 값이 'VIP'인 행 개수는 몇 개인가?</b></p>\n",
    "\n",
    "※ 'join_room.csv' 파일을 사용하여 분석하시오.\n",
    "\n",
    "※ Pandas의 .str accessor의 .contains() 메서드 사용가능\n",
    "\n",
    "※ Pandas의 .str accessor의 .replace() 메서드를 사용가능\n",
    "\n",
    "※ NumPy의 where() 함수 사용가능\n",
    "\n",
    "※ 신규 변수를 생성한 이후 room 변수의 'A'는 '01'로, 'B'는 '02'로, 'C'는 '03'으로 바꾸시오.\n"
   ]
  },
  {
   "cell_type": "code",
   "execution_count": null,
   "id": "38d2e8ee",
   "metadata": {
    "scrolled": true
   },
   "outputs": [],
   "source": [
    "import numpy as np\n",
    "import pandas as pd\n",
    "\n",
    "df = pd.read_csv('join_room.csv')\n",
    "\n",
    "def solution():\n",
    "    print(\"???\")\n",
    "\n",
    "solution()"
   ]
  },
  {
   "cell_type": "markdown",
   "id": "d2e54e08",
   "metadata": {},
   "source": [
    "### 결측치 처리"
   ]
  },
  {
   "cell_type": "markdown",
   "id": "f8e88f83",
   "metadata": {},
   "source": [
    "* 데이터 준비(missing_sample.xlsx)"
   ]
  },
  {
   "cell_type": "code",
   "execution_count": null,
   "id": "a62bdd90",
   "metadata": {
    "scrolled": true
   },
   "outputs": [],
   "source": [
    "df = pd.read_excel('missing_sample.xlsx')\n",
    "df"
   ]
  },
  {
   "cell_type": "code",
   "execution_count": null,
   "id": "7a925f0a",
   "metadata": {
    "scrolled": true
   },
   "outputs": [],
   "source": [
    "# 판다스에서 결측치 값 생성\n",
    "[100, 200, pd.NA, 400]"
   ]
  },
  {
   "cell_type": "markdown",
   "id": "0b606742",
   "metadata": {},
   "source": [
    "* 결측치인지 확인하기"
   ]
  },
  {
   "cell_type": "code",
   "execution_count": null,
   "id": "1a0267d5",
   "metadata": {
    "scrolled": true
   },
   "outputs": [],
   "source": [
    "df.isna()"
   ]
  },
  {
   "cell_type": "markdown",
   "id": "770021c4",
   "metadata": {},
   "source": [
    "* 결측치가 있는 데이터만 가져오기"
   ]
  },
  {
   "cell_type": "code",
   "execution_count": null,
   "id": "eef91f7c",
   "metadata": {
    "scrolled": true
   },
   "outputs": [],
   "source": []
  },
  {
   "cell_type": "markdown",
   "id": "585e48be",
   "metadata": {},
   "source": [
    "* 결측치가 없는 데이터만 가져오기"
   ]
  },
  {
   "cell_type": "code",
   "execution_count": null,
   "id": "157f1d44",
   "metadata": {
    "scrolled": true
   },
   "outputs": [],
   "source": []
  },
  {
   "cell_type": "markdown",
   "id": "3cc275d7",
   "metadata": {},
   "source": [
    "* 데이터 준비(krx_missing.csv)"
   ]
  },
  {
   "cell_type": "code",
   "execution_count": null,
   "id": "dc01d9f0",
   "metadata": {
    "scrolled": true
   },
   "outputs": [],
   "source": [
    "df = pd.read_csv('krx_missing.csv')\n",
    "df.head(10)"
   ]
  },
  {
   "cell_type": "markdown",
   "id": "9a93aa0f",
   "metadata": {},
   "source": [
    "* 칼럼별 결측치의 개수 확인하기"
   ]
  },
  {
   "cell_type": "code",
   "execution_count": null,
   "id": "6b329938",
   "metadata": {
    "scrolled": true
   },
   "outputs": [],
   "source": []
  },
  {
   "cell_type": "markdown",
   "id": "3d7e7815",
   "metadata": {},
   "source": [
    "<p style=\"color:#fb0101;\"><b>실습: df 객체의 두 번째 변수의 결측치 개수는 몇 개인가?</b></p>\n",
    "\n",
    "※ 'Month_Value_1.csv' 파일을 사용하여 분석하시오.\n",
    "\n",
    "※ Pandas 객체의 메서드를 사용하여 결과를 도출하시오."
   ]
  },
  {
   "cell_type": "code",
   "execution_count": null,
   "id": "7bf2c06a",
   "metadata": {
    "scrolled": true
   },
   "outputs": [],
   "source": [
    "import numpy as np\n",
    "import pandas as pd\n",
    "\n",
    "df = pd.read_csv('Month_Value_1.csv')\n",
    "def solution():\n",
    "    return 1\n",
    "    \n",
    "solution()"
   ]
  },
  {
   "cell_type": "markdown",
   "id": "7c89e570",
   "metadata": {},
   "source": [
    "* 결측치 제거"
   ]
  },
  {
   "cell_type": "code",
   "execution_count": null,
   "id": "bc295a1e",
   "metadata": {
    "scrolled": true
   },
   "outputs": [],
   "source": [
    "df = pd.read_csv('krx_missing.csv')\n",
    "\n",
    "# 지수명에 결측가 없는 데이터만을 모아서 새로운 데이터 프레임 생성\n"
   ]
  },
  {
   "cell_type": "code",
   "execution_count": null,
   "id": "12a87fdd",
   "metadata": {
    "scrolled": true
   },
   "outputs": [],
   "source": [
    "# 인덱스 재설정\n"
   ]
  },
  {
   "cell_type": "markdown",
   "id": "c0e6d202",
   "metadata": {},
   "source": [
    "<p style=\"color:#fb0101;\"><b>실습: df 객체의 \"대비\"와 \"등락률\"의 결측치를 제거한 후 df_not_na객체에 저장하고 해당 객체의 row 개수를 구하시오 </b></p>"
   ]
  },
  {
   "cell_type": "code",
   "execution_count": null,
   "id": "3eb33936",
   "metadata": {
    "scrolled": true
   },
   "outputs": [],
   "source": [
    "import pandas as pd\n",
    "\n",
    "df = pd.read_csv('krx_missing.csv')\n",
    "\n",
    "def solution():\n",
    "    return 1\n",
    "    \n",
    "solution()"
   ]
  },
  {
   "cell_type": "markdown",
   "id": "bae983fc",
   "metadata": {},
   "source": [
    "* 결측치 대치(대체, 채우기, 변환) - df.fillna()"
   ]
  },
  {
   "cell_type": "code",
   "execution_count": null,
   "id": "b838f8d2",
   "metadata": {
    "scrolled": true
   },
   "outputs": [],
   "source": [
    "df = pd.read_csv('krx_missing.csv')\n",
    "\n",
    "#결측치를 -9999로 채워 새로운 데이터프레임으로 생성\n",
    "\n"
   ]
  },
  {
   "cell_type": "code",
   "execution_count": null,
   "id": "2e315700",
   "metadata": {
    "scrolled": true
   },
   "outputs": [],
   "source": [
    "# df.fillna( {'칼럼명':'채울값'} ) 종가를 종가 평균으로, 등락률을 -1로 채우기\n"
   ]
  },
  {
   "cell_type": "markdown",
   "id": "08d8bdca",
   "metadata": {},
   "source": [
    "### 시간 데이터 처리\n",
    "\n",
    "표준형식 : YYYY-mm-dd HH:MM:SS (2023-01-03 13:05:13)"
   ]
  },
  {
   "cell_type": "markdown",
   "id": "2a72f328",
   "metadata": {},
   "source": [
    "* 시간데이터의 표현"
   ]
  },
  {
   "cell_type": "code",
   "execution_count": null,
   "id": "c764e3ff",
   "metadata": {
    "scrolled": true
   },
   "outputs": [],
   "source": [
    "Date_s = \"2023-01-03 13:05:03\"\n",
    "print(type(Date_s),Date_s)\n",
    "print(Date_s[:4])\n",
    "print(Date_s[5:7])\n",
    "print(Date_s[8:10])\n",
    "\n",
    "from datetime import datetime\n",
    "Date_d = datetime(2023,1,3,13,5,3)\n",
    "print(type(Date_d),Date_d)\n",
    "print(Date_d.year)\n",
    "print(Date_d.month)\n",
    "print(Date_d.day)\n",
    "print('요일',Date_d.weekday())\n",
    "print(Date_d.hour, '시', Date_d.minute,'분',Date_d.second,'초')\n",
    "\n",
    "from datetime import timedelta\n",
    "print('tomorrow:',Date_d+timedelta(days=1))\n"
   ]
  },
  {
   "cell_type": "markdown",
   "id": "a1669174",
   "metadata": {},
   "source": [
    "* 데이터 준비(monthly_sales_report.csv)"
   ]
  },
  {
   "cell_type": "code",
   "execution_count": null,
   "id": "936974b7",
   "metadata": {
    "scrolled": true
   },
   "outputs": [],
   "source": [
    "df = pd.read_csv('monthly_sales_report.csv')\n",
    "df.head()"
   ]
  },
  {
   "cell_type": "code",
   "execution_count": null,
   "id": "2958dd37",
   "metadata": {
    "scrolled": true
   },
   "outputs": [],
   "source": [
    "df.info()"
   ]
  },
  {
   "cell_type": "code",
   "execution_count": null,
   "id": "27813e04",
   "metadata": {
    "scrolled": true
   },
   "outputs": [],
   "source": [
    "df['Date'] = pd.to_datetime(df['Date'])\n",
    "df.info()"
   ]
  },
  {
   "cell_type": "code",
   "execution_count": null,
   "id": "71bf8599",
   "metadata": {
    "scrolled": false
   },
   "outputs": [],
   "source": [
    "df['year'] = df['Date'].dt.year\n",
    "df['month'] = df['Date'].dt.month\n",
    "df['day'] = df['Date'].dt.month\n",
    "df['wday'] = df['Date'].dt.weekday\n",
    "df.head()"
   ]
  },
  {
   "cell_type": "markdown",
   "id": "644e0617",
   "metadata": {},
   "source": [
    "* apply( ) 기능을 경험해 보기"
   ]
  },
  {
   "cell_type": "code",
   "execution_count": null,
   "id": "68147389",
   "metadata": {
    "scrolled": true
   },
   "outputs": [],
   "source": [
    "def week_to_str(weekday):\n",
    "    week = ['mon','tue','wed','thu','fri','sat','sun']\n",
    "    return week[weekday]\n",
    "\n",
    "df['wday'] = df['wday'].apply(week_to_str)\n",
    "#df['wday'] = df['Date'].dt.weekday.apply(week_to_str)\n",
    "df.head()"
   ]
  },
  {
   "cell_type": "markdown",
   "id": "063aeec6",
   "metadata": {},
   "source": [
    "<p style=\"color:#fb0101;\"><b>실습: 다음과 같은 df 객체가 있을 때 두 번째 변수의 날짜에서 년도 정보를 뽑아 새로운 변수 \"year\"에 할당하고 가장 큰 년도를 구하시오.</b></p>\n",
    "\n",
    "※ Pandas Series 객체의 .dt accessor의 어트리뷰트를 사용하시오.\n",
    "\n",
    "※ Pandas Series 객체의 .str accessor의 메서드를 사용하시오.\n"
   ]
  },
  {
   "cell_type": "code",
   "execution_count": null,
   "id": "0b45da39",
   "metadata": {
    "scrolled": true
   },
   "outputs": [],
   "source": [
    "import numpy as np\n",
    "import pandas as pd\n",
    "\n",
    "df = pd.DataFrame({\"v1\":[1,2,3], \"v2\":[\"2022-01-02\",\"2023-12-28\",\"2024-06-13\"]})\n",
    "\n",
    "def solution():\n",
    "    return 1\n",
    "    \n",
    "solution()"
   ]
  },
  {
   "cell_type": "markdown",
   "id": "96befd04",
   "metadata": {},
   "source": [
    "### 자료 병합"
   ]
  },
  {
   "cell_type": "markdown",
   "id": "09d268da",
   "metadata": {},
   "source": [
    "* pd.concat( )"
   ]
  },
  {
   "cell_type": "code",
   "execution_count": 3,
   "id": "e8201b5c",
   "metadata": {
    "scrolled": true
   },
   "outputs": [
    {
     "data": {
      "text/html": [
       "<div>\n",
       "<style scoped>\n",
       "    .dataframe tbody tr th:only-of-type {\n",
       "        vertical-align: middle;\n",
       "    }\n",
       "\n",
       "    .dataframe tbody tr th {\n",
       "        vertical-align: top;\n",
       "    }\n",
       "\n",
       "    .dataframe thead th {\n",
       "        text-align: right;\n",
       "    }\n",
       "</style>\n",
       "<table border=\"1\" class=\"dataframe\">\n",
       "  <thead>\n",
       "    <tr style=\"text-align: right;\">\n",
       "      <th></th>\n",
       "      <th>a</th>\n",
       "      <th>b</th>\n",
       "    </tr>\n",
       "  </thead>\n",
       "  <tbody>\n",
       "    <tr>\n",
       "      <th>0</th>\n",
       "      <td>1</td>\n",
       "      <td>10</td>\n",
       "    </tr>\n",
       "    <tr>\n",
       "      <th>1</th>\n",
       "      <td>2</td>\n",
       "      <td>20</td>\n",
       "    </tr>\n",
       "    <tr>\n",
       "      <th>2</th>\n",
       "      <td>3</td>\n",
       "      <td>30</td>\n",
       "    </tr>\n",
       "  </tbody>\n",
       "</table>\n",
       "</div>"
      ],
      "text/plain": [
       "   a   b\n",
       "0  1  10\n",
       "1  2  20\n",
       "2  3  30"
      ]
     },
     "execution_count": 3,
     "metadata": {},
     "output_type": "execute_result"
    }
   ],
   "source": [
    "df_1 = pd.DataFrame({'a':[1,2,3],\n",
    "                     'b':[10,20,30]})\n",
    "df_1"
   ]
  },
  {
   "cell_type": "code",
   "execution_count": 4,
   "id": "bb715855",
   "metadata": {
    "scrolled": true
   },
   "outputs": [
    {
     "data": {
      "text/html": [
       "<div>\n",
       "<style scoped>\n",
       "    .dataframe tbody tr th:only-of-type {\n",
       "        vertical-align: middle;\n",
       "    }\n",
       "\n",
       "    .dataframe tbody tr th {\n",
       "        vertical-align: top;\n",
       "    }\n",
       "\n",
       "    .dataframe thead th {\n",
       "        text-align: right;\n",
       "    }\n",
       "</style>\n",
       "<table border=\"1\" class=\"dataframe\">\n",
       "  <thead>\n",
       "    <tr style=\"text-align: right;\">\n",
       "      <th></th>\n",
       "      <th>a</th>\n",
       "      <th>e</th>\n",
       "      <th>c</th>\n",
       "    </tr>\n",
       "  </thead>\n",
       "  <tbody>\n",
       "    <tr>\n",
       "      <th>0</th>\n",
       "      <td>1</td>\n",
       "      <td>10</td>\n",
       "      <td>100</td>\n",
       "    </tr>\n",
       "    <tr>\n",
       "      <th>1</th>\n",
       "      <td>2</td>\n",
       "      <td>20</td>\n",
       "      <td>200</td>\n",
       "    </tr>\n",
       "    <tr>\n",
       "      <th>3</th>\n",
       "      <td>3</td>\n",
       "      <td>30</td>\n",
       "      <td>300</td>\n",
       "    </tr>\n",
       "  </tbody>\n",
       "</table>\n",
       "</div>"
      ],
      "text/plain": [
       "   a   e    c\n",
       "0  1  10  100\n",
       "1  2  20  200\n",
       "3  3  30  300"
      ]
     },
     "execution_count": 4,
     "metadata": {},
     "output_type": "execute_result"
    }
   ],
   "source": [
    "df_2 = pd.DataFrame({'a':[1,2,3],\n",
    "                     'e':[10,20,30],\n",
    "                     'c':[100,200,300]}, index=[0,1,3])\n",
    "df_2"
   ]
  },
  {
   "cell_type": "code",
   "execution_count": 5,
   "id": "e92f30af",
   "metadata": {
    "scrolled": true
   },
   "outputs": [
    {
     "data": {
      "text/html": [
       "<div>\n",
       "<style scoped>\n",
       "    .dataframe tbody tr th:only-of-type {\n",
       "        vertical-align: middle;\n",
       "    }\n",
       "\n",
       "    .dataframe tbody tr th {\n",
       "        vertical-align: top;\n",
       "    }\n",
       "\n",
       "    .dataframe thead th {\n",
       "        text-align: right;\n",
       "    }\n",
       "</style>\n",
       "<table border=\"1\" class=\"dataframe\">\n",
       "  <thead>\n",
       "    <tr style=\"text-align: right;\">\n",
       "      <th></th>\n",
       "      <th>a</th>\n",
       "      <th>b</th>\n",
       "      <th>e</th>\n",
       "      <th>c</th>\n",
       "    </tr>\n",
       "  </thead>\n",
       "  <tbody>\n",
       "    <tr>\n",
       "      <th>0</th>\n",
       "      <td>1</td>\n",
       "      <td>10.0</td>\n",
       "      <td>NaN</td>\n",
       "      <td>NaN</td>\n",
       "    </tr>\n",
       "    <tr>\n",
       "      <th>1</th>\n",
       "      <td>2</td>\n",
       "      <td>20.0</td>\n",
       "      <td>NaN</td>\n",
       "      <td>NaN</td>\n",
       "    </tr>\n",
       "    <tr>\n",
       "      <th>2</th>\n",
       "      <td>3</td>\n",
       "      <td>30.0</td>\n",
       "      <td>NaN</td>\n",
       "      <td>NaN</td>\n",
       "    </tr>\n",
       "    <tr>\n",
       "      <th>0</th>\n",
       "      <td>1</td>\n",
       "      <td>NaN</td>\n",
       "      <td>10.0</td>\n",
       "      <td>100.0</td>\n",
       "    </tr>\n",
       "    <tr>\n",
       "      <th>1</th>\n",
       "      <td>2</td>\n",
       "      <td>NaN</td>\n",
       "      <td>20.0</td>\n",
       "      <td>200.0</td>\n",
       "    </tr>\n",
       "    <tr>\n",
       "      <th>3</th>\n",
       "      <td>3</td>\n",
       "      <td>NaN</td>\n",
       "      <td>30.0</td>\n",
       "      <td>300.0</td>\n",
       "    </tr>\n",
       "  </tbody>\n",
       "</table>\n",
       "</div>"
      ],
      "text/plain": [
       "   a     b     e      c\n",
       "0  1  10.0   NaN    NaN\n",
       "1  2  20.0   NaN    NaN\n",
       "2  3  30.0   NaN    NaN\n",
       "0  1   NaN  10.0  100.0\n",
       "1  2   NaN  20.0  200.0\n",
       "3  3   NaN  30.0  300.0"
      ]
     },
     "execution_count": 5,
     "metadata": {},
     "output_type": "execute_result"
    }
   ],
   "source": [
    "# df_1에 df_2 의 레코드를 행으로 추가하기\n"
   ]
  },
  {
   "cell_type": "code",
   "execution_count": 6,
   "id": "8898d16b",
   "metadata": {
    "scrolled": true
   },
   "outputs": [
    {
     "data": {
      "text/html": [
       "<div>\n",
       "<style scoped>\n",
       "    .dataframe tbody tr th:only-of-type {\n",
       "        vertical-align: middle;\n",
       "    }\n",
       "\n",
       "    .dataframe tbody tr th {\n",
       "        vertical-align: top;\n",
       "    }\n",
       "\n",
       "    .dataframe thead th {\n",
       "        text-align: right;\n",
       "    }\n",
       "</style>\n",
       "<table border=\"1\" class=\"dataframe\">\n",
       "  <thead>\n",
       "    <tr style=\"text-align: right;\">\n",
       "      <th></th>\n",
       "      <th>a</th>\n",
       "      <th>b</th>\n",
       "      <th>a</th>\n",
       "      <th>e</th>\n",
       "      <th>c</th>\n",
       "    </tr>\n",
       "  </thead>\n",
       "  <tbody>\n",
       "    <tr>\n",
       "      <th>0</th>\n",
       "      <td>1.0</td>\n",
       "      <td>10.0</td>\n",
       "      <td>1.0</td>\n",
       "      <td>10.0</td>\n",
       "      <td>100.0</td>\n",
       "    </tr>\n",
       "    <tr>\n",
       "      <th>1</th>\n",
       "      <td>2.0</td>\n",
       "      <td>20.0</td>\n",
       "      <td>2.0</td>\n",
       "      <td>20.0</td>\n",
       "      <td>200.0</td>\n",
       "    </tr>\n",
       "    <tr>\n",
       "      <th>2</th>\n",
       "      <td>3.0</td>\n",
       "      <td>30.0</td>\n",
       "      <td>NaN</td>\n",
       "      <td>NaN</td>\n",
       "      <td>NaN</td>\n",
       "    </tr>\n",
       "    <tr>\n",
       "      <th>3</th>\n",
       "      <td>NaN</td>\n",
       "      <td>NaN</td>\n",
       "      <td>3.0</td>\n",
       "      <td>30.0</td>\n",
       "      <td>300.0</td>\n",
       "    </tr>\n",
       "  </tbody>\n",
       "</table>\n",
       "</div>"
      ],
      "text/plain": [
       "     a     b    a     e      c\n",
       "0  1.0  10.0  1.0  10.0  100.0\n",
       "1  2.0  20.0  2.0  20.0  200.0\n",
       "2  3.0  30.0  NaN   NaN    NaN\n",
       "3  NaN   NaN  3.0  30.0  300.0"
      ]
     },
     "execution_count": 6,
     "metadata": {},
     "output_type": "execute_result"
    }
   ],
   "source": [
    "# df_1에 df_2을 열로 추가하기\n"
   ]
  },
  {
   "cell_type": "code",
   "execution_count": null,
   "id": "768c4a2e",
   "metadata": {
    "scrolled": true
   },
   "outputs": [],
   "source": [
    "# 인덱스 리셋해서 병합\n"
   ]
  },
  {
   "cell_type": "markdown",
   "id": "e40ef093",
   "metadata": {},
   "source": [
    "<p style=\"color:#fb0101;\"><b>실습: '지수명' 변수의 값이 'KTOP 30', 'KRX 100', 'KRX 300'인 데이터를 각각 df_30, df_100, df_300 객체에 저장하고 3개 객체를 모두 이어붙인 데이터프레임 객체 df_concat을 생성하시오. 이 때 df_concat 객체의 행 개수는 몇 개인가? </b></p>\n",
    "\n",
    "※ 'krx.csv' 파일을 사용하여 분석하시오.\n",
    "\n",
    "※ Pandas의 concat( ) 함수를 사용하시오."
   ]
  },
  {
   "cell_type": "code",
   "execution_count": null,
   "id": "9f17747b",
   "metadata": {
    "scrolled": true
   },
   "outputs": [],
   "source": [
    "import pandas as pd\n",
    "\n",
    "df = pd.read_csv('krx.csv')\n",
    "\n",
    "def solution():\n",
    "    print(\"???\")\n",
    "    \n",
    "solution()"
   ]
  },
  {
   "cell_type": "markdown",
   "id": "bd8a2457",
   "metadata": {},
   "source": [
    "* pd.merge( )"
   ]
  },
  {
   "cell_type": "code",
   "execution_count": null,
   "id": "07017806",
   "metadata": {
    "scrolled": true
   },
   "outputs": [],
   "source": [
    "df_1 = pd.DataFrame({'a':[1,2,3],\n",
    "                     'b':[10,20,30]})\n",
    "df_1"
   ]
  },
  {
   "cell_type": "code",
   "execution_count": null,
   "id": "44be841c",
   "metadata": {
    "scrolled": true
   },
   "outputs": [],
   "source": [
    "df_2 = pd.DataFrame({'a':[1,2,4],\n",
    "                     'd':[100,200,400]})\n",
    "df_2"
   ]
  },
  {
   "cell_type": "code",
   "execution_count": null,
   "id": "13c1a952",
   "metadata": {
    "scrolled": true
   },
   "outputs": [],
   "source": [
    "# df_1의 a 칼럼, df_2의 a 칼럼을 기준으로 inner 조인\n"
   ]
  },
  {
   "cell_type": "code",
   "execution_count": null,
   "id": "f2d55baf",
   "metadata": {
    "scrolled": true
   },
   "outputs": [],
   "source": [
    "# df_1의 a 칼럼, df_2의 a 칼럼을 기준으로 left 조인\n"
   ]
  },
  {
   "cell_type": "code",
   "execution_count": null,
   "id": "c3b6f01c",
   "metadata": {
    "scrolled": true
   },
   "outputs": [],
   "source": [
    "# df_1의 a 칼럼, df_2의 a 칼럼을 기준으로 right 조인\n"
   ]
  },
  {
   "cell_type": "markdown",
   "id": "08b8ec29",
   "metadata": {},
   "source": [
    "<p style=\"color:#fb0101;\"><b>실습: A점수(score_a)와 B점수(score_b) 정보를 활용하여 두 점수의 평균((A점수+B점수)/2)를 계산하고 가장 높은 평균 점수를 출력하시오.</b></p>\n",
    "\n",
    "※ score_a_result.csv 파일과 score_b_result.csv 파일에 공통으로 기록된 test_id의 정보만 활용하시오.\n",
    "\n",
    "※ 정수부분만 출력하시오."
   ]
  },
  {
   "cell_type": "code",
   "execution_count": null,
   "id": "9aed91f6",
   "metadata": {
    "scrolled": true
   },
   "outputs": [],
   "source": [
    "import pandas as pd\n",
    "\n",
    "df_a = pd.read_csv(\"score_a_result.csv\")\n",
    "df_b = pd.read_csv(\"score_b_result.csv\")\n",
    "\n",
    "def solution():\n",
    "    return 1\n",
    "\n",
    "solution()"
   ]
  },
  {
   "cell_type": "markdown",
   "id": "437814f9",
   "metadata": {},
   "source": [
    "### 스케일 변환"
   ]
  },
  {
   "cell_type": "markdown",
   "id": "91fe5bb6",
   "metadata": {},
   "source": [
    "* 정규화(normalization) - MinMax 정규화"
   ]
  },
  {
   "cell_type": "code",
   "execution_count": null,
   "id": "15017f29",
   "metadata": {
    "scrolled": true
   },
   "outputs": [],
   "source": [
    "df = pd.DataFrame({'A':[8, 6, 7, 7, 2, 8, 9, 8, 0, 3],\n",
    "                   'B':[14,  7,  2, 11, 10, 16,  6,  4,  9, 10]})\n",
    "df"
   ]
  },
  {
   "cell_type": "code",
   "execution_count": null,
   "id": "6c090ef5",
   "metadata": {
    "scrolled": true
   },
   "outputs": [],
   "source": [
    "# A와 B를 그냥 비교\n"
   ]
  },
  {
   "cell_type": "code",
   "execution_count": null,
   "id": "f949c273",
   "metadata": {},
   "outputs": [],
   "source": [
    "## A를 2배해서 비교\n"
   ]
  },
  {
   "cell_type": "code",
   "execution_count": null,
   "id": "864f7074",
   "metadata": {
    "scrolled": true
   },
   "outputs": [],
   "source": [
    "# MinMax 정규화 - 직접 계산\n",
    "A_n = (df['A'] - df['A'].min()) / (df['A'].max() - df['A'].min())\n",
    "B_n = (df['B'] - df['B'].min()) / (df['B'].max() - df['B'].min())\n",
    "pd.concat([df,A_n,B_n],axis=1)"
   ]
  },
  {
   "cell_type": "code",
   "execution_count": null,
   "id": "2083aab7",
   "metadata": {
    "scrolled": true
   },
   "outputs": [],
   "source": [
    "# MinMaxScaler 사용 - MinMaxScaler().fit_trainsform()\n",
    "from sklearn.preprocessing import MinMaxScaler\n",
    "\n"
   ]
  },
  {
   "cell_type": "markdown",
   "id": "47edf094",
   "metadata": {},
   "source": [
    "* 표준화(standardization)"
   ]
  },
  {
   "cell_type": "code",
   "execution_count": null,
   "id": "9750d105",
   "metadata": {
    "scrolled": true
   },
   "outputs": [],
   "source": [
    "#직접 계산\n",
    "A_s = (df['A'] - df['A'].mean()) / (df['A'].std())\n",
    "B_s = (df['B'] - df['B'].mean()) / (df['B'].std())\n",
    "pd.concat([df,A_s,B_s],axis=1)"
   ]
  },
  {
   "cell_type": "code",
   "execution_count": null,
   "id": "caad1ff8",
   "metadata": {
    "scrolled": true
   },
   "outputs": [],
   "source": [
    "# StandardScaler 사용 - StandardScaler().fit_transform()\n",
    "from sklearn.preprocessing import StandardScaler\n",
    "\n"
   ]
  },
  {
   "cell_type": "markdown",
   "id": "d9f5c433",
   "metadata": {},
   "source": [
    "## 3. 데이터 품질 검정"
   ]
  },
  {
   "cell_type": "markdown",
   "id": "7f644657",
   "metadata": {},
   "source": [
    "### 중복 검사"
   ]
  },
  {
   "cell_type": "code",
   "execution_count": null,
   "id": "4f87bfd1",
   "metadata": {
    "scrolled": true
   },
   "outputs": [],
   "source": [
    "df = pd.read_csv('krx.csv')\n",
    "df.head()"
   ]
  },
  {
   "cell_type": "markdown",
   "id": "ad6f9aaf",
   "metadata": {},
   "source": [
    "* unique(), nunique()"
   ]
  },
  {
   "cell_type": "code",
   "execution_count": null,
   "id": "e32cd2ce",
   "metadata": {
    "scrolled": true
   },
   "outputs": [],
   "source": [
    "# '지수명' 칼럼에서 개별로 구분되는 값들을 리턴\n"
   ]
  },
  {
   "cell_type": "code",
   "execution_count": null,
   "id": "0d29feb0",
   "metadata": {
    "scrolled": true
   },
   "outputs": [],
   "source": [
    "# 칼럼에서 개별로 구분되는 값들의 갯수\n"
   ]
  },
  {
   "cell_type": "code",
   "execution_count": null,
   "id": "2df54489",
   "metadata": {
    "scrolled": true
   },
   "outputs": [],
   "source": [
    "#지수명' 칼럼에서 개별로 구분되는 값들 갯수\n"
   ]
  },
  {
   "cell_type": "code",
   "execution_count": null,
   "id": "e1994113",
   "metadata": {
    "scrolled": true
   },
   "outputs": [],
   "source": [
    "# 중복 검사\n"
   ]
  },
  {
   "cell_type": "markdown",
   "id": "9ee7405e",
   "metadata": {},
   "source": [
    "### 이변수 단순 조합"
   ]
  },
  {
   "cell_type": "code",
   "execution_count": null,
   "id": "76ea98e8",
   "metadata": {
    "scrolled": true
   },
   "outputs": [],
   "source": [
    "df = pd.read_csv('DATA_test_result.csv')\n",
    "df.head()"
   ]
  },
  {
   "cell_type": "code",
   "execution_count": null,
   "id": "5a0fdfc5",
   "metadata": {
    "scrolled": true
   },
   "outputs": [],
   "source": [
    "# score_a 칼럼과 score_b 칼럼의 값을 더해서 score_sum 변수에 저장\n",
    "df['score_sum'] = df['score_a'] + df['score_b']\n",
    "df"
   ]
  },
  {
   "cell_type": "code",
   "execution_count": null,
   "id": "dbe70bb3",
   "metadata": {
    "scrolled": true
   },
   "outputs": [],
   "source": [
    "# 점수가 1000점 이상인 경우를 체크 : 1000점 이상이면 오류\n",
    "(df['score_sum'] > 1000).sum()"
   ]
  }
 ],
 "metadata": {
  "kernelspec": {
   "display_name": "Python 3 (ipykernel)",
   "language": "python",
   "name": "python3"
  },
  "language_info": {
   "codemirror_mode": {
    "name": "ipython",
    "version": 3
   },
   "file_extension": ".py",
   "mimetype": "text/x-python",
   "name": "python",
   "nbconvert_exporter": "python",
   "pygments_lexer": "ipython3",
   "version": "3.9.12"
  }
 },
 "nbformat": 4,
 "nbformat_minor": 5
}

{
 "cells": [
  {
   "cell_type": "markdown",
   "id": "502f9855",
   "metadata": {},
   "source": [
    "## 1. 파이썬 기초 문법\n",
    "### 데이터 타입"
   ]
  },
  {
   "cell_type": "markdown",
   "id": "340a296f",
   "metadata": {},
   "source": [
    "* 정수"
   ]
  },
  {
   "cell_type": "code",
   "execution_count": 1,
   "id": "a890ce0d",
   "metadata": {},
   "outputs": [
    {
     "name": "stdout",
     "output_type": "stream",
     "text": [
      "<class 'int'> 10\n"
     ]
    }
   ],
   "source": [
    "a = 10\n",
    "print(type(a), a)"
   ]
  },
  {
   "cell_type": "markdown",
   "id": "cef465be",
   "metadata": {},
   "source": [
    "* 실수"
   ]
  },
  {
   "cell_type": "code",
   "execution_count": 2,
   "id": "8827249c",
   "metadata": {},
   "outputs": [
    {
     "name": "stdout",
     "output_type": "stream",
     "text": [
      "<class 'float'> 1.2\n"
     ]
    }
   ],
   "source": [
    "a = 1.2\n",
    "print(type(a), a)"
   ]
  },
  {
   "cell_type": "markdown",
   "id": "e60f0d8f",
   "metadata": {},
   "source": [
    "* 문자열"
   ]
  },
  {
   "cell_type": "code",
   "execution_count": 5,
   "id": "eca443fc",
   "metadata": {
    "scrolled": true
   },
   "outputs": [
    {
     "name": "stdout",
     "output_type": "stream",
     "text": [
      "<class 'str'> data\n"
     ]
    }
   ],
   "source": [
    "a = 'data'\n",
    "print(type(a), a)"
   ]
  },
  {
   "cell_type": "markdown",
   "id": "48135ea5",
   "metadata": {},
   "source": [
    "<p style=\"color:#fb0101;\"><b>실습: 세 변수를 출력해 보세요</b></p>"
   ]
  },
  {
   "cell_type": "code",
   "execution_count": 6,
   "id": "7b56c6c4",
   "metadata": {},
   "outputs": [
    {
     "name": "stdout",
     "output_type": "stream",
     "text": [
      "1 2.0 3\n"
     ]
    }
   ],
   "source": [
    "i=1      #정수\n",
    "f = 2.0  #실수\n",
    "s = '3'  #문자열\n",
    "\n",
    "def solution():\n",
    "    print(i,f,s)\n",
    "    \n",
    "solution()"
   ]
  },
  {
   "cell_type": "markdown",
   "id": "3de70bd9",
   "metadata": {},
   "source": [
    "* 부울"
   ]
  },
  {
   "cell_type": "code",
   "execution_count": 7,
   "id": "d3ae75af",
   "metadata": {},
   "outputs": [
    {
     "name": "stdout",
     "output_type": "stream",
     "text": [
      "<class 'bool'> True\n"
     ]
    }
   ],
   "source": [
    "a = True\n",
    "print(type(a), a)"
   ]
  },
  {
   "cell_type": "markdown",
   "id": "de3e6cb5",
   "metadata": {},
   "source": [
    "* 정수로 변환 : int( )"
   ]
  },
  {
   "cell_type": "code",
   "execution_count": 8,
   "id": "68e759ae",
   "metadata": {},
   "outputs": [
    {
     "name": "stdout",
     "output_type": "stream",
     "text": [
      "<class 'int'> 2\n",
      "<class 'int'> 3\n"
     ]
    }
   ],
   "source": [
    "f = 2.0 #실수\n",
    "s = '3' #문자열\n",
    "\n",
    "f_to_i = int(f) #실수를 정수로\n",
    "s_to_i = int(s) #문자열을 정수로\n",
    "\n",
    "print(type(f_to_i), f_to_i)\n",
    "print(type(s_to_i), s_to_i)"
   ]
  },
  {
   "cell_type": "markdown",
   "id": "1d8ba9fb",
   "metadata": {},
   "source": [
    "* 실수로 변환 : float( )"
   ]
  },
  {
   "cell_type": "code",
   "execution_count": 9,
   "id": "6e5d624d",
   "metadata": {
    "scrolled": false
   },
   "outputs": [
    {
     "name": "stdout",
     "output_type": "stream",
     "text": [
      "<class 'float'> 1.0\n",
      "<class 'float'> 3.0\n"
     ]
    }
   ],
   "source": [
    "i = 1\n",
    "s = '3'\n",
    "\n",
    "i_to_f = float(i)\n",
    "s_to_f = float(s)\n",
    "\n",
    "print(type(i_to_f), i_to_f)\n",
    "print(type(s_to_f), s_to_f)"
   ]
  },
  {
   "cell_type": "markdown",
   "id": "a87e2769",
   "metadata": {},
   "source": [
    "* 문자열로 변환 : str( )"
   ]
  },
  {
   "cell_type": "code",
   "execution_count": 10,
   "id": "de914602",
   "metadata": {
    "scrolled": false
   },
   "outputs": [
    {
     "name": "stdout",
     "output_type": "stream",
     "text": [
      "<class 'str'> 1\n",
      "<class 'str'> 2.0\n"
     ]
    }
   ],
   "source": [
    "i = 1\n",
    "f = 2.0\n",
    "\n",
    "i_to_s = str(i)\n",
    "f_to_s = str(f)\n",
    "\n",
    "print(type(i_to_s), i_to_s)\n",
    "print(type(f_to_s), f_to_s)"
   ]
  },
  {
   "cell_type": "markdown",
   "id": "729e4738",
   "metadata": {},
   "source": [
    "<p style=\"color:#fb0101;\"><b>실습: 세 변수를 정수형, 실수형, 문자형으로 변환하여 출력해 보세요</b></p>"
   ]
  },
  {
   "cell_type": "code",
   "execution_count": 13,
   "id": "a626edd5",
   "metadata": {},
   "outputs": [
    {
     "name": "stdout",
     "output_type": "stream",
     "text": [
      "정수형 변환: 1 2\n",
      "실수형 변환: 1.0 2.0\n",
      "문자형 변환: 1 2.0\n"
     ]
    }
   ],
   "source": [
    "i=1      #정수\n",
    "f = 2.0  #실수\n",
    "s = '3'  #문자열\n",
    "\n",
    "def solution():\n",
    "    print('정수형 변환:',int(i),int(f))\n",
    "    print('실수형 변환:',float(i),float(f))\n",
    "    print('문자형 변환:',str(i),str(f))\n",
    "\n",
    "solution()"
   ]
  },
  {
   "cell_type": "markdown",
   "id": "67a57a58",
   "metadata": {},
   "source": [
    "* 에러 발생"
   ]
  },
  {
   "cell_type": "code",
   "execution_count": 16,
   "id": "608c10dc",
   "metadata": {},
   "outputs": [
    {
     "name": "stdout",
     "output_type": "stream",
     "text": [
      "3\n"
     ]
    }
   ],
   "source": [
    "s = '3.0'\n",
    "s_to_i = int(float(s))\n",
    "print(s_to_i)"
   ]
  },
  {
   "cell_type": "code",
   "execution_count": 17,
   "id": "61c4d5a0",
   "metadata": {},
   "outputs": [
    {
     "ename": "ValueError",
     "evalue": "invalid literal for int() with base 10: 'a'",
     "output_type": "error",
     "traceback": [
      "\u001b[1;31m---------------------------------------------------------------------------\u001b[0m",
      "\u001b[1;31mValueError\u001b[0m                                Traceback (most recent call last)",
      "Input \u001b[1;32mIn [17]\u001b[0m, in \u001b[0;36m<cell line: 2>\u001b[1;34m()\u001b[0m\n\u001b[0;32m      1\u001b[0m s \u001b[38;5;241m=\u001b[39m \u001b[38;5;124m'\u001b[39m\u001b[38;5;124ma\u001b[39m\u001b[38;5;124m'\u001b[39m\n\u001b[1;32m----> 2\u001b[0m s_to_i \u001b[38;5;241m=\u001b[39m \u001b[38;5;28;43mint\u001b[39;49m\u001b[43m(\u001b[49m\u001b[43ms\u001b[49m\u001b[43m)\u001b[49m\n",
      "\u001b[1;31mValueError\u001b[0m: invalid literal for int() with base 10: 'a'"
     ]
    }
   ],
   "source": [
    "s = 'a'\n",
    "s_to_i = int(s)"
   ]
  },
  {
   "cell_type": "markdown",
   "id": "a5039be3",
   "metadata": {},
   "source": [
    "### 연산자"
   ]
  },
  {
   "cell_type": "code",
   "execution_count": 18,
   "id": "bce04f6b",
   "metadata": {},
   "outputs": [
    {
     "name": "stdout",
     "output_type": "stream",
     "text": [
      "1+2 = 3\n",
      "2*3 = 6\n",
      "2/4 = 0.5\n",
      "5//2 = 2\n",
      "5%2 = 1\n",
      "2**3 = 8\n",
      "\"DA\"+\"TA\" = DATA\n",
      "\"DATA\"*3 = DATADATADATA\n",
      "2 == 2 : True\n",
      "2 > 3 : False\n"
     ]
    }
   ],
   "source": [
    "print('1+2 =',1+2)\n",
    "print('2*3 =',2*3)\n",
    "print('2/4 =',2/4)\n",
    "print('5//2 =',5//2)\n",
    "print('5%2 =',5%2)\n",
    "print('2**3 =',2**3)\n",
    "print('\"DA\"+\"TA\" =',\"DA\"+\"TA\")\n",
    "print('\"DATA\"*3 =',\"DATA\"*3)\n",
    "print(\"2 == 2 :\",2==2)\n",
    "print(\"2 > 3 :\",2>3)"
   ]
  },
  {
   "cell_type": "markdown",
   "id": "58c0a932",
   "metadata": {},
   "source": [
    "### 문자열 자르기"
   ]
  },
  {
   "cell_type": "code",
   "execution_count": 21,
   "id": "5482786f",
   "metadata": {},
   "outputs": [
    {
     "name": "stdout",
     "output_type": "stream",
     "text": [
      "A\n"
     ]
    }
   ],
   "source": [
    "a = \"DATA\"\n",
    "print(a[1])"
   ]
  },
  {
   "cell_type": "markdown",
   "id": "e425f99a",
   "metadata": {},
   "source": [
    "<p style=\"color:#fb0101;\"><b>실습: 문자열 자르기 기능을 이용해서 \"slice = SLICE\"를 출력하세요</b></p>"
   ]
  },
  {
   "cell_type": "code",
   "execution_count": null,
   "id": "37e6dfb5",
   "metadata": {},
   "outputs": [],
   "source": [
    "a = \"DATA SLICE.\"\n",
    "\n",
    "def solution():\n",
    "    print(\"slice =\",\"???\")\n",
    "    \n",
    "solution()"
   ]
  },
  {
   "cell_type": "markdown",
   "id": "4575410d",
   "metadata": {},
   "source": [
    "### 제어문"
   ]
  },
  {
   "cell_type": "markdown",
   "id": "9536784e",
   "metadata": {},
   "source": [
    "* 조건문\n",
    "\n",
    "1. 점수를 입력 받기 ( input(), int() )\n",
    "2. 90점 이상이면 입력 받은 점수와 'A'를 출력하고 다음 줄에 '축하합니다.' 출력\n",
    "3. 60점 이상 90점 미만이면 'P'를 출력\n",
    "4. 60미만이면 'F' 출력"
   ]
  },
  {
   "cell_type": "code",
   "execution_count": 23,
   "id": "5689b6c6",
   "metadata": {},
   "outputs": [
    {
     "name": "stdout",
     "output_type": "stream",
     "text": [
      "89\n",
      "P\n"
     ]
    }
   ],
   "source": [
    "score = int(input())\n",
    "\n",
    "if score>=90:\n",
    "    print(score,'A')\n",
    "    print(\"축하합니다.\")\n",
    "elif score>=60:\n",
    "    print(\"P\")\n",
    "else:\n",
    "    print(\"F\")"
   ]
  },
  {
   "cell_type": "markdown",
   "id": "b80d617a",
   "metadata": {},
   "source": [
    "* 반복문"
   ]
  },
  {
   "cell_type": "markdown",
   "id": "039c41ca",
   "metadata": {},
   "source": [
    "0부터 4까지 출력"
   ]
  },
  {
   "cell_type": "code",
   "execution_count": 24,
   "id": "c168d37f",
   "metadata": {},
   "outputs": [
    {
     "name": "stdout",
     "output_type": "stream",
     "text": [
      "0\n",
      "1\n",
      "2\n",
      "3\n",
      "4\n"
     ]
    }
   ],
   "source": [
    "for i in range(5):\n",
    "    print(i)"
   ]
  },
  {
   "cell_type": "markdown",
   "id": "d2389759",
   "metadata": {},
   "source": [
    "1부터 4까지 출력"
   ]
  },
  {
   "cell_type": "code",
   "execution_count": 25,
   "id": "a99005b6",
   "metadata": {},
   "outputs": [
    {
     "name": "stdout",
     "output_type": "stream",
     "text": [
      "1\n",
      "2\n",
      "3\n",
      "4\n"
     ]
    }
   ],
   "source": [
    "for i in range(1,5):\n",
    "    print(i)"
   ]
  },
  {
   "cell_type": "markdown",
   "id": "fe085d03",
   "metadata": {},
   "source": [
    "1부터 2씩 증가하면서 4까지 출력"
   ]
  },
  {
   "cell_type": "code",
   "execution_count": 26,
   "id": "2c49abf2",
   "metadata": {},
   "outputs": [
    {
     "name": "stdout",
     "output_type": "stream",
     "text": [
      "1\n",
      "3\n"
     ]
    }
   ],
   "source": [
    "for i in range(1,5,2):\n",
    "    print(i)"
   ]
  },
  {
   "cell_type": "markdown",
   "id": "a983f467",
   "metadata": {},
   "source": [
    "'데이터분석' 문자열을 반복문을 출력해보기"
   ]
  },
  {
   "cell_type": "code",
   "execution_count": 27,
   "id": "53590979",
   "metadata": {},
   "outputs": [
    {
     "name": "stdout",
     "output_type": "stream",
     "text": [
      "데이터분석\n",
      "데이터분석\n",
      "데이터분석\n",
      "데이터분석\n",
      "데이터분석\n"
     ]
    }
   ],
   "source": [
    "for _ in range(5):\n",
    "    print(\"데이터분석\")"
   ]
  },
  {
   "cell_type": "markdown",
   "id": "6b5dbd08",
   "metadata": {},
   "source": [
    "['데이터', '분석', '기술평가', '파이썬'] 리스트를 반복문으로 출력해보기"
   ]
  },
  {
   "cell_type": "code",
   "execution_count": 28,
   "id": "8d50f022",
   "metadata": {},
   "outputs": [
    {
     "name": "stdout",
     "output_type": "stream",
     "text": [
      "데이터\n",
      "분석\n",
      "기술평가\n",
      "파이썬\n"
     ]
    }
   ],
   "source": [
    "for s in ['데이터', '분석', '기술평가', '파이썬']:\n",
    "    print(s)"
   ]
  },
  {
   "cell_type": "markdown",
   "id": "15d69350",
   "metadata": {},
   "source": [
    "### 함수와 메서드"
   ]
  },
  {
   "cell_type": "markdown",
   "id": "3561c8a3",
   "metadata": {},
   "source": [
    "* 기본 함수\n",
    "\n",
    "round(), abs(), pow()"
   ]
  },
  {
   "cell_type": "code",
   "execution_count": null,
   "id": "d7eac69b",
   "metadata": {},
   "outputs": [],
   "source": []
  },
  {
   "cell_type": "markdown",
   "id": "f51eefbf",
   "metadata": {},
   "source": [
    "<p style=\"color:#fb0101;\"><b>실습: -12.4567를 제곱하고 반올림하여 소수점 셋째 자리까지 표기하여 출력하세요</b></p>"
   ]
  },
  {
   "cell_type": "code",
   "execution_count": null,
   "id": "52c59211",
   "metadata": {},
   "outputs": [],
   "source": [
    "a = -12.4567\n",
    "\n",
    "def solution():\n",
    "    print(\"???\")\n",
    "    \n",
    "solution()"
   ]
  },
  {
   "cell_type": "markdown",
   "id": "76531a8e",
   "metadata": {},
   "source": [
    "<p style=\"color:#fb0101;\"><b>실습: -12.4567의 절대값을 출력하세요</b></p>"
   ]
  },
  {
   "cell_type": "code",
   "execution_count": null,
   "id": "11142b96",
   "metadata": {},
   "outputs": [],
   "source": [
    "a = -12.4567\n",
    "\n",
    "def solution():\n",
    "    print(\"???\")\n",
    "    \n",
    "solution()"
   ]
  },
  {
   "cell_type": "markdown",
   "id": "f53ba656",
   "metadata": {},
   "source": [
    "* 문자열 메서드"
   ]
  },
  {
   "cell_type": "code",
   "execution_count": null,
   "id": "4b230087",
   "metadata": {},
   "outputs": [],
   "source": [
    "print(\"data Analysis\".upper())"
   ]
  },
  {
   "cell_type": "code",
   "execution_count": null,
   "id": "a8c9a057",
   "metadata": {},
   "outputs": [],
   "source": [
    "print(\"DATA Analysis\".lower())"
   ]
  },
  {
   "cell_type": "code",
   "execution_count": null,
   "id": "a4b835df",
   "metadata": {},
   "outputs": [],
   "source": [
    "print(\"DATA Analysis\".count(\"A\"))"
   ]
  },
  {
   "cell_type": "code",
   "execution_count": null,
   "id": "3cd3ff8a",
   "metadata": {},
   "outputs": [],
   "source": [
    "print(\"DATA Analysis\".find(\"T\"))"
   ]
  },
  {
   "cell_type": "markdown",
   "id": "436a2ba1",
   "metadata": {},
   "source": [
    "<p style=\"color:#fb0101;\"><b>실습: 주어진 변수a를 전체 대문자로 한 번, 전체 소문자로 한 번 한 줄로 붙여서 출력하세요</b></p>\n",
    "(실행 결과:PYTHONPANDASNUMPYpythonpandasnumpy)"
   ]
  },
  {
   "cell_type": "code",
   "execution_count": null,
   "id": "567d82f4",
   "metadata": {},
   "outputs": [],
   "source": [
    "a = \"PythonPandasNumpy\"\n",
    "\n",
    "def solution():\n",
    "    print(\"???\")\n",
    "    \n",
    "solution()"
   ]
  },
  {
   "cell_type": "markdown",
   "id": "f5c35900",
   "metadata": {},
   "source": [
    "* 사용자 정의 함수"
   ]
  },
  {
   "cell_type": "code",
   "execution_count": null,
   "id": "09c0b277",
   "metadata": {},
   "outputs": [],
   "source": [
    "# 매개변수 0개, return 0개\n"
   ]
  },
  {
   "cell_type": "code",
   "execution_count": null,
   "id": "8e30f22b",
   "metadata": {},
   "outputs": [],
   "source": [
    "# 매개변수 1개, return 0개\n"
   ]
  },
  {
   "cell_type": "code",
   "execution_count": null,
   "id": "c9f7810e",
   "metadata": {},
   "outputs": [],
   "source": [
    "# 매개변수 1개, return 1개\n"
   ]
  },
  {
   "cell_type": "code",
   "execution_count": null,
   "id": "77d787e7",
   "metadata": {},
   "outputs": [],
   "source": [
    "# 매개변수 2개, return 1개\n"
   ]
  },
  {
   "cell_type": "code",
   "execution_count": null,
   "id": "43c15811",
   "metadata": {},
   "outputs": [],
   "source": [
    "# 매개변수 2개, return 2개\n"
   ]
  },
  {
   "cell_type": "markdown",
   "id": "82d26cbe",
   "metadata": {},
   "source": [
    "### 리스트(list)"
   ]
  },
  {
   "cell_type": "markdown",
   "id": "8e342596",
   "metadata": {},
   "source": [
    "* 리스트 생성1"
   ]
  },
  {
   "cell_type": "code",
   "execution_count": null,
   "id": "34a23b73",
   "metadata": {},
   "outputs": [],
   "source": []
  },
  {
   "cell_type": "markdown",
   "id": "86bdf94b",
   "metadata": {},
   "source": [
    "* 리스트 생성2"
   ]
  },
  {
   "cell_type": "code",
   "execution_count": null,
   "id": "c9e59ff8",
   "metadata": {},
   "outputs": [],
   "source": [
    "# * 연산자 사용\n"
   ]
  },
  {
   "cell_type": "code",
   "execution_count": null,
   "id": "2d935290",
   "metadata": {},
   "outputs": [],
   "source": [
    "# + 연산자 사용\n",
    "\n",
    "print(y)"
   ]
  },
  {
   "cell_type": "markdown",
   "id": "73dbe767",
   "metadata": {},
   "source": [
    "* 리스트 슬라이싱"
   ]
  },
  {
   "cell_type": "code",
   "execution_count": null,
   "id": "e4b0f017",
   "metadata": {},
   "outputs": [],
   "source": [
    "x = [10, 20, 30, 40]\n"
   ]
  },
  {
   "cell_type": "markdown",
   "id": "9b43b4a7",
   "metadata": {},
   "source": [
    "<p style=\"color:#fb0101;\"><b>실습: 주어진 리스트에서 첫번째와 마지막 요소를 제외하고 출력하세요.</b></p>"
   ]
  },
  {
   "cell_type": "code",
   "execution_count": null,
   "id": "7d700a64",
   "metadata": {},
   "outputs": [],
   "source": [
    "x = [1,2,3,4,5,6,7]\n",
    "\n",
    "def solution():\n",
    "    print(\"???\")\n",
    "    \n",
    "solution()\n"
   ]
  },
  {
   "cell_type": "markdown",
   "id": "389ff45a",
   "metadata": {},
   "source": [
    "* 리스트 관련 함수\n",
    "\n",
    "len(), sum(), min(), max()"
   ]
  },
  {
   "cell_type": "code",
   "execution_count": null,
   "id": "33199bd7",
   "metadata": {},
   "outputs": [],
   "source": [
    "a = [1,2,3]\n"
   ]
  },
  {
   "cell_type": "markdown",
   "id": "a8c4fa1a",
   "metadata": {},
   "source": [
    "<p style=\"color:#fb0101;\"><b>실습: 주어진 리스트의 원소 개수를 출력하세요.</b></p>"
   ]
  },
  {
   "cell_type": "code",
   "execution_count": null,
   "id": "56f74958",
   "metadata": {},
   "outputs": [],
   "source": [
    "x = [1,2,3,4,5,6,7,8] * 2\n",
    "\n",
    "def solution():\n",
    "    print(\"???\")\n",
    "\n",
    "solution()"
   ]
  },
  {
   "cell_type": "markdown",
   "id": "750c3e65",
   "metadata": {},
   "source": [
    "### 튜플(tuple)"
   ]
  },
  {
   "cell_type": "markdown",
   "id": "1b0f96f1",
   "metadata": {},
   "source": [
    "* 튜플 생성"
   ]
  },
  {
   "cell_type": "code",
   "execution_count": null,
   "id": "67b00aea",
   "metadata": {},
   "outputs": [],
   "source": []
  },
  {
   "cell_type": "markdown",
   "id": "d11a6c5c",
   "metadata": {},
   "source": [
    "* 튜플 값 변경 불가"
   ]
  },
  {
   "cell_type": "code",
   "execution_count": null,
   "id": "02d24c5d",
   "metadata": {},
   "outputs": [],
   "source": [
    "a = (1,2,3)\n",
    "a[0] = 2"
   ]
  },
  {
   "cell_type": "markdown",
   "id": "a0ceb87b",
   "metadata": {},
   "source": [
    "### 딕셔너리(dictionary)"
   ]
  },
  {
   "cell_type": "markdown",
   "id": "5ffcf55d",
   "metadata": {},
   "source": [
    "* 딕셔너리 생성"
   ]
  },
  {
   "cell_type": "code",
   "execution_count": null,
   "id": "ea2d9676",
   "metadata": {},
   "outputs": [],
   "source": [
    "x_1 = {90:'A', 80:'B', 70:'C'}\n",
    "x_2 = {0:['a','b','c'], 1:['d','e','f']}\n",
    "x_3 = {'a':[1,2,3], 'b':[4,5,6]}\n",
    "\n",
    "print(x_1)\n",
    "print(x_2)\n",
    "print(x_3)"
   ]
  },
  {
   "cell_type": "markdown",
   "id": "f43b51b1",
   "metadata": {},
   "source": [
    "<p style=\"color:#fb0101;\"><b>실습: 아래 표의 내용을 참고하여 반별 인원을 저장하는 딕셔너리를 생성하세요</b></p>"
   ]
  },
  {
   "attachments": {
    "image.png": {
     "image/png": "[encoded data removed]"
    }
   },
   "cell_type": "markdown",
   "id": "32aa07f3",
   "metadata": {},
   "source": [
    "![image.png](attachment:image.png)"
   ]
  },
  {
   "cell_type": "code",
   "execution_count": null,
   "id": "de2a8ca4",
   "metadata": {},
   "outputs": [],
   "source": [
    "\n",
    "def solution():\n",
    "    return 1\n",
    "\n",
    "solution()"
   ]
  },
  {
   "cell_type": "markdown",
   "id": "9b5480e4",
   "metadata": {},
   "source": [
    "* 딕셔너리 활용"
   ]
  },
  {
   "cell_type": "code",
   "execution_count": null,
   "id": "f78b5dc9",
   "metadata": {},
   "outputs": [],
   "source": [
    "fruit = {'사과':10, '오렌지': 5, '바나나': 7}\n",
    "\n",
    "print(fruit['사과'])"
   ]
  },
  {
   "cell_type": "markdown",
   "id": "cac63ad5",
   "metadata": {},
   "source": [
    "## 2. 넘파이(NumPy)"
   ]
  },
  {
   "cell_type": "code",
   "execution_count": null,
   "id": "6b0a6e34",
   "metadata": {},
   "outputs": [],
   "source": [
    "import numpy as np"
   ]
  },
  {
   "cell_type": "markdown",
   "id": "082e1171",
   "metadata": {},
   "source": [
    "### 넘파이 배열 생성"
   ]
  },
  {
   "cell_type": "markdown",
   "id": "3593cb5d",
   "metadata": {},
   "source": [
    "* 리스트, 튜플로 생성"
   ]
  },
  {
   "cell_type": "code",
   "execution_count": null,
   "id": "1315863c",
   "metadata": {},
   "outputs": [],
   "source": [
    "# 리스트로 생성\n"
   ]
  },
  {
   "cell_type": "code",
   "execution_count": null,
   "id": "8e7d066a",
   "metadata": {},
   "outputs": [],
   "source": [
    "# 튜플로 생성\n"
   ]
  },
  {
   "cell_type": "code",
   "execution_count": null,
   "id": "17bebf0f",
   "metadata": {},
   "outputs": [],
   "source": [
    "# 2차원 배열 생성\n"
   ]
  },
  {
   "cell_type": "markdown",
   "id": "7be74d3d",
   "metadata": {},
   "source": [
    "* arange( )"
   ]
  },
  {
   "cell_type": "code",
   "execution_count": null,
   "id": "a2a869db",
   "metadata": {},
   "outputs": [],
   "source": [
    "# 0부터 5보다 작은 값까지 1씩 증가\n"
   ]
  },
  {
   "cell_type": "code",
   "execution_count": null,
   "id": "66236242",
   "metadata": {},
   "outputs": [],
   "source": [
    "#1부터 5보다 작은 값까지 1씩 증가\n"
   ]
  },
  {
   "cell_type": "code",
   "execution_count": null,
   "id": "69054afe",
   "metadata": {},
   "outputs": [],
   "source": [
    "# 0부터 10보다 작은 값까지 2씩 증가\n"
   ]
  },
  {
   "cell_type": "markdown",
   "id": "67caf901",
   "metadata": {},
   "source": [
    "* arange( )와 list(range( )) 비교"
   ]
  },
  {
   "cell_type": "code",
   "execution_count": null,
   "id": "30a4e466",
   "metadata": {},
   "outputs": [],
   "source": [
    "arr = list(range(0, 10, 2))\n",
    "arr"
   ]
  },
  {
   "cell_type": "code",
   "execution_count": null,
   "id": "35dc4164",
   "metadata": {},
   "outputs": [],
   "source": [
    "arr = np.arange(0, 5, 0.5)\n",
    "arr"
   ]
  },
  {
   "cell_type": "code",
   "execution_count": null,
   "id": "ae4ef3c8",
   "metadata": {},
   "outputs": [],
   "source": [
    "arr = list(range(0, 5 ,0.5))\n",
    "arr"
   ]
  },
  {
   "cell_type": "markdown",
   "id": "5fadcd75",
   "metadata": {},
   "source": [
    "### 인덱싱, 슬라이싱"
   ]
  },
  {
   "cell_type": "code",
   "execution_count": null,
   "id": "b00b0499",
   "metadata": {},
   "outputs": [],
   "source": [
    "arr_1 = np.array([[1,2,3],\n",
    "                  [4,5,6],\n",
    "                  [7,8,9]])\n",
    "arr_1"
   ]
  },
  {
   "cell_type": "code",
   "execution_count": null,
   "id": "3170e1e4",
   "metadata": {},
   "outputs": [],
   "source": [
    "# 1 출력\n"
   ]
  },
  {
   "cell_type": "code",
   "execution_count": null,
   "id": "75e70f18",
   "metadata": {},
   "outputs": [],
   "source": [
    "# 3 출력\n"
   ]
  },
  {
   "cell_type": "code",
   "execution_count": null,
   "id": "23c52d08",
   "metadata": {},
   "outputs": [],
   "source": [
    "# 두 번째, 세 번째 행만 출력\n"
   ]
  },
  {
   "cell_type": "code",
   "execution_count": null,
   "id": "b9cdc04e",
   "metadata": {},
   "outputs": [],
   "source": [
    "# 5 이상인 값을 출력\n"
   ]
  },
  {
   "cell_type": "markdown",
   "id": "a450ee75",
   "metadata": {},
   "source": [
    "<p style=\"color:#fb0101;\"><b>실습: 주어진 배열에 있는 0의 개수를 구하세요</b></p>"
   ]
  },
  {
   "cell_type": "code",
   "execution_count": null,
   "id": "c5b1f6c2",
   "metadata": {},
   "outputs": [],
   "source": [
    "import numpy as np\n",
    "arr = np.array([1,2,0,3,4,0,5,2,3,0,4,5,0,0,6,3,2,0,2,0,1])\n",
    "\n",
    "def solution():\n",
    "    return 1\n",
    "    \n",
    "solution()"
   ]
  },
  {
   "cell_type": "markdown",
   "id": "808e1fec",
   "metadata": {},
   "source": [
    "### 연산자 적용"
   ]
  },
  {
   "cell_type": "code",
   "execution_count": null,
   "id": "660568e5",
   "metadata": {},
   "outputs": [],
   "source": [
    "arr_1 = np.arange(1,6)\n",
    "arr_2 = np.array([1,1,1,1,1])\n",
    "print(arr_1, arr_2)"
   ]
  },
  {
   "cell_type": "code",
   "execution_count": null,
   "id": "3f80e6fe",
   "metadata": {},
   "outputs": [],
   "source": [
    "# 두 배열 더하기\n"
   ]
  },
  {
   "cell_type": "code",
   "execution_count": null,
   "id": "b9163d0a",
   "metadata": {},
   "outputs": [],
   "source": [
    "# 빼기\n"
   ]
  },
  {
   "cell_type": "code",
   "execution_count": null,
   "id": "148234e1",
   "metadata": {},
   "outputs": [],
   "source": [
    "# 곱하기\n"
   ]
  },
  {
   "cell_type": "code",
   "execution_count": null,
   "id": "54149b6b",
   "metadata": {},
   "outputs": [],
   "source": [
    "# 크기 판별\n"
   ]
  },
  {
   "cell_type": "code",
   "execution_count": null,
   "id": "bd032da8",
   "metadata": {},
   "outputs": [],
   "source": [
    "# 2 더하기\n"
   ]
  },
  {
   "cell_type": "code",
   "execution_count": null,
   "id": "0a70420c",
   "metadata": {},
   "outputs": [],
   "source": [
    "# 10 곱하기\n"
   ]
  },
  {
   "cell_type": "markdown",
   "id": "57e0a0c7",
   "metadata": {},
   "source": [
    "<p style=\"color:#fb0101;\"><b>실습: arr_1배열의 값을 두 배하면 arr_2의 같은 위치의 값보다 더 큰 경우의 개수를 구하세요 </b></p>"
   ]
  },
  {
   "cell_type": "code",
   "execution_count": null,
   "id": "89ef5390",
   "metadata": {},
   "outputs": [],
   "source": [
    "import numpy as np\n",
    "arr_1 = np.arange(1,7)\n",
    "arr_2 = np.arange(3,9)\n",
    "\n",
    "def solution():\n",
    "    return 1\n",
    "    \n",
    "solution()"
   ]
  },
  {
   "cell_type": "markdown",
   "id": "e11ffaa1",
   "metadata": {},
   "source": [
    "### 넘파이 배열 속성"
   ]
  },
  {
   "cell_type": "code",
   "execution_count": null,
   "id": "0a19c3b7",
   "metadata": {},
   "outputs": [],
   "source": [
    "arr = np.array([[1,2,3],\n",
    "                [3,4,5]])\n",
    "print(arr)\n",
    "arr.shape"
   ]
  },
  {
   "cell_type": "markdown",
   "id": "88819729",
   "metadata": {},
   "source": [
    "### 넘파이 배열 메서드"
   ]
  },
  {
   "cell_type": "code",
   "execution_count": null,
   "id": "894b53d0",
   "metadata": {},
   "outputs": [],
   "source": [
    "arr = np.array([[1.234, 20],\n",
    "                [333, -444]])\n",
    "arr"
   ]
  },
  {
   "cell_type": "markdown",
   "id": "55b5b3a4",
   "metadata": {},
   "source": [
    "round(), min(), max(), sum(), mean(), var(), std()"
   ]
  },
  {
   "cell_type": "code",
   "execution_count": null,
   "id": "8e988a32",
   "metadata": {},
   "outputs": [],
   "source": []
  },
  {
   "cell_type": "markdown",
   "id": "6a00c13e",
   "metadata": {},
   "source": [
    "* 넘파이 함수"
   ]
  },
  {
   "cell_type": "code",
   "execution_count": null,
   "id": "b0e408d7",
   "metadata": {},
   "outputs": [],
   "source": [
    "arr = np.arange(-3,4)\n",
    "arr"
   ]
  },
  {
   "cell_type": "markdown",
   "id": "3334351a",
   "metadata": {},
   "source": [
    "where(), abs()"
   ]
  },
  {
   "cell_type": "code",
   "execution_count": null,
   "id": "c40cd811",
   "metadata": {},
   "outputs": [],
   "source": []
  },
  {
   "cell_type": "markdown",
   "id": "8164f7c0",
   "metadata": {},
   "source": [
    "<p style=\"color:#fb0101;\"><b>실습: 다음과 같은 Numpy array 객체가 있을 때 최초 3개의 원소는 True이고 나머지 원소는 False로 하는 array를 출력하도록 NumPy의 함수를 활용하여 코드를 작성하시오.</b></p>\n",
    "\n",
    "※ Numpy의 where() 함수를 사용하시오.\n",
    "\n",
    "※ 10보다 작은 숫자는 True, 나머지는 False로 변화되도록 하시오."
   ]
  },
  {
   "cell_type": "code",
   "execution_count": 7,
   "id": "ab967d2f",
   "metadata": {},
   "outputs": [
    {
     "name": "stdout",
     "output_type": "stream",
     "text": [
      "[ True  True  True False False False False]\n"
     ]
    }
   ],
   "source": [
    "import numpy as np\n",
    "\n",
    "arr = np.array([4,2,5,15,34,66,90])\n",
    "def solution():\n",
    "    b = np.where(arr<10,True,False)\n",
    "    return b\n",
    "b = solution()\n",
    "print(b)"
   ]
  },
  {
   "cell_type": "markdown",
   "id": "9e8e96de",
   "metadata": {},
   "source": [
    "### random"
   ]
  },
  {
   "cell_type": "code",
   "execution_count": null,
   "id": "8698786c",
   "metadata": {},
   "outputs": [],
   "source": [
    "# 난수 발생\n"
   ]
  },
  {
   "cell_type": "code",
   "execution_count": null,
   "id": "eb1253e4",
   "metadata": {},
   "outputs": [],
   "source": [
    "# 난수 세트 고정\n"
   ]
  },
  {
   "cell_type": "markdown",
   "id": "703caa4f",
   "metadata": {},
   "source": [
    "## 3. 판다스(pandas)"
   ]
  },
  {
   "cell_type": "code",
   "execution_count": 10,
   "id": "ca9435f9",
   "metadata": {},
   "outputs": [],
   "source": [
    "import pandas as pd\n",
    "import numpy as np"
   ]
  },
  {
   "cell_type": "markdown",
   "id": "5dc84422",
   "metadata": {},
   "source": [
    "### Series"
   ]
  },
  {
   "cell_type": "code",
   "execution_count": 18,
   "id": "c4aeed11",
   "metadata": {},
   "outputs": [
    {
     "data": {
      "text/plain": [
       "0    2\n",
       "1    3\n",
       "2    4\n",
       "3    5\n",
       "4    6\n",
       "5    7\n",
       "6    8\n",
       "7    9\n",
       "dtype: int32"
      ]
     },
     "execution_count": 18,
     "metadata": {},
     "output_type": "execute_result"
    }
   ],
   "source": [
    "ser = pd.Series(np.arange(2,10))\n",
    "ser"
   ]
  },
  {
   "cell_type": "code",
   "execution_count": 19,
   "id": "74289cf3",
   "metadata": {},
   "outputs": [
    {
     "data": {
      "text/plain": [
       "dtype('int32')"
      ]
     },
     "execution_count": 19,
     "metadata": {},
     "output_type": "execute_result"
    }
   ],
   "source": [
    "ser.dtype"
   ]
  },
  {
   "cell_type": "markdown",
   "id": "dc476100",
   "metadata": {},
   "source": [
    "### 데이터프레임 생성"
   ]
  },
  {
   "cell_type": "markdown",
   "id": "76598d58",
   "metadata": {},
   "source": [
    "* 리스트로 생성"
   ]
  },
  {
   "cell_type": "code",
   "execution_count": 24,
   "id": "940caf04",
   "metadata": {},
   "outputs": [
    {
     "data": {
      "text/html": [
       "<div>\n",
       "<style scoped>\n",
       "    .dataframe tbody tr th:only-of-type {\n",
       "        vertical-align: middle;\n",
       "    }\n",
       "\n",
       "    .dataframe tbody tr th {\n",
       "        vertical-align: top;\n",
       "    }\n",
       "\n",
       "    .dataframe thead th {\n",
       "        text-align: right;\n",
       "    }\n",
       "</style>\n",
       "<table border=\"1\" class=\"dataframe\">\n",
       "  <thead>\n",
       "    <tr style=\"text-align: right;\">\n",
       "      <th></th>\n",
       "      <th>0</th>\n",
       "      <th>1</th>\n",
       "      <th>2</th>\n",
       "    </tr>\n",
       "  </thead>\n",
       "  <tbody>\n",
       "    <tr>\n",
       "      <th>0</th>\n",
       "      <td>1</td>\n",
       "      <td>2</td>\n",
       "      <td>3</td>\n",
       "    </tr>\n",
       "    <tr>\n",
       "      <th>1</th>\n",
       "      <td>4</td>\n",
       "      <td>5</td>\n",
       "      <td>6</td>\n",
       "    </tr>\n",
       "  </tbody>\n",
       "</table>\n",
       "</div>"
      ],
      "text/plain": [
       "   0  1  2\n",
       "0  1  2  3\n",
       "1  4  5  6"
      ]
     },
     "execution_count": 24,
     "metadata": {},
     "output_type": "execute_result"
    }
   ],
   "source": [
    "# 값만 지정\n",
    "df = pd.DataFrame([[1,2,3],[4,5,6]])\n",
    "df"
   ]
  },
  {
   "cell_type": "code",
   "execution_count": 31,
   "id": "855b0eeb",
   "metadata": {},
   "outputs": [
    {
     "data": {
      "text/html": [
       "<div>\n",
       "<style scoped>\n",
       "    .dataframe tbody tr th:only-of-type {\n",
       "        vertical-align: middle;\n",
       "    }\n",
       "\n",
       "    .dataframe tbody tr th {\n",
       "        vertical-align: top;\n",
       "    }\n",
       "\n",
       "    .dataframe thead th {\n",
       "        text-align: right;\n",
       "    }\n",
       "</style>\n",
       "<table border=\"1\" class=\"dataframe\">\n",
       "  <thead>\n",
       "    <tr style=\"text-align: right;\">\n",
       "      <th></th>\n",
       "      <th>A</th>\n",
       "      <th>B</th>\n",
       "      <th>C</th>\n",
       "    </tr>\n",
       "  </thead>\n",
       "  <tbody>\n",
       "    <tr>\n",
       "      <th>0</th>\n",
       "      <td>1</td>\n",
       "      <td>2</td>\n",
       "      <td>3</td>\n",
       "    </tr>\n",
       "    <tr>\n",
       "      <th>1</th>\n",
       "      <td>4</td>\n",
       "      <td>5</td>\n",
       "      <td>6</td>\n",
       "    </tr>\n",
       "  </tbody>\n",
       "</table>\n",
       "</div>"
      ],
      "text/plain": [
       "   A  B  C\n",
       "0  1  2  3\n",
       "1  4  5  6"
      ]
     },
     "execution_count": 31,
     "metadata": {},
     "output_type": "execute_result"
    }
   ],
   "source": [
    "# 칼럼명 지정\n",
    "#df.columns = ['1번','2번','3번']\n",
    "df = pd.DataFrame([[1,2,3],[4,5,6]], columns = ['A','B','C'])\n",
    "df"
   ]
  },
  {
   "cell_type": "markdown",
   "id": "32a48d0b",
   "metadata": {},
   "source": [
    "* 딕셔너리로 생성"
   ]
  },
  {
   "cell_type": "code",
   "execution_count": 33,
   "id": "d7eb2343",
   "metadata": {},
   "outputs": [
    {
     "data": {
      "text/html": [
       "<div>\n",
       "<style scoped>\n",
       "    .dataframe tbody tr th:only-of-type {\n",
       "        vertical-align: middle;\n",
       "    }\n",
       "\n",
       "    .dataframe tbody tr th {\n",
       "        vertical-align: top;\n",
       "    }\n",
       "\n",
       "    .dataframe thead th {\n",
       "        text-align: right;\n",
       "    }\n",
       "</style>\n",
       "<table border=\"1\" class=\"dataframe\">\n",
       "  <thead>\n",
       "    <tr style=\"text-align: right;\">\n",
       "      <th></th>\n",
       "      <th>A</th>\n",
       "      <th>B</th>\n",
       "      <th>C</th>\n",
       "    </tr>\n",
       "  </thead>\n",
       "  <tbody>\n",
       "    <tr>\n",
       "      <th>0</th>\n",
       "      <td>1</td>\n",
       "      <td>2</td>\n",
       "      <td>3</td>\n",
       "    </tr>\n",
       "    <tr>\n",
       "      <th>1</th>\n",
       "      <td>4</td>\n",
       "      <td>5</td>\n",
       "      <td>6</td>\n",
       "    </tr>\n",
       "  </tbody>\n",
       "</table>\n",
       "</div>"
      ],
      "text/plain": [
       "   A  B  C\n",
       "0  1  2  3\n",
       "1  4  5  6"
      ]
     },
     "execution_count": 33,
     "metadata": {},
     "output_type": "execute_result"
    }
   ],
   "source": [
    "df = pd.DataFrame({'A':[1,4],'B':[2,5],'C':[3,6]}) #열 단위로 생성\n",
    "df"
   ]
  },
  {
   "cell_type": "markdown",
   "id": "c326111f",
   "metadata": {},
   "source": [
    "<p style=\"color:#fb0101;\"><b>실습: arr_1 배열을 칼럼명 'a'로 arr_2 배열을 칼럼명 'b'로 하여 데이터프레임을 생성하고 생성한 데이터프레임의 row 개수를 구하세요 </b></p>"
   ]
  },
  {
   "cell_type": "code",
   "execution_count": 60,
   "id": "6ddeecf2",
   "metadata": {},
   "outputs": [
    {
     "data": {
      "text/plain": [
       "6"
      ]
     },
     "execution_count": 60,
     "metadata": {},
     "output_type": "execute_result"
    }
   ],
   "source": [
    "import numpy as np\n",
    "import pandas as pd\n",
    "\n",
    "arr_1 = np.arange(1,7)\n",
    "arr_2 = np.arange(3,9)\n",
    "\n",
    "df = pd.DataFrame({'a':arr_1,'b':arr_2})\n",
    "len(df.index)"
   ]
  },
  {
   "cell_type": "markdown",
   "id": "d12bfec1",
   "metadata": {},
   "source": [
    "* 파일 데이터로 생성"
   ]
  },
  {
   "cell_type": "markdown",
   "id": "135ca9b6",
   "metadata": {},
   "source": [
    "    - 현재 작업 폴더 경로 탐색 : pwd"
   ]
  },
  {
   "cell_type": "code",
   "execution_count": 61,
   "id": "9b7bfae9",
   "metadata": {},
   "outputs": [
    {
     "data": {
      "text/plain": [
       "'C:\\\\Users\\\\HaNbiN\\\\Desktop\\\\Github\\\\Data-analysis\\\\YBM 데이터분석 2급'"
      ]
     },
     "execution_count": 61,
     "metadata": {},
     "output_type": "execute_result"
    }
   ],
   "source": [
    "pwd"
   ]
  },
  {
   "cell_type": "code",
   "execution_count": 42,
   "id": "4043dd5b",
   "metadata": {},
   "outputs": [
    {
     "data": {
      "text/html": [
       "<div>\n",
       "<style scoped>\n",
       "    .dataframe tbody tr th:only-of-type {\n",
       "        vertical-align: middle;\n",
       "    }\n",
       "\n",
       "    .dataframe tbody tr th {\n",
       "        vertical-align: top;\n",
       "    }\n",
       "\n",
       "    .dataframe thead th {\n",
       "        text-align: right;\n",
       "    }\n",
       "</style>\n",
       "<table border=\"1\" class=\"dataframe\">\n",
       "  <thead>\n",
       "    <tr style=\"text-align: right;\">\n",
       "      <th></th>\n",
       "      <th>test_id</th>\n",
       "      <th>score_a</th>\n",
       "      <th>score_b</th>\n",
       "    </tr>\n",
       "  </thead>\n",
       "  <tbody>\n",
       "    <tr>\n",
       "      <th>0</th>\n",
       "      <td>1</td>\n",
       "      <td>300</td>\n",
       "      <td>500</td>\n",
       "    </tr>\n",
       "    <tr>\n",
       "      <th>1</th>\n",
       "      <td>2</td>\n",
       "      <td>230</td>\n",
       "      <td>540</td>\n",
       "    </tr>\n",
       "    <tr>\n",
       "      <th>2</th>\n",
       "      <td>3</td>\n",
       "      <td>160</td>\n",
       "      <td>230</td>\n",
       "    </tr>\n",
       "    <tr>\n",
       "      <th>3</th>\n",
       "      <td>4</td>\n",
       "      <td>250</td>\n",
       "      <td>300</td>\n",
       "    </tr>\n",
       "    <tr>\n",
       "      <th>4</th>\n",
       "      <td>5</td>\n",
       "      <td>360</td>\n",
       "      <td>700</td>\n",
       "    </tr>\n",
       "    <tr>\n",
       "      <th>5</th>\n",
       "      <td>6</td>\n",
       "      <td>180</td>\n",
       "      <td>620</td>\n",
       "    </tr>\n",
       "    <tr>\n",
       "      <th>6</th>\n",
       "      <td>7</td>\n",
       "      <td>130</td>\n",
       "      <td>360</td>\n",
       "    </tr>\n",
       "    <tr>\n",
       "      <th>7</th>\n",
       "      <td>8</td>\n",
       "      <td>200</td>\n",
       "      <td>420</td>\n",
       "    </tr>\n",
       "    <tr>\n",
       "      <th>8</th>\n",
       "      <td>9</td>\n",
       "      <td>290</td>\n",
       "      <td>120</td>\n",
       "    </tr>\n",
       "    <tr>\n",
       "      <th>9</th>\n",
       "      <td>10</td>\n",
       "      <td>120</td>\n",
       "      <td>0</td>\n",
       "    </tr>\n",
       "  </tbody>\n",
       "</table>\n",
       "</div>"
      ],
      "text/plain": [
       "   test_id  score_a  score_b\n",
       "0        1      300      500\n",
       "1        2      230      540\n",
       "2        3      160      230\n",
       "3        4      250      300\n",
       "4        5      360      700\n",
       "5        6      180      620\n",
       "6        7      130      360\n",
       "7        8      200      420\n",
       "8        9      290      120\n",
       "9       10      120        0"
      ]
     },
     "execution_count": 42,
     "metadata": {},
     "output_type": "execute_result"
    }
   ],
   "source": [
    "#  DATA_test_result.csv 로 데이터프레임 생성\n",
    "df = pd.read_csv('data/DATA_test_result.csv')\n",
    "df"
   ]
  },
  {
   "cell_type": "code",
   "execution_count": 45,
   "id": "bc175693",
   "metadata": {},
   "outputs": [
    {
     "data": {
      "text/html": [
       "<div>\n",
       "<style scoped>\n",
       "    .dataframe tbody tr th:only-of-type {\n",
       "        vertical-align: middle;\n",
       "    }\n",
       "\n",
       "    .dataframe tbody tr th {\n",
       "        vertical-align: top;\n",
       "    }\n",
       "\n",
       "    .dataframe thead th {\n",
       "        text-align: right;\n",
       "    }\n",
       "</style>\n",
       "<table border=\"1\" class=\"dataframe\">\n",
       "  <thead>\n",
       "    <tr style=\"text-align: right;\">\n",
       "      <th></th>\n",
       "      <th>Sepal.Length</th>\n",
       "      <th>Sepal.Width</th>\n",
       "      <th>Petal.Length</th>\n",
       "      <th>Petal.Width</th>\n",
       "      <th>Species</th>\n",
       "    </tr>\n",
       "  </thead>\n",
       "  <tbody>\n",
       "    <tr>\n",
       "      <th>0</th>\n",
       "      <td>5.1</td>\n",
       "      <td>3.5</td>\n",
       "      <td>1.4</td>\n",
       "      <td>0.2</td>\n",
       "      <td>setosa</td>\n",
       "    </tr>\n",
       "    <tr>\n",
       "      <th>1</th>\n",
       "      <td>4.9</td>\n",
       "      <td>3.0</td>\n",
       "      <td>1.4</td>\n",
       "      <td>0.2</td>\n",
       "      <td>setosa</td>\n",
       "    </tr>\n",
       "    <tr>\n",
       "      <th>2</th>\n",
       "      <td>4.7</td>\n",
       "      <td>3.2</td>\n",
       "      <td>1.3</td>\n",
       "      <td>0.2</td>\n",
       "      <td>setosa</td>\n",
       "    </tr>\n",
       "    <tr>\n",
       "      <th>3</th>\n",
       "      <td>4.6</td>\n",
       "      <td>3.1</td>\n",
       "      <td>1.5</td>\n",
       "      <td>0.2</td>\n",
       "      <td>setosa</td>\n",
       "    </tr>\n",
       "    <tr>\n",
       "      <th>4</th>\n",
       "      <td>5.0</td>\n",
       "      <td>3.6</td>\n",
       "      <td>1.4</td>\n",
       "      <td>0.2</td>\n",
       "      <td>setosa</td>\n",
       "    </tr>\n",
       "    <tr>\n",
       "      <th>...</th>\n",
       "      <td>...</td>\n",
       "      <td>...</td>\n",
       "      <td>...</td>\n",
       "      <td>...</td>\n",
       "      <td>...</td>\n",
       "    </tr>\n",
       "    <tr>\n",
       "      <th>145</th>\n",
       "      <td>6.7</td>\n",
       "      <td>3.0</td>\n",
       "      <td>5.2</td>\n",
       "      <td>2.3</td>\n",
       "      <td>virginica</td>\n",
       "    </tr>\n",
       "    <tr>\n",
       "      <th>146</th>\n",
       "      <td>6.3</td>\n",
       "      <td>2.5</td>\n",
       "      <td>5.0</td>\n",
       "      <td>1.9</td>\n",
       "      <td>virginica</td>\n",
       "    </tr>\n",
       "    <tr>\n",
       "      <th>147</th>\n",
       "      <td>6.5</td>\n",
       "      <td>3.0</td>\n",
       "      <td>5.2</td>\n",
       "      <td>2.0</td>\n",
       "      <td>virginica</td>\n",
       "    </tr>\n",
       "    <tr>\n",
       "      <th>148</th>\n",
       "      <td>6.2</td>\n",
       "      <td>3.4</td>\n",
       "      <td>5.4</td>\n",
       "      <td>2.3</td>\n",
       "      <td>virginica</td>\n",
       "    </tr>\n",
       "    <tr>\n",
       "      <th>149</th>\n",
       "      <td>5.9</td>\n",
       "      <td>3.0</td>\n",
       "      <td>5.1</td>\n",
       "      <td>1.8</td>\n",
       "      <td>virginica</td>\n",
       "    </tr>\n",
       "  </tbody>\n",
       "</table>\n",
       "<p>150 rows × 5 columns</p>\n",
       "</div>"
      ],
      "text/plain": [
       "     Sepal.Length  Sepal.Width  Petal.Length  Petal.Width    Species\n",
       "0             5.1          3.5           1.4          0.2     setosa\n",
       "1             4.9          3.0           1.4          0.2     setosa\n",
       "2             4.7          3.2           1.3          0.2     setosa\n",
       "3             4.6          3.1           1.5          0.2     setosa\n",
       "4             5.0          3.6           1.4          0.2     setosa\n",
       "..            ...          ...           ...          ...        ...\n",
       "145           6.7          3.0           5.2          2.3  virginica\n",
       "146           6.3          2.5           5.0          1.9  virginica\n",
       "147           6.5          3.0           5.2          2.0  virginica\n",
       "148           6.2          3.4           5.4          2.3  virginica\n",
       "149           5.9          3.0           5.1          1.8  virginica\n",
       "\n",
       "[150 rows x 5 columns]"
      ]
     },
     "execution_count": 45,
     "metadata": {},
     "output_type": "execute_result"
    }
   ],
   "source": [
    "# iris.xlsx 로 데이터프레임 생성\n",
    "df = pd.read_excel('data/iris.xlsx')\n",
    "df"
   ]
  },
  {
   "cell_type": "markdown",
   "id": "03a1f374",
   "metadata": {},
   "source": [
    "### 데이터프레임 속성"
   ]
  },
  {
   "cell_type": "code",
   "execution_count": 94,
   "id": "4e433922",
   "metadata": {},
   "outputs": [
    {
     "data": {
      "text/html": [
       "<div>\n",
       "<style scoped>\n",
       "    .dataframe tbody tr th:only-of-type {\n",
       "        vertical-align: middle;\n",
       "    }\n",
       "\n",
       "    .dataframe tbody tr th {\n",
       "        vertical-align: top;\n",
       "    }\n",
       "\n",
       "    .dataframe thead th {\n",
       "        text-align: right;\n",
       "    }\n",
       "</style>\n",
       "<table border=\"1\" class=\"dataframe\">\n",
       "  <thead>\n",
       "    <tr style=\"text-align: right;\">\n",
       "      <th></th>\n",
       "      <th>test_id</th>\n",
       "      <th>score_a</th>\n",
       "      <th>score_b</th>\n",
       "    </tr>\n",
       "  </thead>\n",
       "  <tbody>\n",
       "    <tr>\n",
       "      <th>0</th>\n",
       "      <td>1</td>\n",
       "      <td>300</td>\n",
       "      <td>500</td>\n",
       "    </tr>\n",
       "    <tr>\n",
       "      <th>1</th>\n",
       "      <td>2</td>\n",
       "      <td>230</td>\n",
       "      <td>540</td>\n",
       "    </tr>\n",
       "    <tr>\n",
       "      <th>2</th>\n",
       "      <td>3</td>\n",
       "      <td>160</td>\n",
       "      <td>230</td>\n",
       "    </tr>\n",
       "    <tr>\n",
       "      <th>3</th>\n",
       "      <td>4</td>\n",
       "      <td>250</td>\n",
       "      <td>300</td>\n",
       "    </tr>\n",
       "    <tr>\n",
       "      <th>4</th>\n",
       "      <td>5</td>\n",
       "      <td>360</td>\n",
       "      <td>700</td>\n",
       "    </tr>\n",
       "    <tr>\n",
       "      <th>5</th>\n",
       "      <td>6</td>\n",
       "      <td>180</td>\n",
       "      <td>620</td>\n",
       "    </tr>\n",
       "    <tr>\n",
       "      <th>6</th>\n",
       "      <td>7</td>\n",
       "      <td>130</td>\n",
       "      <td>360</td>\n",
       "    </tr>\n",
       "    <tr>\n",
       "      <th>7</th>\n",
       "      <td>8</td>\n",
       "      <td>200</td>\n",
       "      <td>420</td>\n",
       "    </tr>\n",
       "    <tr>\n",
       "      <th>8</th>\n",
       "      <td>9</td>\n",
       "      <td>290</td>\n",
       "      <td>120</td>\n",
       "    </tr>\n",
       "    <tr>\n",
       "      <th>9</th>\n",
       "      <td>10</td>\n",
       "      <td>120</td>\n",
       "      <td>0</td>\n",
       "    </tr>\n",
       "  </tbody>\n",
       "</table>\n",
       "</div>"
      ],
      "text/plain": [
       "   test_id  score_a  score_b\n",
       "0        1      300      500\n",
       "1        2      230      540\n",
       "2        3      160      230\n",
       "3        4      250      300\n",
       "4        5      360      700\n",
       "5        6      180      620\n",
       "6        7      130      360\n",
       "7        8      200      420\n",
       "8        9      290      120\n",
       "9       10      120        0"
      ]
     },
     "execution_count": 94,
     "metadata": {},
     "output_type": "execute_result"
    }
   ],
   "source": [
    "df = pd.read_csv('data/DATA_test_result.csv')\n",
    "df"
   ]
  },
  {
   "cell_type": "code",
   "execution_count": 68,
   "id": "39a49da6",
   "metadata": {},
   "outputs": [
    {
     "data": {
      "text/plain": [
       "RangeIndex(start=0, stop=10, step=1)"
      ]
     },
     "execution_count": 68,
     "metadata": {},
     "output_type": "execute_result"
    }
   ],
   "source": [
    "# 행, 열 구성\n",
    "df.index"
   ]
  },
  {
   "cell_type": "code",
   "execution_count": 69,
   "id": "44ed6f77",
   "metadata": {},
   "outputs": [
    {
     "data": {
      "text/plain": [
       "Index(['test_id', 'score_a', 'score_b'], dtype='object')"
      ]
     },
     "execution_count": 69,
     "metadata": {},
     "output_type": "execute_result"
    }
   ],
   "source": [
    "# 칼럼명\n",
    "df.columns"
   ]
  },
  {
   "cell_type": "markdown",
   "id": "e38aad6f",
   "metadata": {},
   "source": [
    "### 데이터프레임 메서드"
   ]
  },
  {
   "cell_type": "markdown",
   "id": "0a8becbe",
   "metadata": {},
   "source": [
    "head(), tail(), info()"
   ]
  },
  {
   "cell_type": "code",
   "execution_count": 70,
   "id": "aa1ca9ba",
   "metadata": {},
   "outputs": [
    {
     "data": {
      "text/html": [
       "<div>\n",
       "<style scoped>\n",
       "    .dataframe tbody tr th:only-of-type {\n",
       "        vertical-align: middle;\n",
       "    }\n",
       "\n",
       "    .dataframe tbody tr th {\n",
       "        vertical-align: top;\n",
       "    }\n",
       "\n",
       "    .dataframe thead th {\n",
       "        text-align: right;\n",
       "    }\n",
       "</style>\n",
       "<table border=\"1\" class=\"dataframe\">\n",
       "  <thead>\n",
       "    <tr style=\"text-align: right;\">\n",
       "      <th></th>\n",
       "      <th>test_id</th>\n",
       "      <th>score_a</th>\n",
       "      <th>score_b</th>\n",
       "    </tr>\n",
       "  </thead>\n",
       "  <tbody>\n",
       "    <tr>\n",
       "      <th>0</th>\n",
       "      <td>1</td>\n",
       "      <td>300</td>\n",
       "      <td>500</td>\n",
       "    </tr>\n",
       "    <tr>\n",
       "      <th>1</th>\n",
       "      <td>2</td>\n",
       "      <td>230</td>\n",
       "      <td>540</td>\n",
       "    </tr>\n",
       "    <tr>\n",
       "      <th>2</th>\n",
       "      <td>3</td>\n",
       "      <td>160</td>\n",
       "      <td>230</td>\n",
       "    </tr>\n",
       "    <tr>\n",
       "      <th>3</th>\n",
       "      <td>4</td>\n",
       "      <td>250</td>\n",
       "      <td>300</td>\n",
       "    </tr>\n",
       "    <tr>\n",
       "      <th>4</th>\n",
       "      <td>5</td>\n",
       "      <td>360</td>\n",
       "      <td>700</td>\n",
       "    </tr>\n",
       "  </tbody>\n",
       "</table>\n",
       "</div>"
      ],
      "text/plain": [
       "   test_id  score_a  score_b\n",
       "0        1      300      500\n",
       "1        2      230      540\n",
       "2        3      160      230\n",
       "3        4      250      300\n",
       "4        5      360      700"
      ]
     },
     "execution_count": 70,
     "metadata": {},
     "output_type": "execute_result"
    }
   ],
   "source": [
    "df.head()"
   ]
  },
  {
   "cell_type": "markdown",
   "id": "b99ef743",
   "metadata": {},
   "source": [
    "칼럼 지정"
   ]
  },
  {
   "cell_type": "code",
   "execution_count": 71,
   "id": "d76b4d8b",
   "metadata": {},
   "outputs": [
    {
     "data": {
      "text/html": [
       "<div>\n",
       "<style scoped>\n",
       "    .dataframe tbody tr th:only-of-type {\n",
       "        vertical-align: middle;\n",
       "    }\n",
       "\n",
       "    .dataframe tbody tr th {\n",
       "        vertical-align: top;\n",
       "    }\n",
       "\n",
       "    .dataframe thead th {\n",
       "        text-align: right;\n",
       "    }\n",
       "</style>\n",
       "<table border=\"1\" class=\"dataframe\">\n",
       "  <thead>\n",
       "    <tr style=\"text-align: right;\">\n",
       "      <th></th>\n",
       "      <th>id</th>\n",
       "      <th>score_a</th>\n",
       "      <th>score_b</th>\n",
       "    </tr>\n",
       "  </thead>\n",
       "  <tbody>\n",
       "    <tr>\n",
       "      <th>0</th>\n",
       "      <td>1</td>\n",
       "      <td>300</td>\n",
       "      <td>500</td>\n",
       "    </tr>\n",
       "    <tr>\n",
       "      <th>1</th>\n",
       "      <td>2</td>\n",
       "      <td>230</td>\n",
       "      <td>540</td>\n",
       "    </tr>\n",
       "    <tr>\n",
       "      <th>2</th>\n",
       "      <td>3</td>\n",
       "      <td>160</td>\n",
       "      <td>230</td>\n",
       "    </tr>\n",
       "    <tr>\n",
       "      <th>3</th>\n",
       "      <td>4</td>\n",
       "      <td>250</td>\n",
       "      <td>300</td>\n",
       "    </tr>\n",
       "    <tr>\n",
       "      <th>4</th>\n",
       "      <td>5</td>\n",
       "      <td>360</td>\n",
       "      <td>700</td>\n",
       "    </tr>\n",
       "    <tr>\n",
       "      <th>5</th>\n",
       "      <td>6</td>\n",
       "      <td>180</td>\n",
       "      <td>620</td>\n",
       "    </tr>\n",
       "    <tr>\n",
       "      <th>6</th>\n",
       "      <td>7</td>\n",
       "      <td>130</td>\n",
       "      <td>360</td>\n",
       "    </tr>\n",
       "    <tr>\n",
       "      <th>7</th>\n",
       "      <td>8</td>\n",
       "      <td>200</td>\n",
       "      <td>420</td>\n",
       "    </tr>\n",
       "    <tr>\n",
       "      <th>8</th>\n",
       "      <td>9</td>\n",
       "      <td>290</td>\n",
       "      <td>120</td>\n",
       "    </tr>\n",
       "    <tr>\n",
       "      <th>9</th>\n",
       "      <td>10</td>\n",
       "      <td>120</td>\n",
       "      <td>0</td>\n",
       "    </tr>\n",
       "  </tbody>\n",
       "</table>\n",
       "</div>"
      ],
      "text/plain": [
       "   id  score_a  score_b\n",
       "0   1      300      500\n",
       "1   2      230      540\n",
       "2   3      160      230\n",
       "3   4      250      300\n",
       "4   5      360      700\n",
       "5   6      180      620\n",
       "6   7      130      360\n",
       "7   8      200      420\n",
       "8   9      290      120\n",
       "9  10      120        0"
      ]
     },
     "execution_count": 71,
     "metadata": {},
     "output_type": "execute_result"
    }
   ],
   "source": [
    "df.columns = ['id','score_a','score_b']\n",
    "df"
   ]
  },
  {
   "cell_type": "markdown",
   "id": "e344616e",
   "metadata": {},
   "source": [
    "행 지정"
   ]
  },
  {
   "cell_type": "code",
   "execution_count": 86,
   "id": "35d39ba7",
   "metadata": {},
   "outputs": [
    {
     "data": {
      "text/html": [
       "<div>\n",
       "<style scoped>\n",
       "    .dataframe tbody tr th:only-of-type {\n",
       "        vertical-align: middle;\n",
       "    }\n",
       "\n",
       "    .dataframe tbody tr th {\n",
       "        vertical-align: top;\n",
       "    }\n",
       "\n",
       "    .dataframe thead th {\n",
       "        text-align: right;\n",
       "    }\n",
       "</style>\n",
       "<table border=\"1\" class=\"dataframe\">\n",
       "  <thead>\n",
       "    <tr style=\"text-align: right;\">\n",
       "      <th></th>\n",
       "      <th>id</th>\n",
       "      <th>score_a</th>\n",
       "      <th>score_b</th>\n",
       "    </tr>\n",
       "  </thead>\n",
       "  <tbody>\n",
       "    <tr>\n",
       "      <th>1</th>\n",
       "      <td>2</td>\n",
       "      <td>230</td>\n",
       "      <td>540</td>\n",
       "    </tr>\n",
       "    <tr>\n",
       "      <th>2</th>\n",
       "      <td>3</td>\n",
       "      <td>160</td>\n",
       "      <td>230</td>\n",
       "    </tr>\n",
       "    <tr>\n",
       "      <th>3</th>\n",
       "      <td>4</td>\n",
       "      <td>250</td>\n",
       "      <td>300</td>\n",
       "    </tr>\n",
       "    <tr>\n",
       "      <th>4</th>\n",
       "      <td>5</td>\n",
       "      <td>360</td>\n",
       "      <td>700</td>\n",
       "    </tr>\n",
       "    <tr>\n",
       "      <th>5</th>\n",
       "      <td>6</td>\n",
       "      <td>180</td>\n",
       "      <td>620</td>\n",
       "    </tr>\n",
       "  </tbody>\n",
       "</table>\n",
       "</div>"
      ],
      "text/plain": [
       "   id  score_a  score_b\n",
       "1   2      230      540\n",
       "2   3      160      230\n",
       "3   4      250      300\n",
       "4   5      360      700\n",
       "5   6      180      620"
      ]
     },
     "execution_count": 86,
     "metadata": {},
     "output_type": "execute_result"
    }
   ],
   "source": [
    "df.loc[1:5]"
   ]
  },
  {
   "cell_type": "markdown",
   "id": "4e595801",
   "metadata": {},
   "source": [
    "행, 열 지정"
   ]
  },
  {
   "cell_type": "code",
   "execution_count": 82,
   "id": "8afa6f2a",
   "metadata": {},
   "outputs": [
    {
     "data": {
      "text/html": [
       "<div>\n",
       "<style scoped>\n",
       "    .dataframe tbody tr th:only-of-type {\n",
       "        vertical-align: middle;\n",
       "    }\n",
       "\n",
       "    .dataframe tbody tr th {\n",
       "        vertical-align: top;\n",
       "    }\n",
       "\n",
       "    .dataframe thead th {\n",
       "        text-align: right;\n",
       "    }\n",
       "</style>\n",
       "<table border=\"1\" class=\"dataframe\">\n",
       "  <thead>\n",
       "    <tr style=\"text-align: right;\">\n",
       "      <th></th>\n",
       "      <th>score_a</th>\n",
       "      <th>score_b</th>\n",
       "    </tr>\n",
       "  </thead>\n",
       "  <tbody>\n",
       "    <tr>\n",
       "      <th>1</th>\n",
       "      <td>230</td>\n",
       "      <td>540</td>\n",
       "    </tr>\n",
       "    <tr>\n",
       "      <th>2</th>\n",
       "      <td>160</td>\n",
       "      <td>230</td>\n",
       "    </tr>\n",
       "    <tr>\n",
       "      <th>3</th>\n",
       "      <td>250</td>\n",
       "      <td>300</td>\n",
       "    </tr>\n",
       "    <tr>\n",
       "      <th>4</th>\n",
       "      <td>360</td>\n",
       "      <td>700</td>\n",
       "    </tr>\n",
       "    <tr>\n",
       "      <th>5</th>\n",
       "      <td>180</td>\n",
       "      <td>620</td>\n",
       "    </tr>\n",
       "  </tbody>\n",
       "</table>\n",
       "</div>"
      ],
      "text/plain": [
       "   score_a  score_b\n",
       "1      230      540\n",
       "2      160      230\n",
       "3      250      300\n",
       "4      360      700\n",
       "5      180      620"
      ]
     },
     "execution_count": 82,
     "metadata": {},
     "output_type": "execute_result"
    }
   ],
   "source": [
    "# loc[]\n",
    "df.loc[1:5,['score_a','score_b']]"
   ]
  },
  {
   "cell_type": "code",
   "execution_count": 87,
   "id": "8589b494",
   "metadata": {},
   "outputs": [
    {
     "data": {
      "text/html": [
       "<div>\n",
       "<style scoped>\n",
       "    .dataframe tbody tr th:only-of-type {\n",
       "        vertical-align: middle;\n",
       "    }\n",
       "\n",
       "    .dataframe tbody tr th {\n",
       "        vertical-align: top;\n",
       "    }\n",
       "\n",
       "    .dataframe thead th {\n",
       "        text-align: right;\n",
       "    }\n",
       "</style>\n",
       "<table border=\"1\" class=\"dataframe\">\n",
       "  <thead>\n",
       "    <tr style=\"text-align: right;\">\n",
       "      <th></th>\n",
       "      <th>id</th>\n",
       "      <th>score_a</th>\n",
       "      <th>score_b</th>\n",
       "    </tr>\n",
       "  </thead>\n",
       "  <tbody>\n",
       "    <tr>\n",
       "      <th>5</th>\n",
       "      <td>6</td>\n",
       "      <td>180</td>\n",
       "      <td>620</td>\n",
       "    </tr>\n",
       "    <tr>\n",
       "      <th>6</th>\n",
       "      <td>7</td>\n",
       "      <td>130</td>\n",
       "      <td>360</td>\n",
       "    </tr>\n",
       "    <tr>\n",
       "      <th>7</th>\n",
       "      <td>8</td>\n",
       "      <td>200</td>\n",
       "      <td>420</td>\n",
       "    </tr>\n",
       "    <tr>\n",
       "      <th>8</th>\n",
       "      <td>9</td>\n",
       "      <td>290</td>\n",
       "      <td>120</td>\n",
       "    </tr>\n",
       "    <tr>\n",
       "      <th>9</th>\n",
       "      <td>10</td>\n",
       "      <td>120</td>\n",
       "      <td>0</td>\n",
       "    </tr>\n",
       "  </tbody>\n",
       "</table>\n",
       "</div>"
      ],
      "text/plain": [
       "   id  score_a  score_b\n",
       "5   6      180      620\n",
       "6   7      130      360\n",
       "7   8      200      420\n",
       "8   9      290      120\n",
       "9  10      120        0"
      ]
     },
     "execution_count": 87,
     "metadata": {},
     "output_type": "execute_result"
    }
   ],
   "source": [
    "# iloc[]\n",
    "df.iloc[5:]"
   ]
  },
  {
   "cell_type": "markdown",
   "id": "ca221d25",
   "metadata": {},
   "source": [
    "정렬하기"
   ]
  },
  {
   "cell_type": "code",
   "execution_count": 96,
   "id": "3445e636",
   "metadata": {},
   "outputs": [
    {
     "data": {
      "text/html": [
       "<div>\n",
       "<style scoped>\n",
       "    .dataframe tbody tr th:only-of-type {\n",
       "        vertical-align: middle;\n",
       "    }\n",
       "\n",
       "    .dataframe tbody tr th {\n",
       "        vertical-align: top;\n",
       "    }\n",
       "\n",
       "    .dataframe thead th {\n",
       "        text-align: right;\n",
       "    }\n",
       "</style>\n",
       "<table border=\"1\" class=\"dataframe\">\n",
       "  <thead>\n",
       "    <tr style=\"text-align: right;\">\n",
       "      <th></th>\n",
       "      <th>test_id</th>\n",
       "      <th>score_a</th>\n",
       "      <th>score_b</th>\n",
       "    </tr>\n",
       "  </thead>\n",
       "  <tbody>\n",
       "    <tr>\n",
       "      <th>9</th>\n",
       "      <td>10</td>\n",
       "      <td>120</td>\n",
       "      <td>0</td>\n",
       "    </tr>\n",
       "    <tr>\n",
       "      <th>6</th>\n",
       "      <td>7</td>\n",
       "      <td>130</td>\n",
       "      <td>360</td>\n",
       "    </tr>\n",
       "    <tr>\n",
       "      <th>2</th>\n",
       "      <td>3</td>\n",
       "      <td>160</td>\n",
       "      <td>230</td>\n",
       "    </tr>\n",
       "    <tr>\n",
       "      <th>5</th>\n",
       "      <td>6</td>\n",
       "      <td>180</td>\n",
       "      <td>620</td>\n",
       "    </tr>\n",
       "    <tr>\n",
       "      <th>7</th>\n",
       "      <td>8</td>\n",
       "      <td>200</td>\n",
       "      <td>420</td>\n",
       "    </tr>\n",
       "    <tr>\n",
       "      <th>1</th>\n",
       "      <td>2</td>\n",
       "      <td>230</td>\n",
       "      <td>540</td>\n",
       "    </tr>\n",
       "    <tr>\n",
       "      <th>3</th>\n",
       "      <td>4</td>\n",
       "      <td>250</td>\n",
       "      <td>300</td>\n",
       "    </tr>\n",
       "    <tr>\n",
       "      <th>8</th>\n",
       "      <td>9</td>\n",
       "      <td>290</td>\n",
       "      <td>120</td>\n",
       "    </tr>\n",
       "    <tr>\n",
       "      <th>0</th>\n",
       "      <td>1</td>\n",
       "      <td>300</td>\n",
       "      <td>500</td>\n",
       "    </tr>\n",
       "    <tr>\n",
       "      <th>4</th>\n",
       "      <td>5</td>\n",
       "      <td>360</td>\n",
       "      <td>700</td>\n",
       "    </tr>\n",
       "  </tbody>\n",
       "</table>\n",
       "</div>"
      ],
      "text/plain": [
       "   test_id  score_a  score_b\n",
       "9       10      120        0\n",
       "6        7      130      360\n",
       "2        3      160      230\n",
       "5        6      180      620\n",
       "7        8      200      420\n",
       "1        2      230      540\n",
       "3        4      250      300\n",
       "8        9      290      120\n",
       "0        1      300      500\n",
       "4        5      360      700"
      ]
     },
     "execution_count": 96,
     "metadata": {},
     "output_type": "execute_result"
    }
   ],
   "source": [
    "df.sort_values('score_a') #오름차순"
   ]
  },
  {
   "cell_type": "code",
   "execution_count": 97,
   "id": "1ad250c3",
   "metadata": {},
   "outputs": [
    {
     "data": {
      "text/html": [
       "<div>\n",
       "<style scoped>\n",
       "    .dataframe tbody tr th:only-of-type {\n",
       "        vertical-align: middle;\n",
       "    }\n",
       "\n",
       "    .dataframe tbody tr th {\n",
       "        vertical-align: top;\n",
       "    }\n",
       "\n",
       "    .dataframe thead th {\n",
       "        text-align: right;\n",
       "    }\n",
       "</style>\n",
       "<table border=\"1\" class=\"dataframe\">\n",
       "  <thead>\n",
       "    <tr style=\"text-align: right;\">\n",
       "      <th></th>\n",
       "      <th>test_id</th>\n",
       "      <th>score_a</th>\n",
       "      <th>score_b</th>\n",
       "    </tr>\n",
       "  </thead>\n",
       "  <tbody>\n",
       "    <tr>\n",
       "      <th>4</th>\n",
       "      <td>5</td>\n",
       "      <td>360</td>\n",
       "      <td>700</td>\n",
       "    </tr>\n",
       "    <tr>\n",
       "      <th>0</th>\n",
       "      <td>1</td>\n",
       "      <td>300</td>\n",
       "      <td>500</td>\n",
       "    </tr>\n",
       "    <tr>\n",
       "      <th>8</th>\n",
       "      <td>9</td>\n",
       "      <td>290</td>\n",
       "      <td>120</td>\n",
       "    </tr>\n",
       "    <tr>\n",
       "      <th>3</th>\n",
       "      <td>4</td>\n",
       "      <td>250</td>\n",
       "      <td>300</td>\n",
       "    </tr>\n",
       "    <tr>\n",
       "      <th>1</th>\n",
       "      <td>2</td>\n",
       "      <td>230</td>\n",
       "      <td>540</td>\n",
       "    </tr>\n",
       "    <tr>\n",
       "      <th>7</th>\n",
       "      <td>8</td>\n",
       "      <td>200</td>\n",
       "      <td>420</td>\n",
       "    </tr>\n",
       "    <tr>\n",
       "      <th>5</th>\n",
       "      <td>6</td>\n",
       "      <td>180</td>\n",
       "      <td>620</td>\n",
       "    </tr>\n",
       "    <tr>\n",
       "      <th>2</th>\n",
       "      <td>3</td>\n",
       "      <td>160</td>\n",
       "      <td>230</td>\n",
       "    </tr>\n",
       "    <tr>\n",
       "      <th>6</th>\n",
       "      <td>7</td>\n",
       "      <td>130</td>\n",
       "      <td>360</td>\n",
       "    </tr>\n",
       "    <tr>\n",
       "      <th>9</th>\n",
       "      <td>10</td>\n",
       "      <td>120</td>\n",
       "      <td>0</td>\n",
       "    </tr>\n",
       "  </tbody>\n",
       "</table>\n",
       "</div>"
      ],
      "text/plain": [
       "   test_id  score_a  score_b\n",
       "4        5      360      700\n",
       "0        1      300      500\n",
       "8        9      290      120\n",
       "3        4      250      300\n",
       "1        2      230      540\n",
       "7        8      200      420\n",
       "5        6      180      620\n",
       "2        3      160      230\n",
       "6        7      130      360\n",
       "9       10      120        0"
      ]
     },
     "execution_count": 97,
     "metadata": {},
     "output_type": "execute_result"
    }
   ],
   "source": [
    "df.sort_values('score_a',ascending = False) #내림차순 정렬"
   ]
  },
  {
   "cell_type": "markdown",
   "id": "6b2542be",
   "metadata": {},
   "source": [
    "<p style=\"color:#fb0101;\"><b>실습: df 객체의 원소 3이 출력되도록 하세요 </b></p>"
   ]
  },
  {
   "cell_type": "code",
   "execution_count": 110,
   "id": "f3b3ec15",
   "metadata": {
    "scrolled": true
   },
   "outputs": [
    {
     "data": {
      "text/plain": [
       "3"
      ]
     },
     "execution_count": 110,
     "metadata": {},
     "output_type": "execute_result"
    }
   ],
   "source": [
    "import pandas as pd\n",
    "\n",
    "df = pd.DataFrame({'v1':[1,2,5],'v2':[4,3,9]})\n",
    "\n",
    "#df.iloc[1,1]\n",
    "df.loc[1,'v2']"
   ]
  },
  {
   "cell_type": "markdown",
   "id": "c63f8b23",
   "metadata": {},
   "source": [
    "<p style=\"color:#fb0101;\"><b>실습: df 객체의 Sales_quantity 변수를 기준으로 내림차순 정렬을 하고 해당 변수를 기준으로 상위 10개의 데이터를 추출하여 df_top10에 저장하시오. 10위에 해당하는 Sales_quantity 변수의 값을 정수 부분만 구하시오.  </b></p>\n",
    "\n",
    "※ 'Month_Value_1.csv' 파일을 사용하여 분석하시오.\n",
    "\n",
    "※ Pandas의 .sort_values() 메서드를 사용하시오.\n"
   ]
  },
  {
   "cell_type": "code",
   "execution_count": 130,
   "id": "88d63d59",
   "metadata": {},
   "outputs": [
    {
     "data": {
      "text/plain": [
       "26603"
      ]
     },
     "execution_count": 130,
     "metadata": {},
     "output_type": "execute_result"
    }
   ],
   "source": [
    "import pandas as pd\n",
    "\n",
    "df =  pd.read_csv('data/Month_Value_1.csv')\n",
    "df_top10 = df.sort_values('Sales_quantity',ascending=False ).head(10)\n",
    "int(df_top10.iloc[9,2])"
   ]
  },
  {
   "cell_type": "markdown",
   "id": "29533daa",
   "metadata": {},
   "source": [
    "통계량 함수들\n",
    "\n",
    "describe(), min(), max(), sum(), mean(), var(), std()"
   ]
  },
  {
   "cell_type": "code",
   "execution_count": 133,
   "id": "0f2180b2",
   "metadata": {},
   "outputs": [
    {
     "data": {
      "text/html": [
       "<div>\n",
       "<style scoped>\n",
       "    .dataframe tbody tr th:only-of-type {\n",
       "        vertical-align: middle;\n",
       "    }\n",
       "\n",
       "    .dataframe tbody tr th {\n",
       "        vertical-align: top;\n",
       "    }\n",
       "\n",
       "    .dataframe thead th {\n",
       "        text-align: right;\n",
       "    }\n",
       "</style>\n",
       "<table border=\"1\" class=\"dataframe\">\n",
       "  <thead>\n",
       "    <tr style=\"text-align: right;\">\n",
       "      <th></th>\n",
       "      <th>test_id</th>\n",
       "      <th>score_a</th>\n",
       "      <th>score_b</th>\n",
       "    </tr>\n",
       "  </thead>\n",
       "  <tbody>\n",
       "    <tr>\n",
       "      <th>0</th>\n",
       "      <td>1</td>\n",
       "      <td>300</td>\n",
       "      <td>500</td>\n",
       "    </tr>\n",
       "    <tr>\n",
       "      <th>1</th>\n",
       "      <td>2</td>\n",
       "      <td>230</td>\n",
       "      <td>540</td>\n",
       "    </tr>\n",
       "    <tr>\n",
       "      <th>2</th>\n",
       "      <td>3</td>\n",
       "      <td>160</td>\n",
       "      <td>230</td>\n",
       "    </tr>\n",
       "    <tr>\n",
       "      <th>3</th>\n",
       "      <td>4</td>\n",
       "      <td>250</td>\n",
       "      <td>300</td>\n",
       "    </tr>\n",
       "    <tr>\n",
       "      <th>4</th>\n",
       "      <td>5</td>\n",
       "      <td>360</td>\n",
       "      <td>700</td>\n",
       "    </tr>\n",
       "    <tr>\n",
       "      <th>5</th>\n",
       "      <td>6</td>\n",
       "      <td>180</td>\n",
       "      <td>620</td>\n",
       "    </tr>\n",
       "    <tr>\n",
       "      <th>6</th>\n",
       "      <td>7</td>\n",
       "      <td>130</td>\n",
       "      <td>360</td>\n",
       "    </tr>\n",
       "    <tr>\n",
       "      <th>7</th>\n",
       "      <td>8</td>\n",
       "      <td>200</td>\n",
       "      <td>420</td>\n",
       "    </tr>\n",
       "    <tr>\n",
       "      <th>8</th>\n",
       "      <td>9</td>\n",
       "      <td>290</td>\n",
       "      <td>120</td>\n",
       "    </tr>\n",
       "    <tr>\n",
       "      <th>9</th>\n",
       "      <td>10</td>\n",
       "      <td>120</td>\n",
       "      <td>0</td>\n",
       "    </tr>\n",
       "  </tbody>\n",
       "</table>\n",
       "</div>"
      ],
      "text/plain": [
       "   test_id  score_a  score_b\n",
       "0        1      300      500\n",
       "1        2      230      540\n",
       "2        3      160      230\n",
       "3        4      250      300\n",
       "4        5      360      700\n",
       "5        6      180      620\n",
       "6        7      130      360\n",
       "7        8      200      420\n",
       "8        9      290      120\n",
       "9       10      120        0"
      ]
     },
     "execution_count": 133,
     "metadata": {},
     "output_type": "execute_result"
    }
   ],
   "source": [
    "df = pd.read_csv('data/DATA_test_result.csv')\n",
    "df"
   ]
  },
  {
   "cell_type": "code",
   "execution_count": 135,
   "id": "c0d283de",
   "metadata": {},
   "outputs": [
    {
     "data": {
      "text/html": [
       "<div>\n",
       "<style scoped>\n",
       "    .dataframe tbody tr th:only-of-type {\n",
       "        vertical-align: middle;\n",
       "    }\n",
       "\n",
       "    .dataframe tbody tr th {\n",
       "        vertical-align: top;\n",
       "    }\n",
       "\n",
       "    .dataframe thead th {\n",
       "        text-align: right;\n",
       "    }\n",
       "</style>\n",
       "<table border=\"1\" class=\"dataframe\">\n",
       "  <thead>\n",
       "    <tr style=\"text-align: right;\">\n",
       "      <th></th>\n",
       "      <th>test_id</th>\n",
       "      <th>score_a</th>\n",
       "      <th>score_b</th>\n",
       "    </tr>\n",
       "  </thead>\n",
       "  <tbody>\n",
       "    <tr>\n",
       "      <th>count</th>\n",
       "      <td>10.00000</td>\n",
       "      <td>10.000000</td>\n",
       "      <td>10.000000</td>\n",
       "    </tr>\n",
       "    <tr>\n",
       "      <th>mean</th>\n",
       "      <td>5.50000</td>\n",
       "      <td>222.000000</td>\n",
       "      <td>379.000000</td>\n",
       "    </tr>\n",
       "    <tr>\n",
       "      <th>std</th>\n",
       "      <td>3.02765</td>\n",
       "      <td>78.570563</td>\n",
       "      <td>221.833271</td>\n",
       "    </tr>\n",
       "    <tr>\n",
       "      <th>min</th>\n",
       "      <td>1.00000</td>\n",
       "      <td>120.000000</td>\n",
       "      <td>0.000000</td>\n",
       "    </tr>\n",
       "    <tr>\n",
       "      <th>25%</th>\n",
       "      <td>3.25000</td>\n",
       "      <td>165.000000</td>\n",
       "      <td>247.500000</td>\n",
       "    </tr>\n",
       "    <tr>\n",
       "      <th>50%</th>\n",
       "      <td>5.50000</td>\n",
       "      <td>215.000000</td>\n",
       "      <td>390.000000</td>\n",
       "    </tr>\n",
       "    <tr>\n",
       "      <th>75%</th>\n",
       "      <td>7.75000</td>\n",
       "      <td>280.000000</td>\n",
       "      <td>530.000000</td>\n",
       "    </tr>\n",
       "    <tr>\n",
       "      <th>max</th>\n",
       "      <td>10.00000</td>\n",
       "      <td>360.000000</td>\n",
       "      <td>700.000000</td>\n",
       "    </tr>\n",
       "  </tbody>\n",
       "</table>\n",
       "</div>"
      ],
      "text/plain": [
       "        test_id     score_a     score_b\n",
       "count  10.00000   10.000000   10.000000\n",
       "mean    5.50000  222.000000  379.000000\n",
       "std     3.02765   78.570563  221.833271\n",
       "min     1.00000  120.000000    0.000000\n",
       "25%     3.25000  165.000000  247.500000\n",
       "50%     5.50000  215.000000  390.000000\n",
       "75%     7.75000  280.000000  530.000000\n",
       "max    10.00000  360.000000  700.000000"
      ]
     },
     "execution_count": 135,
     "metadata": {},
     "output_type": "execute_result"
    }
   ],
   "source": [
    "df.describe()"
   ]
  },
  {
   "cell_type": "markdown",
   "id": "a81bc002",
   "metadata": {},
   "source": [
    "그룹별 집계\n",
    "\n",
    "value_counts(), groupby()"
   ]
  },
  {
   "cell_type": "code",
   "execution_count": 139,
   "id": "9a169f81",
   "metadata": {},
   "outputs": [
    {
     "data": {
      "text/html": [
       "<div>\n",
       "<style scoped>\n",
       "    .dataframe tbody tr th:only-of-type {\n",
       "        vertical-align: middle;\n",
       "    }\n",
       "\n",
       "    .dataframe tbody tr th {\n",
       "        vertical-align: top;\n",
       "    }\n",
       "\n",
       "    .dataframe thead th {\n",
       "        text-align: right;\n",
       "    }\n",
       "</style>\n",
       "<table border=\"1\" class=\"dataframe\">\n",
       "  <thead>\n",
       "    <tr style=\"text-align: right;\">\n",
       "      <th></th>\n",
       "      <th>Sepal.Length</th>\n",
       "      <th>Sepal.Width</th>\n",
       "      <th>Petal.Length</th>\n",
       "      <th>Petal.Width</th>\n",
       "      <th>Species</th>\n",
       "    </tr>\n",
       "  </thead>\n",
       "  <tbody>\n",
       "    <tr>\n",
       "      <th>0</th>\n",
       "      <td>5.1</td>\n",
       "      <td>3.5</td>\n",
       "      <td>1.4</td>\n",
       "      <td>0.2</td>\n",
       "      <td>setosa</td>\n",
       "    </tr>\n",
       "    <tr>\n",
       "      <th>1</th>\n",
       "      <td>4.9</td>\n",
       "      <td>3.0</td>\n",
       "      <td>1.4</td>\n",
       "      <td>0.2</td>\n",
       "      <td>setosa</td>\n",
       "    </tr>\n",
       "    <tr>\n",
       "      <th>2</th>\n",
       "      <td>4.7</td>\n",
       "      <td>3.2</td>\n",
       "      <td>1.3</td>\n",
       "      <td>0.2</td>\n",
       "      <td>setosa</td>\n",
       "    </tr>\n",
       "    <tr>\n",
       "      <th>3</th>\n",
       "      <td>4.6</td>\n",
       "      <td>3.1</td>\n",
       "      <td>1.5</td>\n",
       "      <td>0.2</td>\n",
       "      <td>setosa</td>\n",
       "    </tr>\n",
       "    <tr>\n",
       "      <th>4</th>\n",
       "      <td>5.0</td>\n",
       "      <td>3.6</td>\n",
       "      <td>1.4</td>\n",
       "      <td>0.2</td>\n",
       "      <td>setosa</td>\n",
       "    </tr>\n",
       "    <tr>\n",
       "      <th>...</th>\n",
       "      <td>...</td>\n",
       "      <td>...</td>\n",
       "      <td>...</td>\n",
       "      <td>...</td>\n",
       "      <td>...</td>\n",
       "    </tr>\n",
       "    <tr>\n",
       "      <th>145</th>\n",
       "      <td>6.7</td>\n",
       "      <td>3.0</td>\n",
       "      <td>5.2</td>\n",
       "      <td>2.3</td>\n",
       "      <td>virginica</td>\n",
       "    </tr>\n",
       "    <tr>\n",
       "      <th>146</th>\n",
       "      <td>6.3</td>\n",
       "      <td>2.5</td>\n",
       "      <td>5.0</td>\n",
       "      <td>1.9</td>\n",
       "      <td>virginica</td>\n",
       "    </tr>\n",
       "    <tr>\n",
       "      <th>147</th>\n",
       "      <td>6.5</td>\n",
       "      <td>3.0</td>\n",
       "      <td>5.2</td>\n",
       "      <td>2.0</td>\n",
       "      <td>virginica</td>\n",
       "    </tr>\n",
       "    <tr>\n",
       "      <th>148</th>\n",
       "      <td>6.2</td>\n",
       "      <td>3.4</td>\n",
       "      <td>5.4</td>\n",
       "      <td>2.3</td>\n",
       "      <td>virginica</td>\n",
       "    </tr>\n",
       "    <tr>\n",
       "      <th>149</th>\n",
       "      <td>5.9</td>\n",
       "      <td>3.0</td>\n",
       "      <td>5.1</td>\n",
       "      <td>1.8</td>\n",
       "      <td>virginica</td>\n",
       "    </tr>\n",
       "  </tbody>\n",
       "</table>\n",
       "<p>150 rows × 5 columns</p>\n",
       "</div>"
      ],
      "text/plain": [
       "     Sepal.Length  Sepal.Width  Petal.Length  Petal.Width    Species\n",
       "0             5.1          3.5           1.4          0.2     setosa\n",
       "1             4.9          3.0           1.4          0.2     setosa\n",
       "2             4.7          3.2           1.3          0.2     setosa\n",
       "3             4.6          3.1           1.5          0.2     setosa\n",
       "4             5.0          3.6           1.4          0.2     setosa\n",
       "..            ...          ...           ...          ...        ...\n",
       "145           6.7          3.0           5.2          2.3  virginica\n",
       "146           6.3          2.5           5.0          1.9  virginica\n",
       "147           6.5          3.0           5.2          2.0  virginica\n",
       "148           6.2          3.4           5.4          2.3  virginica\n",
       "149           5.9          3.0           5.1          1.8  virginica\n",
       "\n",
       "[150 rows x 5 columns]"
      ]
     },
     "execution_count": 139,
     "metadata": {},
     "output_type": "execute_result"
    }
   ],
   "source": [
    "df = pd.read_excel('data/iris.xlsx')\n",
    "df"
   ]
  },
  {
   "cell_type": "code",
   "execution_count": 141,
   "id": "760ec007",
   "metadata": {},
   "outputs": [
    {
     "data": {
      "text/plain": [
       "50"
      ]
     },
     "execution_count": 141,
     "metadata": {},
     "output_type": "execute_result"
    }
   ],
   "source": [
    "df['Species'].value_counts().max()"
   ]
  },
  {
   "cell_type": "code",
   "execution_count": 147,
   "id": "da27e81e",
   "metadata": {},
   "outputs": [
    {
     "data": {
      "text/plain": [
       "Species\n",
       "setosa        5.8\n",
       "versicolor    7.0\n",
       "virginica     7.9\n",
       "Name: Sepal.Length, dtype: float64"
      ]
     },
     "execution_count": 147,
     "metadata": {},
     "output_type": "execute_result"
    }
   ],
   "source": [
    "df.groupby('Species')['Sepal.Length'].max()\n"
   ]
  },
  {
   "cell_type": "markdown",
   "id": "a8b29e22",
   "metadata": {},
   "source": [
    "<p style=\"color:#fb0101;\"><b>실습: df 객체의 score_a 변수의 평균을 제곱한 값을 소수점 두 번째 자리까지 구하시오 </b></p>"
   ]
  },
  {
   "cell_type": "code",
   "execution_count": 163,
   "id": "c5facc4d",
   "metadata": {},
   "outputs": [
    {
     "data": {
      "text/plain": [
       "49284.0"
      ]
     },
     "execution_count": 163,
     "metadata": {},
     "output_type": "execute_result"
    }
   ],
   "source": [
    "import numpy as np\n",
    "import pandas as pd\n",
    "\n",
    "df = pd.read_csv('data/DATA_test_result.csv')\n",
    "result = df['score_a'].mean()**2\n",
    "round(result,2)"
   ]
  },
  {
   "cell_type": "markdown",
   "id": "6091d2a0",
   "metadata": {},
   "source": [
    "### 조건 맞는 데이터 출력"
   ]
  },
  {
   "cell_type": "code",
   "execution_count": null,
   "id": "2103fc01",
   "metadata": {},
   "outputs": [],
   "source": [
    "df = pd.read_csv('DATA_test_result.csv')"
   ]
  },
  {
   "cell_type": "code",
   "execution_count": 164,
   "id": "0cbb423b",
   "metadata": {},
   "outputs": [
    {
     "data": {
      "text/plain": [
       "0     True\n",
       "1     True\n",
       "2    False\n",
       "3     True\n",
       "4     True\n",
       "5    False\n",
       "6    False\n",
       "7    False\n",
       "8     True\n",
       "9    False\n",
       "Name: score_a, dtype: bool"
      ]
     },
     "execution_count": 164,
     "metadata": {},
     "output_type": "execute_result"
    }
   ],
   "source": [
    "#df['칼럼명'] 비교연산자 비교값\n",
    "df['score_a']>200"
   ]
  },
  {
   "cell_type": "code",
   "execution_count": 171,
   "id": "db76b00d",
   "metadata": {},
   "outputs": [
    {
     "data": {
      "text/html": [
       "<div>\n",
       "<style scoped>\n",
       "    .dataframe tbody tr th:only-of-type {\n",
       "        vertical-align: middle;\n",
       "    }\n",
       "\n",
       "    .dataframe tbody tr th {\n",
       "        vertical-align: top;\n",
       "    }\n",
       "\n",
       "    .dataframe thead th {\n",
       "        text-align: right;\n",
       "    }\n",
       "</style>\n",
       "<table border=\"1\" class=\"dataframe\">\n",
       "  <thead>\n",
       "    <tr style=\"text-align: right;\">\n",
       "      <th></th>\n",
       "      <th>test_id</th>\n",
       "      <th>score_a</th>\n",
       "      <th>score_b</th>\n",
       "    </tr>\n",
       "  </thead>\n",
       "  <tbody>\n",
       "    <tr>\n",
       "      <th>0</th>\n",
       "      <td>1</td>\n",
       "      <td>300</td>\n",
       "      <td>500</td>\n",
       "    </tr>\n",
       "    <tr>\n",
       "      <th>1</th>\n",
       "      <td>2</td>\n",
       "      <td>230</td>\n",
       "      <td>540</td>\n",
       "    </tr>\n",
       "    <tr>\n",
       "      <th>4</th>\n",
       "      <td>5</td>\n",
       "      <td>360</td>\n",
       "      <td>700</td>\n",
       "    </tr>\n",
       "    <tr>\n",
       "      <th>5</th>\n",
       "      <td>6</td>\n",
       "      <td>180</td>\n",
       "      <td>620</td>\n",
       "    </tr>\n",
       "    <tr>\n",
       "      <th>6</th>\n",
       "      <td>7</td>\n",
       "      <td>130</td>\n",
       "      <td>360</td>\n",
       "    </tr>\n",
       "    <tr>\n",
       "      <th>7</th>\n",
       "      <td>8</td>\n",
       "      <td>200</td>\n",
       "      <td>420</td>\n",
       "    </tr>\n",
       "  </tbody>\n",
       "</table>\n",
       "</div>"
      ],
      "text/plain": [
       "   test_id  score_a  score_b\n",
       "0        1      300      500\n",
       "1        2      230      540\n",
       "4        5      360      700\n",
       "5        6      180      620\n",
       "6        7      130      360\n",
       "7        8      200      420"
      ]
     },
     "execution_count": 171,
     "metadata": {},
     "output_type": "execute_result"
    }
   ],
   "source": [
    "#df[df['칼럼명'] 비교연산자 비교값]\n",
    "df.loc[df['score_b']>300,]"
   ]
  }
 ],
 "metadata": {
  "kernelspec": {
   "display_name": "Python 3 (ipykernel)",
   "language": "python",
   "name": "python3"
  },
  "language_info": {
   "codemirror_mode": {
    "name": "ipython",
    "version": 3
   },
   "file_extension": ".py",
   "mimetype": "text/x-python",
   "name": "python",
   "nbconvert_exporter": "python",
   "pygments_lexer": "ipython3",
   "version": "3.9.12"
  }
 },
 "nbformat": 4,
 "nbformat_minor": 5
}

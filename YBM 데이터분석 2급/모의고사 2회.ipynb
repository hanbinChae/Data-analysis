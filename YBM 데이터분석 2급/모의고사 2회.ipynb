{
 "cells": [
  {
   "cell_type": "code",
   "execution_count": null,
   "id": "8b388082",
   "metadata": {},
   "outputs": [],
   "source": [
    "answers = {\n",
    "    '문제1':2, '문제2':3, '문제3':3, '문제4':4,'문제5':4,\n",
    "    '문제6':1,'문제7':4,'문제8':1,'문제9':1,'문제10':3,\n",
    "    '문제11':1,'문제12':4, '문제13':33469203,'문제14':455000,'문제15':220000,\n",
    "    '문제16':4, '문제17':'그래프', '문제18':'그래프','문제19':0.078,'문제20':136\n",
    "}\n",
    "\n",
    "codes = {\n",
    "    '문제13':'''df.loc[df['Population'] > df['Population'].mean(),'Population'].min()''',\n",
    "    '문제14':'''df['order_price'] = df['UnitPrice'] * df['OrderQuantity']\n",
    "def solution():\n",
    "    return df.groupby('ClientID')['order_price'].sum().max()''',\n",
    "    '문제15':'''df['order_price'] = df['UnitPrice'] * df['OrderQuantity']\n",
    "def solution():\n",
    "    return abs(df.loc[df['OrderQuantity'] < 0, 'order_price'].sum())\n",
    "''',\n",
    "    '문제16':'''df.loc[(df['price'] > df['price'].mean()*4) & (df['carat'] > df['carat'].mean()*4),'color'].nunique()''',\n",
    "    '문제17':'''def solution():\n",
    "    df.loc[(df['price']<df['price'].mean()) & (df['carat'] > df['carat'].mean()) &(df['cut'] =='Ideal'),'price'].plot.hist()\n",
    "    plt.show()\n",
    "''',\n",
    "    '문제18':'''def solution():\n",
    "    df.loc[df['OrderQuantity']>0,'Class'].value_counts().plot.pie()\n",
    "    plt.show()\n",
    "''',\n",
    "    '문제19':'''df1 = df.loc[df['color'] == 'E','table']\n",
    "df2 = df.loc[df['color'] == 'I','table']\n",
    "df3 = df.loc[df['color'] == 'H','table']\n",
    "s,p = f_oneway(df1,df2,df3)\n",
    "def solution():\n",
    "    return round(p,3)\n",
    "''',\n",
    "    '문제20':'''df = df.loc[df['Migrants'].notna() & df['Med Age'].notna() & df['UrbanPop'].notna()]\n",
    "x = df.iloc[:,1:]\n",
    "model = KMeans(n_clusters = 6, random_state=0).fit(x)\n",
    "df['cluster'] = model.labels_\n",
    "\n",
    "def solution():\n",
    "    return df['cluster'].value_counts().max() - df['cluster'].value_counts().min()\n",
    "'''\n",
    "}\n",
    "\n",
    "def answer(q):\n",
    "    \n",
    "    if q not in answers:\n",
    "        print(\"문제번호가 없습니다.\")\n",
    "        return\n",
    "        \n",
    "    q_no = int(q[2:])\n",
    "    if q_no in (17,18):\n",
    "        solution()\n",
    "        return\n",
    "    elif q_no >= 13:\n",
    "        a = solution()\n",
    "    else:\n",
    "        a = input()\n",
    "        if a.isdigit():\n",
    "            a = int(a)\n",
    "        else:\n",
    "            print(\"1부터 4의 보기 중 골라 주세요.\")\n",
    "            return\n",
    "        \n",
    "        if not(1 <= a <= 4):\n",
    "            print(\"1부터 4의 보기 중 골라 주세요.\")\n",
    "            return            \n",
    "    \n",
    "    if answers[q] == a:\n",
    "        print(\"정답입니다.\")\n",
    "    else:\n",
    "        print(\"정답이 아닙니다.\")\n",
    "        \n",
    "def show_code(q):\n",
    "    print(codes[q])"
   ]
  },
  {
   "cell_type": "markdown",
   "id": "d94a4b3a",
   "metadata": {},
   "source": [
    "### 문제1. 넘파이 배열 arr이 주어졌을 때, arr의 각각의 요소값에 대해 90 이상이면 'A'를 출력하고 그렇지 않으면 'B'를 출력하도록 코드를 작성하였다. 바르게 작성한 것은?\n",
    "\n",
    "    1. if arr >=90:\n",
    "           print('A')\n",
    "       else:\n",
    "           print('B')\n",
    "    2. print(np.where(arr>=90,'A','B'))\n",
    "    3. print(if(arr >=90, 'A', 'B'))\n",
    "    4. print(np.where(arr>=90,'B','A'))"
   ]
  },
  {
   "cell_type": "code",
   "execution_count": null,
   "id": "2f4b5be0",
   "metadata": {
    "scrolled": false
   },
   "outputs": [],
   "source": [
    "answer('문제1')"
   ]
  },
  {
   "cell_type": "markdown",
   "id": "666fa642",
   "metadata": {},
   "source": [
    "### 문제2. 데이터 분석 조직 유형으로 집중형 구조에 대한 설명은?\n",
    "\n",
    "    1. 각 부서에서 분석을 수행\n",
    "    2. 전사적 차원의 분석 수행이 이루어지지 않음\n",
    "    3. 분석 인원을 한 곳에 모아 조직내 별도 분석 전단 조직을 구성\n",
    "    4. 전문 분석 인력을 분석이 필요한 부서로 파견"
   ]
  },
  {
   "cell_type": "code",
   "execution_count": null,
   "id": "168380d0",
   "metadata": {
    "scrolled": false
   },
   "outputs": [],
   "source": [
    "answer('문제2')"
   ]
  },
  {
   "cell_type": "markdown",
   "id": "32447968",
   "metadata": {},
   "source": [
    "### 문제3. 다음 텍스트 파일 중 탭로 구분되어있는 파일의 확장자는 무엇인가?\n",
    "\n",
    "    1. txt\n",
    "    2. csv\n",
    "    3. tsv\n",
    "    4. xlsx"
   ]
  },
  {
   "cell_type": "code",
   "execution_count": null,
   "id": "5023c9a8",
   "metadata": {
    "scrolled": false
   },
   "outputs": [],
   "source": [
    "answer('문제3')"
   ]
  },
  {
   "cell_type": "markdown",
   "id": "33ff039a",
   "metadata": {},
   "source": [
    "### 문제4. read_csv( ) 함수를 사용하여 파일을 읽어올 때, 쉼표가 아닌 구분자를 가진 파일을 읽어오기 위해 사용하는 인자명은?\n",
    "\n",
    "    1. char\n",
    "    2. split\n",
    "    3. comma\n",
    "    4. sep"
   ]
  },
  {
   "cell_type": "code",
   "execution_count": null,
   "id": "a0371900",
   "metadata": {
    "scrolled": false
   },
   "outputs": [],
   "source": [
    "answer('문제4')"
   ]
  },
  {
   "attachments": {
    "image.png": {
     "image/png": "[encoded data removed]"
    }
   },
   "cell_type": "markdown",
   "id": "e1246b8d",
   "metadata": {},
   "source": [
    "### 문제5. 아래 그림과 같은 방식으로 자료를 병합하려고 할 때 고려할 사항으로 옳지 않은 것은?\n",
    "\n",
    "![image.png](attachment:image.png)\n",
    "\n",
    "    1. 변수 개수\n",
    "    2. 값의 자료형\n",
    "    3. 인덱스 번호\n",
    "    4. 레코드 개수 "
   ]
  },
  {
   "cell_type": "code",
   "execution_count": null,
   "id": "b6faf0ef",
   "metadata": {
    "scrolled": false
   },
   "outputs": [],
   "source": [
    "answer('문제5')"
   ]
  },
  {
   "cell_type": "markdown",
   "id": "9b1d3ad0",
   "metadata": {},
   "source": [
    "### 문제6. 데이터프레임 A와 B를 단순 병합하려고 한다. A의 변수의 개수는 2개이고, B의 변수의 개수는 3개이며, A, B의 레코드 개수와 인덱스 구성이 같다. 바르게  병합한 것은?\n",
    "\n",
    "        1. pd.concat([A,B],axis=1)\n",
    "        2. pd.concat([A,B],axis=0)\n",
    "        3. pd.merge([A,B],axis=1)\n",
    "        4. pd.merge([A,B],axis=0)"
   ]
  },
  {
   "cell_type": "code",
   "execution_count": null,
   "id": "6f5a9862",
   "metadata": {
    "scrolled": false
   },
   "outputs": [],
   "source": [
    "answer('문제6')"
   ]
  },
  {
   "cell_type": "markdown",
   "id": "d562f270",
   "metadata": {},
   "source": [
    "### 문제7. [보기]와 같은 자료가 있다. 이 자료를 설명하기 적절한 기술 통계량은?\n",
    "\n",
    "    [보기] 1, 1, -502, 3, 5, 6, 1002, 2, 4, 5, 1, 4, 5, 8, 1, 5\n",
    "\n",
    "    1. 최댓값\n",
    "    2. 최솟값\n",
    "    3. 표준편차\n",
    "    4. 중앙값"
   ]
  },
  {
   "cell_type": "code",
   "execution_count": null,
   "id": "ccbba83a",
   "metadata": {
    "scrolled": true
   },
   "outputs": [],
   "source": [
    "answer('문제7')"
   ]
  },
  {
   "cell_type": "markdown",
   "id": "fb39663b",
   "metadata": {},
   "source": [
    "### 문제8. p-value가 0.03보다 작을 때 귀무가설을 기각하려고 한다. 이 때 유의 수준은 얼마인가?\n",
    "\n",
    "    1. 3%\n",
    "    2. 5%\n",
    "    3. 95%\n",
    "    4. 97%"
   ]
  },
  {
   "cell_type": "code",
   "execution_count": null,
   "id": "20c3e21e",
   "metadata": {
    "scrolled": false
   },
   "outputs": [],
   "source": [
    "answer('문제8')"
   ]
  },
  {
   "cell_type": "markdown",
   "id": "0b5f4f92",
   "metadata": {},
   "source": [
    "### 문제9. Pearson 상관분석을 실시하였다. 제시된 상관계수 중에서 두 데이터간 선형 관계가 반비례 관계이면서 가장 강한 것은?\n",
    "    \n",
    "       1. -0.7\n",
    "       2. -0.1\n",
    "       3. 0.3\n",
    "       4. 0.9"
   ]
  },
  {
   "cell_type": "code",
   "execution_count": null,
   "id": "182fec37",
   "metadata": {
    "scrolled": false
   },
   "outputs": [],
   "source": [
    "answer('문제9')"
   ]
  },
  {
   "cell_type": "markdown",
   "id": "0cd6fc66",
   "metadata": {},
   "source": [
    "### 문제10. 정규성 검정에 대한 설명으로 틀린 것은?\n",
    "\n",
    "    1. 자료가 가우시안 분포를 따르는지 확인하기 위해 사용하는 가설검정 방법이다.\n",
    "    2. 귀무가설이 기각되지 않으면 가우시안 분포를 따르는 것이다.\n",
    "    3. 통계적 검정을 수행하기 전에 필수적으로 가우시안 분포를 따르는 지 확인해야 한다.\n",
    "    4. p-value가 유의수준 이상이면 정규분포이다."
   ]
  },
  {
   "cell_type": "code",
   "execution_count": null,
   "id": "5f798047",
   "metadata": {
    "scrolled": false
   },
   "outputs": [],
   "source": [
    "answer('문제10')"
   ]
  },
  {
   "cell_type": "markdown",
   "id": "eb06d8c0",
   "metadata": {},
   "source": [
    "### 문제11. [보기]에서 설명하는 분석 방법은?\n",
    "\n",
    "    [보기] \n",
    "    종속 변수가 명목형 변수이어야 한다. confusion matrix나 정확도로 모델의 성능을 평가한다. 학습을 통해 분류 기준을 찾아 트리로 규칙을 구성한다.\n",
    "\n",
    "    1. 의사결정 나무\n",
    "    2. 선형 회귀\n",
    "    3. 이항 로지스틱 회귀 분석\n",
    "    4. k-means 군집 분석"
   ]
  },
  {
   "cell_type": "code",
   "execution_count": null,
   "id": "87cf0ba3",
   "metadata": {
    "scrolled": false
   },
   "outputs": [],
   "source": [
    "answer('문제11')"
   ]
  },
  {
   "cell_type": "markdown",
   "id": "42bca551",
   "metadata": {},
   "source": [
    "### 문제12. 다음 [보기] 중 분류 모델의 성능 확인을 위해 사용하는 지표를 모두 고른 것은?\n",
    "\n",
    "    [보기]  ⓐ Accuracy    ⓑ R2 Score   ⓒ RMSE      \n",
    "            ⓓ MAPE        ⓔ F1 score   ⓕ confusion matrix\n",
    "\n",
    "    1. ⓐ, ⓑ, ⓒ, ⓓ, ⓔ, ⓕ\n",
    "    2. ⓐ, ⓑ, ⓔ, ⓕ\n",
    "    3. ⓐ, ⓑ, ⓕ\n",
    "    4. ⓐ, ⓔ, ⓕ"
   ]
  },
  {
   "cell_type": "code",
   "execution_count": null,
   "id": "3e76b895",
   "metadata": {
    "scrolled": false
   },
   "outputs": [],
   "source": [
    "answer('문제12')"
   ]
  },
  {
   "attachments": {
    "image-2.png": {
     "image/png": "[encoded data removed]"
    },
    "image.png": {
     "image/png": "[encoded data removed]"
    }
   },
   "cell_type": "markdown",
   "id": "d51ad80f",
   "metadata": {},
   "source": [
    "### 문제13. 총인구수가 전체 인구수 평균보다 큰 국가 중에서 평균에 가장 가까운 국가의 총인구수는?\n",
    "\n",
    "※ 'population.csv'를 사용하여 분석하시오.\n",
    "\n",
    "※ Population변수를 사용하시오\n",
    "\n",
    "![image.png](attachment:image.png)\n",
    "\n",
    "![image-2.png](attachment:image-2.png)\n"
   ]
  },
  {
   "cell_type": "code",
   "execution_count": null,
   "id": "8dc4011a",
   "metadata": {},
   "outputs": [],
   "source": [
    "import pandas as pd\n",
    "\n",
    "df = pd.read_csv('poplulation.csv')\n",
    "\n",
    "def solution():\n",
    "    return 1"
   ]
  },
  {
   "cell_type": "code",
   "execution_count": null,
   "id": "3bff1dfc",
   "metadata": {
    "scrolled": true
   },
   "outputs": [],
   "source": [
    "answer('문제13')"
   ]
  },
  {
   "cell_type": "code",
   "execution_count": null,
   "id": "a4e81d83",
   "metadata": {},
   "outputs": [],
   "source": [
    "show_code('문제13')"
   ]
  },
  {
   "attachments": {
    "image-2.png": {
     "image/png": "[encoded data removed]"
    },
    "image.png": {
     "image/png": "[encoded data removed]"
    }
   },
   "cell_type": "markdown",
   "id": "bc55abc4",
   "metadata": {},
   "source": [
    "### 문제14. 주문 금액이 가장 큰 고객의 주문금액은 얼마인가?\n",
    "\n",
    "※ 'order_list.csv'를 사용하여 분석하시오.\n",
    "\n",
    "※ ProductNo와 UnitPrice변수를 사용하시오\n",
    "\n",
    "![image.png](attachment:image.png)\n",
    "\n",
    "![image-2.png](attachment:image-2.png)"
   ]
  },
  {
   "cell_type": "code",
   "execution_count": null,
   "id": "515ebc08",
   "metadata": {},
   "outputs": [],
   "source": [
    "import pandas as pd\n",
    "\n",
    "df = pd.read_csv('order_list.csv')\n",
    "\n",
    "def solution():\n",
    "    return 1"
   ]
  },
  {
   "cell_type": "code",
   "execution_count": null,
   "id": "6113b697",
   "metadata": {
    "scrolled": false
   },
   "outputs": [],
   "source": [
    "answer('문제14')"
   ]
  },
  {
   "cell_type": "code",
   "execution_count": null,
   "id": "64f3e92d",
   "metadata": {},
   "outputs": [],
   "source": [
    "show_code('문제14')"
   ]
  },
  {
   "cell_type": "markdown",
   "id": "2dcbcb8b",
   "metadata": {},
   "source": [
    "### 문제15. 주문 수량(OrderQuantity)이 음수이면 주문 취소를 의미한다. 취소 금액 총액을 구하시오.\n",
    "\n",
    "※ 'order_list.csv'를 사용하여 분석하시오.\n",
    "\n",
    "※ 결과는 절대값을 취하시오.\n",
    "\n",
    "※ UnitPrice, OrderQuantity 변수를 사용하여 분석하시오."
   ]
  },
  {
   "cell_type": "code",
   "execution_count": null,
   "id": "82a12e51",
   "metadata": {
    "scrolled": true
   },
   "outputs": [],
   "source": [
    "import pandas as pd\n",
    "\n",
    "df = pd.read_csv('order_list.csv')\n",
    "\n",
    "def solution():\n",
    "    return 1"
   ]
  },
  {
   "cell_type": "code",
   "execution_count": null,
   "id": "ea80f6ea",
   "metadata": {
    "scrolled": false
   },
   "outputs": [],
   "source": [
    "answer('문제15')"
   ]
  },
  {
   "cell_type": "code",
   "execution_count": null,
   "id": "44641703",
   "metadata": {},
   "outputs": [],
   "source": [
    "show_code('문제15')"
   ]
  },
  {
   "attachments": {
    "image-2.png": {
     "image/png": "[encoded data removed]"
    },
    "image.png": {
     "image/png": "[encoded data removed]"
    }
   },
   "cell_type": "markdown",
   "id": "28039533",
   "metadata": {},
   "source": [
    "### 문제16. 가격(price)는 평균보다 4배 비싸고, 크기(carat)가 평균보다 4배 큰 다이아몬드의 색(color)은 몇 종류인가?\n",
    "\n",
    "※ 'diamonds.csv'를 사용하여 분석하시오.\n",
    "\n",
    "※ price, carat, color 변수를 사용하시오.\n",
    "\n",
    "![image.png](attachment:image.png)\n",
    "\n",
    "![image-2.png](attachment:image-2.png)"
   ]
  },
  {
   "cell_type": "code",
   "execution_count": null,
   "id": "918cb92d",
   "metadata": {
    "scrolled": true
   },
   "outputs": [],
   "source": [
    "import pandas as pd\n",
    "\n",
    "df = pd.read_csv('diamonds.csv')\n",
    "\n",
    "def solution():\n",
    "    return 1"
   ]
  },
  {
   "cell_type": "code",
   "execution_count": null,
   "id": "cf5b7bd9",
   "metadata": {
    "scrolled": false
   },
   "outputs": [],
   "source": [
    "answer('문제16')"
   ]
  },
  {
   "cell_type": "code",
   "execution_count": null,
   "id": "20ba6181",
   "metadata": {},
   "outputs": [],
   "source": [
    "show_code('문제16')"
   ]
  },
  {
   "attachments": {
    "image.png": {
     "image/png": "[encoded data removed]"
    }
   },
   "cell_type": "markdown",
   "id": "f292a095",
   "metadata": {},
   "source": [
    "### 문제17. 가격(price)는 평균보다 낮고 크기(carat)는 평균보다 크면서 커팅레벨(cut)은 'Ideal'인 다이아몬드의 가격을 히스토그램으로 시각화하시오.\n",
    "※ 'diamonds.csv'를 사용하여 분석하시오.\n",
    "\n",
    "※ 그래프는 matplotlib 라이브러리의 함수를 활용하여 시각화하시오.\n",
    "\n",
    "![image.png](attachment:image.png)"
   ]
  },
  {
   "cell_type": "code",
   "execution_count": null,
   "id": "b9ebfbc0",
   "metadata": {
    "scrolled": true
   },
   "outputs": [],
   "source": [
    "import pandas as pd\n",
    "import matplotlib.pyplot as plt\n",
    "\n",
    "df = pd.read_csv('diamonds.csv')\n",
    "\n",
    "def solution():\n",
    "    # plot.hist()\n",
    "    plt.show()"
   ]
  },
  {
   "cell_type": "code",
   "execution_count": null,
   "id": "4e84bda1",
   "metadata": {
    "scrolled": false
   },
   "outputs": [],
   "source": [
    "answer('문제17')"
   ]
  },
  {
   "cell_type": "code",
   "execution_count": null,
   "id": "14dbaacb",
   "metadata": {},
   "outputs": [],
   "source": [
    "show_code('문제17')"
   ]
  },
  {
   "attachments": {
    "image.png": {
     "image/png": "[encoded data removed]"
    }
   },
   "cell_type": "markdown",
   "id": "ea4e7a73",
   "metadata": {},
   "source": [
    "### 문제18. 주문 수량(OrderQuantity)이 0보다 큰 주문내역 중에서 상품분류별 주문횟수를 파이 그래프로 시각화 하시오.\n",
    "\n",
    "※ 'order_list.csv'를 사용하여 분석하시오.\n",
    "\n",
    "※ 그래프는 matplotlib 라이브러리의 함수를 활용하여 시각화하시오.\n",
    "\n",
    "![image.png](attachment:image.png)"
   ]
  },
  {
   "cell_type": "code",
   "execution_count": null,
   "id": "938921cb",
   "metadata": {
    "scrolled": true
   },
   "outputs": [],
   "source": [
    "import pandas as pd\n",
    "import matplotlib.pyplot as plt\n",
    "\n",
    "df = pd.read_csv('order_list.csv')\n",
    "\n",
    "def solution():\n",
    "    # plot.pie()\n",
    "    plt.show()"
   ]
  },
  {
   "cell_type": "code",
   "execution_count": null,
   "id": "a79d97c3",
   "metadata": {
    "scrolled": false
   },
   "outputs": [],
   "source": [
    "answer('문제18')"
   ]
  },
  {
   "cell_type": "code",
   "execution_count": null,
   "id": "134e7ec5",
   "metadata": {},
   "outputs": [],
   "source": [
    "show_code('문제18')"
   ]
  },
  {
   "cell_type": "markdown",
   "id": "e6a24fe7",
   "metadata": {},
   "source": [
    "### 문제19. 다이아몬드 색(color)이 'E', 'I', 'H'인 경우 상단의 너비(table)이 유의미한 차이가 있는지 일원 분산분석으로 확인하고, 검정 결과의 p-value를 산출하시오.\n",
    "\n",
    "※ 'diamonds.csv'를 사용하여 분석하시오.\n",
    "\n",
    "※ scipy 라이브러리를 사용하여 일원 분산분석을 실시하시오.\n",
    "\n",
    "※ 결과값은 반올림하여 소수 셋째 자리까지 출력하시오.\n",
    "\n",
    "(정답 예시: 0.123)"
   ]
  },
  {
   "cell_type": "code",
   "execution_count": null,
   "id": "76b26426",
   "metadata": {},
   "outputs": [],
   "source": [
    "import pandas as pd\n",
    "from scipy.stats import f_oneway\n",
    "\n",
    "df = pd.read_csv('diamonds.csv')\n",
    "\n",
    "def solution():\n",
    "    return 1"
   ]
  },
  {
   "cell_type": "code",
   "execution_count": null,
   "id": "8454b0c8",
   "metadata": {
    "scrolled": false
   },
   "outputs": [],
   "source": [
    "answer('문제19')"
   ]
  },
  {
   "cell_type": "code",
   "execution_count": null,
   "id": "155ffadc",
   "metadata": {},
   "outputs": [],
   "source": [
    "show_code('문제19')"
   ]
  },
  {
   "attachments": {
    "image.png": {
     "image/png": "[encoded data removed]"
    }
   },
   "cell_type": "markdown",
   "id": "76de5d9c",
   "metadata": {},
   "source": [
    "### 문제20. 인구 데이터에서 국가(Country) 변수를 제외한 입력 데이터로 K-means 군집 분석을 실시하고, 가장 많은 나라가 소속된 군집과 가장 적은 나라가 소속된 군집의 나라 수의 차를 구하시오.\n",
    "\n",
    "※ sklearn 라이브러리의 함수로 K-means 군집 분석을 실시하시오.\n",
    "\n",
    "![image.png](attachment:image.png)"
   ]
  },
  {
   "cell_type": "code",
   "execution_count": null,
   "id": "b59ac005",
   "metadata": {
    "scrolled": true
   },
   "outputs": [],
   "source": [
    "import pandas as pd\n",
    "from sklearn.cluster import KMeans\n",
    "\n",
    "df = pd.read_csv('poplulation.csv')\n",
    "\n",
    "def solution():\n",
    "    return 1"
   ]
  },
  {
   "cell_type": "code",
   "execution_count": null,
   "id": "20cc7930",
   "metadata": {
    "scrolled": false
   },
   "outputs": [],
   "source": [
    "answer('문제20')"
   ]
  },
  {
   "cell_type": "code",
   "execution_count": null,
   "id": "d7705de2",
   "metadata": {},
   "outputs": [],
   "source": [
    "show_code('문제20')"
   ]
  }
 ],
 "metadata": {
  "kernelspec": {
   "display_name": "Python 3 (ipykernel)",
   "language": "python",
   "name": "python3"
  },
  "language_info": {
   "codemirror_mode": {
    "name": "ipython",
    "version": 3
   },
   "file_extension": ".py",
   "mimetype": "text/x-python",
   "name": "python",
   "nbconvert_exporter": "python",
   "pygments_lexer": "ipython3",
   "version": "3.9.12"
  }
 },
 "nbformat": 4,
 "nbformat_minor": 5
}

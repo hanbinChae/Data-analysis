{
 "cells": [
  {
   "cell_type": "code",
   "execution_count": 1,
   "id": "9c9b7f3a",
   "metadata": {},
   "outputs": [],
   "source": [
    "answers = {\n",
    "    '문제1':2, '문제2':4, '문제3':4, '문제4':2,'문제5':1,\n",
    "    '문제6':1,'문제7':3,'문제8':4,'문제9':2,'문제10':2,\n",
    "    '문제11':4,'문제12':3, '문제13':4,'문제14':34,'문제15':14,\n",
    "    '문제16':970000, '문제17':'그래프', '문제18':'그래프','문제19':0.06,'문제20':0.73\n",
    "}\n",
    "\n",
    "codes = {\n",
    "    '문제13':'''df.loc[df['UnitPrice'] > df['UnitPrice'].mean(),'ProductNo'].nunique()''',\n",
    "    '문제14':'''df.isna().sum().max()''',\n",
    "    '문제15':'''df.groupby('ClientID')['OrderQuantity'].sum().max()''',\n",
    "    '문제16':'''df['total'] = df['UnitPrice'] * df['OrderQuantity']\n",
    "\n",
    "def solution():\n",
    "    return df.loc[df['Inventory'] == 'yes','total'].sum()\n",
    "''',\n",
    "    '문제17':'''def solution():\n",
    "    df.loc[df['Migrants']<0,'Med Age'].plot.hist()\n",
    "    plt.show()''',\n",
    "    '문제18':'''def solution():\n",
    "    df.groupby('Class')['OrderQuantity'].sum().plot.bar()\n",
    "    plt.show()''',\n",
    "    '문제19':'''df = df[df['UrbanPop'].notna() & df['Med Age'].notna()]\n",
    "stat, p = ttest_ind(df.loc[df['UrbanPop'] <= 95, 'Med Age'], \n",
    "                    df.loc[df['UrbanPop'] > 95, 'Med Age'])\n",
    "\n",
    "def solution():\n",
    "    return round(p,2)\n",
    "''',\n",
    "    '문제20':'''x = df[['Pregnancies','Glucose','BloodPressure','Insulin','BMI','DiabetesPedigreeFunction','Age']]\n",
    "y = df['Outcome']\n",
    "\n",
    "x_train = x.iloc[:500,]\n",
    "y_train = y.iloc[:500,]\n",
    "x_test = x.iloc[500:,]\n",
    "y_test = y.iloc[500:,]\n",
    "\n",
    "model = DecisionTreeClassifier()\n",
    "model.fit(x_train,y_train)\n",
    "pred = model.predict(x_test)\n",
    "\n",
    "def solution():\n",
    "    return round(accuracy_score(y_test,pred),2)'''\n",
    "\n",
    "}\n",
    "\n",
    "def answer(q):\n",
    "    \n",
    "    if q not in answers:\n",
    "        print(\"문제번호가 없습니다.\")\n",
    "        return\n",
    "        \n",
    "    q_no = int(q[2:])\n",
    "    if q_no in (17,18):\n",
    "        solution()\n",
    "        return\n",
    "    elif q_no >= 13:\n",
    "        a = solution()\n",
    "    else:\n",
    "        a = input()\n",
    "        if a.isdigit():\n",
    "            a = int(a)\n",
    "        else:\n",
    "            print(\"1부터 4의 보기 중 골라 주세요.\")\n",
    "            return\n",
    "        \n",
    "        if not(1 <= a <= 4):\n",
    "            print(\"1부터 4의 보기 중 골라 주세요.\")\n",
    "            return            \n",
    "    \n",
    "    if answers[q] == a:\n",
    "        print(\"정답입니다.\")\n",
    "    else:\n",
    "        print(\"정답이 아닙니다.\")\n",
    "        \n",
    "def show_code(q):\n",
    "    print(codes[q])"
   ]
  },
  {
   "cell_type": "markdown",
   "id": "1c4a982b",
   "metadata": {},
   "source": [
    "### 문제1. 넘파이 배열 arr이 주어졌을 때, arr의 각각의 요소값에 대해 5 이상이면 True를 출력하고 그렇지 않으면 False를 출력하도록 코드를 작성하였다. 바르게 작성한 것은?\n",
    "\n",
    "    1. arr >= 5\n",
    "    2. arr[arr >= 5]\n",
    "    3. np.where(arr>=5,True,False)\n",
    "    4. arr-5 >= 0"
   ]
  },
  {
   "cell_type": "code",
   "execution_count": null,
   "id": "2543974f",
   "metadata": {},
   "outputs": [],
   "source": [
    "answer('문제1')"
   ]
  },
  {
   "cell_type": "markdown",
   "id": "3d712b49",
   "metadata": {},
   "source": [
    "### 문제2. 다음 중 ETL의 약어와 관련이 없는 것은 ?\n",
    "\n",
    "    1. Extract\n",
    "    2. Transform\n",
    "    3. Load\n",
    "    4. Labor"
   ]
  },
  {
   "cell_type": "code",
   "execution_count": null,
   "id": "bd9d464f",
   "metadata": {},
   "outputs": [],
   "source": [
    "answer('문제2')"
   ]
  },
  {
   "cell_type": "markdown",
   "id": "20121e1f",
   "metadata": {},
   "source": [
    "### 문제3. Pandas 라이브러의 read_csv() 함수를 사용하여 파일을 읽어오는 경우 쉼표가 아닌 구분자를 가진 파일을 읽어올 때 사용하는 인자명은?\n",
    "\n",
    "    1. char\n",
    "    2. split\n",
    "    3. comma\n",
    "    4. sep"
   ]
  },
  {
   "cell_type": "code",
   "execution_count": null,
   "id": "0a9d81fc",
   "metadata": {},
   "outputs": [],
   "source": [
    "answer('문제3')"
   ]
  },
  {
   "cell_type": "markdown",
   "id": "0f3bc1df",
   "metadata": {},
   "source": [
    "### 문제4. 데이터를 수집하여 보관하는 형태로 로컬 데이터 형태가 아닌 것은?\n",
    "    \n",
    "    1. xlsx\n",
    "    2. RDB\n",
    "    3. csv\n",
    "    4. json"
   ]
  },
  {
   "cell_type": "code",
   "execution_count": null,
   "id": "07138b4c",
   "metadata": {
    "scrolled": true
   },
   "outputs": [],
   "source": [
    "answer('문제4')"
   ]
  },
  {
   "cell_type": "markdown",
   "id": "0963591b",
   "metadata": {},
   "source": [
    "### 문제5. 다음 [보기] 중 자료를 병합할 때 고려해야할 사항을 모두 고른 것은?\n",
    "    [보기]  ⓐ 변수 개수    ⓑ 값의 자료형     ⓒ 변수명      \n",
    "            ⓓ 인덱스 번호  ⓔ 데이터 크기     ⓕ 인코딩\n",
    "\n",
    "    1. ⓐ, ⓑ, ⓒ, ⓓ, ⓔ, ⓕ\n",
    "    2. ⓐ, ⓑ, ⓒ, ⓓ, ⓕ\n",
    "    3. ⓐ, ⓑ, ⓓ, ⓕ\n",
    "    4. ⓐ, ⓑ, ⓓ "
   ]
  },
  {
   "cell_type": "code",
   "execution_count": null,
   "id": "fd8fdcc4",
   "metadata": {},
   "outputs": [],
   "source": [
    "answer('문제5')"
   ]
  },
  {
   "cell_type": "markdown",
   "id": "cdd238b4",
   "metadata": {},
   "source": [
    "### 문제6. 데이터프레임 A와 B를 조인하려고 한다. A와 B에는 공통의 a변수가  있다. 두 데이터프레임에 공통으로 값이 존재하는 경우만 출력되도록 하려고 할 때, 수행할 조인은 ?    \n",
    "\n",
    "        1. inner\n",
    "        2. left\n",
    "        3. right\n",
    "        4. outer"
   ]
  },
  {
   "cell_type": "code",
   "execution_count": null,
   "id": "b2b73aa3",
   "metadata": {},
   "outputs": [],
   "source": [
    "answer('문제6')"
   ]
  },
  {
   "cell_type": "markdown",
   "id": "3e708e9f",
   "metadata": {},
   "source": [
    "### 문제7. 위치 통계량은?\n",
    "\n",
    "    1. 왜도\n",
    "    2. 첨도\n",
    "    3. 중앙값\n",
    "    4. 분산"
   ]
  },
  {
   "cell_type": "code",
   "execution_count": null,
   "id": "9f2fa531",
   "metadata": {},
   "outputs": [],
   "source": [
    "answer('문제7')"
   ]
  },
  {
   "cell_type": "markdown",
   "id": "320dedc2",
   "metadata": {},
   "source": [
    "### 문제8. 가설 검정에서 유의수준 5%를 기준으로 검정하고자한다. 이 경우 귀무가설을 기각하는 p-value의 형태는 무엇인가?\n",
    "\n",
    "    1. p-value > 0.5\n",
    "    2. p-value < 0.5\n",
    "    3. p-value > 0.05\n",
    "    4. p-value < 0.05"
   ]
  },
  {
   "cell_type": "code",
   "execution_count": null,
   "id": "5d3e2311",
   "metadata": {},
   "outputs": [],
   "source": [
    "answer('문제8')"
   ]
  },
  {
   "cell_type": "markdown",
   "id": "c5f7352d",
   "metadata": {},
   "source": [
    "### 문제9. Pearson 상관분석을 실시하였다. 상관관계가 없다고 판별할 수 있는 상관계수 값은 무엇인가?\n",
    "    \n",
    "       1. -0.7\n",
    "       2. -0.1\n",
    "       3. 0.4\n",
    "       4. 1.0"
   ]
  },
  {
   "cell_type": "code",
   "execution_count": null,
   "id": "01afec50",
   "metadata": {},
   "outputs": [],
   "source": [
    "answer('문제9')"
   ]
  },
  {
   "cell_type": "markdown",
   "id": "dc485044",
   "metadata": {},
   "source": [
    "### 문제10. [보기]에서 설명하는 가설검정 방법은?\n",
    "\n",
    "    [보기] \n",
    "    보유한 자료가 가우시안 분포와 차이가 있는 지를 확인한다. p-value가 유의수준 이상일 때, 가우시안 분포를 따른다고 할 수 있다.\n",
    "\n",
    "    1. Pearson 상관분석\n",
    "    2. 정규성 검정\n",
    "    3. t-검정\n",
    "    4. 일원 분산분석"
   ]
  },
  {
   "cell_type": "code",
   "execution_count": null,
   "id": "e7b35034",
   "metadata": {},
   "outputs": [],
   "source": [
    "answer('문제10')"
   ]
  },
  {
   "cell_type": "markdown",
   "id": "058607b4",
   "metadata": {},
   "source": [
    "### 문제11. 의사결정 나무에 대한설명 중 틀린 것은?\n",
    "\n",
    "    1. 분류를 위한 알고리즘이다.\n",
    "    2. 독립 변수와 종속 변수로 나뉘고 종속 변수가 명목형이어야 한다.\n",
    "    3. 나무에서 최초에 등장하는 노드를 뿌리 노드라고 한다.\n",
    "    4. 결과를 해석하기 어렵다."
   ]
  },
  {
   "cell_type": "code",
   "execution_count": null,
   "id": "75e8e2ba",
   "metadata": {},
   "outputs": [],
   "source": [
    "answer('문제11')"
   ]
  },
  {
   "cell_type": "markdown",
   "id": "2dabe0ef",
   "metadata": {},
   "source": [
    "### 문제12. 다음 [보기] 중 회귀 모델의 성능 확인을 위해 사용하는 지표를 모두 고른 것은?\n",
    "\n",
    "    [보기]  ⓐ Accuracy    ⓑ R2 Score   ⓒ RMSE      \n",
    "            ⓓ MAPE        ⓔ F1 score   ⓕ confusion matrix\n",
    "\n",
    "    1. ⓐ, ⓑ, ⓒ, ⓓ, ⓔ, ⓕ\n",
    "    2. ⓑ, ⓒ, ⓓ, ⓔ\n",
    "    3. ⓑ, ⓒ, ⓓ\n",
    "    4. ⓒ, ⓓ, ⓔ"
   ]
  },
  {
   "cell_type": "code",
   "execution_count": null,
   "id": "acdad476",
   "metadata": {},
   "outputs": [],
   "source": [
    "answer('문제12')"
   ]
  },
  {
   "attachments": {
    "image-2.png": {
     "image/png": "[encoded data removed]"
    },
    "image.png": {
     "image/png": "[encoded data removed]"
    }
   },
   "cell_type": "markdown",
   "id": "ae1c344a",
   "metadata": {},
   "source": [
    "### 문제13. 단가가 평균보다 큰 상품의 개수는 몇 개인가?\n",
    "\n",
    "※ 'order_list.csv'를 사용하여 분석하시오.\n",
    "\n",
    "※ ProductNo와 UnitPrice변수를 사용하시오\n",
    "\n",
    "![image.png](attachment:image.png)\n",
    "\n",
    "![image-2.png](attachment:image-2.png)"
   ]
  },
  {
   "cell_type": "code",
   "execution_count": null,
   "id": "e3b2b920",
   "metadata": {},
   "outputs": [],
   "source": [
    "import pandas as pd\n",
    "\n",
    "df = pd.read_csv('order_list.csv')\n",
    "\n",
    "def solution():\n",
    "    return 1"
   ]
  },
  {
   "cell_type": "code",
   "execution_count": null,
   "id": "77b84059",
   "metadata": {},
   "outputs": [],
   "source": [
    "answer('문제13')"
   ]
  },
  {
   "cell_type": "code",
   "execution_count": null,
   "id": "e3029b2a",
   "metadata": {},
   "outputs": [],
   "source": [
    "show_code('문제13')"
   ]
  },
  {
   "attachments": {
    "image-2.png": {
     "image/png": "[encoded data removed]"
    },
    "image.png": {
     "image/png": "[encoded data removed]"
    }
   },
   "cell_type": "markdown",
   "id": "d49e67b7",
   "metadata": {},
   "source": [
    "### 문제14. 각 변수의 결측치 개수를 확인하고 결측치가 가장 많은 변수의 결측치 개수를 구하시오.\n",
    "\n",
    "※ 'poplulation.csv'를 사용하여 분석하시오.\n",
    "\n",
    "![image.png](attachment:image.png)\n",
    "\n",
    "![image-2.png](attachment:image-2.png)"
   ]
  },
  {
   "cell_type": "code",
   "execution_count": null,
   "id": "773b5b1c",
   "metadata": {
    "scrolled": true
   },
   "outputs": [],
   "source": [
    "import pandas as pd\n",
    "\n",
    "df = pd.read_csv('poplulation.csv')\n",
    "\n",
    "def solution():\n",
    "    return 1"
   ]
  },
  {
   "cell_type": "code",
   "execution_count": null,
   "id": "c5980fdc",
   "metadata": {},
   "outputs": [],
   "source": [
    "answer('문제14')"
   ]
  },
  {
   "cell_type": "code",
   "execution_count": null,
   "id": "2346375c",
   "metadata": {},
   "outputs": [],
   "source": [
    "show_code('문제14')"
   ]
  },
  {
   "cell_type": "markdown",
   "id": "41774345",
   "metadata": {},
   "source": [
    "### 문제15. 주문 수량이 가장 많은 고객의 주문 수량은?\n",
    "\n",
    "※ 'order_list.csv'를 사용하여 분석하시오.\n",
    "\n",
    "※ ClientID와 OrderQuantity변수를 사용하시오\n",
    "\n",
    "\n",
    "(정답 예시: 123.45)"
   ]
  },
  {
   "cell_type": "code",
   "execution_count": null,
   "id": "675e24ed",
   "metadata": {},
   "outputs": [],
   "source": [
    "import pandas as pd\n",
    "\n",
    "df = pd.read_csv('order_list.csv')\n",
    "\n",
    "def solution():\n",
    "    return 1"
   ]
  },
  {
   "cell_type": "code",
   "execution_count": null,
   "id": "052483f4",
   "metadata": {},
   "outputs": [],
   "source": [
    "answer('문제15')"
   ]
  },
  {
   "cell_type": "code",
   "execution_count": null,
   "id": "1755f1fb",
   "metadata": {},
   "outputs": [],
   "source": [
    "show_code('문제15')"
   ]
  },
  {
   "cell_type": "markdown",
   "id": "c2b6a275",
   "metadata": {},
   "source": [
    "### 문제16. 재고가 있는 물품에 대해 총 주문 금액을 구하시오.\n",
    "\n",
    "※ 'order_list.csv'를 사용하여 분석하시오.\n",
    "\n",
    "※ Inventory, UnitPrice, OrderQuantity 변수를 사용하시오."
   ]
  },
  {
   "cell_type": "code",
   "execution_count": null,
   "id": "ccd4ff72",
   "metadata": {},
   "outputs": [],
   "source": [
    "import pandas as pd\n",
    "\n",
    "df = pd.read_csv('order_list.csv')\n",
    "\n",
    "def solution():\n",
    "    return 1"
   ]
  },
  {
   "cell_type": "code",
   "execution_count": null,
   "id": "fc2fc994",
   "metadata": {},
   "outputs": [],
   "source": [
    "answer('문제16')"
   ]
  },
  {
   "cell_type": "code",
   "execution_count": null,
   "id": "28a3d087",
   "metadata": {},
   "outputs": [],
   "source": [
    "show_code('문제16')"
   ]
  },
  {
   "attachments": {
    "image.png": {
     "image/png": "[encoded data removed]"
    }
   },
   "cell_type": "markdown",
   "id": "34ed4726",
   "metadata": {},
   "source": [
    "### 문제17. 인구가 유출된 나라의 평균연령를 히스토그램으로 시각화하시오.\n",
    "\n",
    "※ 'poplulation.csv'를 사용하여 분석하시오.\n",
    "\n",
    "※ Migrants 변수가 음수이면 인구 유출을 뜻한다.\n",
    "\n",
    "※ 그래프는 matplotlib 라이브러리의 함수를 활용하여 시각화하시오.\n",
    "\n",
    "![image.png](attachment:image.png)"
   ]
  },
  {
   "cell_type": "code",
   "execution_count": null,
   "id": "237e3ec1",
   "metadata": {},
   "outputs": [],
   "source": [
    "import pandas as pd\n",
    "import matplotlib.pyplot as plt\n",
    "\n",
    "df = pd.read_csv('poplulation.csv')\n",
    "\n",
    "def solution():\n",
    "    # plot.hist()\n",
    "    plt.show()"
   ]
  },
  {
   "cell_type": "code",
   "execution_count": null,
   "id": "585911f2",
   "metadata": {},
   "outputs": [],
   "source": [
    "answer('문제17')"
   ]
  },
  {
   "cell_type": "code",
   "execution_count": null,
   "id": "64b8126e",
   "metadata": {},
   "outputs": [],
   "source": [
    "show_code('문제17')"
   ]
  },
  {
   "attachments": {
    "image.png": {
     "image/png": "[encoded data removed]"
    }
   },
   "cell_type": "markdown",
   "id": "38f2949f",
   "metadata": {},
   "source": [
    "### 문제18. 상품분류별 총 주문수량을 막대 그래프로 시각화 하시오.\n",
    "\n",
    "※ 'order_list.csv'를 사용하여 분석하시오.\n",
    "\n",
    "※ 그래프는 matplotlib 라이브러리의 함수를 활용하여 시각화하시오.\n",
    "![image.png](attachment:image.png)"
   ]
  },
  {
   "cell_type": "code",
   "execution_count": null,
   "id": "4edac8c3",
   "metadata": {},
   "outputs": [],
   "source": [
    "import pandas as pd\n",
    "import matplotlib.pyplot as plt\n",
    "\n",
    "df = pd.read_csv('order_list.csv')\n",
    "\n",
    "def solution():\n",
    "    # plot.bar()\n",
    "    plt.show()"
   ]
  },
  {
   "cell_type": "code",
   "execution_count": null,
   "id": "95316609",
   "metadata": {},
   "outputs": [],
   "source": [
    "answer('문제18')"
   ]
  },
  {
   "cell_type": "code",
   "execution_count": null,
   "id": "7f1374a1",
   "metadata": {},
   "outputs": [],
   "source": [
    "show_code('문제18')"
   ]
  },
  {
   "cell_type": "markdown",
   "id": "cab15539",
   "metadata": {},
   "source": [
    "### 문제19. 도회지의 인구비율(UrbanPop)이 95이하인 국가와 그렇지 않은 국가의 중위 나이(Med Age)는 유의미한 차이가 있는지 독립 2표본 t-검정으로 확인하고, 검정 결과의 p-value를 산출하시오. \n",
    "\n",
    "※ 'poplulation.csv'를 사용하여 분석하시오.\n",
    "\n",
    "※ UrbanPop와 Med Age 변수의 결측치를 제거하시오.\n",
    "\n",
    "※ scipy 라이브러리를 사용하여 t-검정을 실시하시오.\n",
    "\n",
    "※ 결과값은 반올림하여 소수 둘째 자리까지 출력하시오.\n",
    "\n",
    "(정답 예시: 0.12)"
   ]
  },
  {
   "cell_type": "code",
   "execution_count": null,
   "id": "7451a021",
   "metadata": {
    "scrolled": true
   },
   "outputs": [],
   "source": [
    "import pandas as pd\n",
    "from scipy.stats import ttest_ind\n",
    "\n",
    "df = pd.read_csv('poplulation.csv')\n",
    "\n",
    "def solution():\n",
    "    return 1\n"
   ]
  },
  {
   "cell_type": "code",
   "execution_count": null,
   "id": "dcbf05ab",
   "metadata": {},
   "outputs": [],
   "source": [
    "answer('문제19')"
   ]
  },
  {
   "cell_type": "code",
   "execution_count": null,
   "id": "bcf8f2c6",
   "metadata": {},
   "outputs": [],
   "source": [
    "show_code('문제19')"
   ]
  },
  {
   "attachments": {
    "image-2.png": {
     "image/png": "[encoded data removed]"
    },
    "image.png": {
     "image/png": "[encoded data removed]"
    }
   },
   "cell_type": "markdown",
   "id": "f1c2ccc1",
   "metadata": {},
   "source": [
    "### 문제20. 당뇨병여부(Outcome)를 종속변수로 하고 피부두께(SkinThickness)를 제외한 나머지 변수를 독립변수로 하여 의사결정 나무 분석을 실시하고 그 정확도를 산출하시오.\n",
    "\n",
    "※ 'diabetes.csv'를 사용하여 분석하시오.\n",
    "\n",
    "※ sklearn 라이브러리의 함수로 의사결정 나무분석을 실시하시오.\n",
    "\n",
    "※ sklearn 라이브러리의 함수로 정확도를 산출하시오.\n",
    "\n",
    "※ 첫 500개 데이터는 학습데이터로, 나머지 데이터를 평가데이터로 사용하시오.\n",
    "\n",
    "※ 정확도는 반올림하여 소수점 둘째 자리까지 출력하시오.\n",
    "\n",
    "(정답 예시: 0.12)\n",
    "\n",
    "![image.png](attachment:image.png)\n",
    "\n",
    "![image-2.png](attachment:image-2.png)"
   ]
  },
  {
   "cell_type": "code",
   "execution_count": null,
   "id": "59e9ad07",
   "metadata": {},
   "outputs": [],
   "source": [
    "import pandas as pd\n",
    "from sklearn.tree import DecisionTreeClassifier\n",
    "from sklearn.metrics import accuracy_score\n",
    "\n",
    "df = pd.read_csv('diabetes.csv')\n",
    "\n",
    "def solution():\n",
    "    return 1"
   ]
  },
  {
   "cell_type": "code",
   "execution_count": null,
   "id": "bec89050",
   "metadata": {},
   "outputs": [],
   "source": [
    "answer('문제20')"
   ]
  },
  {
   "cell_type": "code",
   "execution_count": null,
   "id": "f5b08c50",
   "metadata": {},
   "outputs": [],
   "source": [
    "show_code('문제20')"
   ]
  }
 ],
 "metadata": {
  "kernelspec": {
   "display_name": "Python 3 (ipykernel)",
   "language": "python",
   "name": "python3"
  },
  "language_info": {
   "codemirror_mode": {
    "name": "ipython",
    "version": 3
   },
   "file_extension": ".py",
   "mimetype": "text/x-python",
   "name": "python",
   "nbconvert_exporter": "python",
   "pygments_lexer": "ipython3",
   "version": "3.9.12"
  }
 },
 "nbformat": 4,
 "nbformat_minor": 5
}

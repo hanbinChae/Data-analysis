{
 "cells": [
  {
   "cell_type": "code",
   "execution_count": null,
   "id": "d40811bf",
   "metadata": {},
   "outputs": [],
   "source": [
    "%%html\n",
    "<style type='text/css'>\n",
    ".CodeMirror{\n",
    "font-size: 18px;\n",
    "font-family: D2CODING;\n",
    "}\n",
    "\n",
    "div.output_area pre {\n",
    "font-size: 15px;\n",
    "font-family: D2CODING; \n",
    "}\n",
    "</style>"
   ]
  },
  {
   "cell_type": "code",
   "execution_count": null,
   "id": "1726363c",
   "metadata": {},
   "outputs": [],
   "source": [
    "import pandas as pd\n",
    "import numpy as np\n",
    "import matplotlib.pyplot as plt"
   ]
  },
  {
   "cell_type": "markdown",
   "id": "2f7960a4",
   "metadata": {},
   "source": [
    "## 1. 통계"
   ]
  },
  {
   "cell_type": "markdown",
   "id": "28329522",
   "metadata": {},
   "source": [
    "### 단순 임의 추출\n",
    "* df.sample()"
   ]
  },
  {
   "cell_type": "code",
   "execution_count": null,
   "id": "e4c905a3",
   "metadata": {},
   "outputs": [],
   "source": [
    "df = pd.read_csv('students_info.csv')\n",
    "df.head()"
   ]
  },
  {
   "cell_type": "code",
   "execution_count": null,
   "id": "4a4c39ed",
   "metadata": {},
   "outputs": [],
   "source": [
    "# 2개 추출 (n=2)\n"
   ]
  },
  {
   "cell_type": "code",
   "execution_count": null,
   "id": "894fb0a8",
   "metadata": {},
   "outputs": [],
   "source": [
    "# 2개 추출, random_state 고정 \n"
   ]
  },
  {
   "cell_type": "code",
   "execution_count": null,
   "id": "66417dd7",
   "metadata": {},
   "outputs": [],
   "source": [
    "#비율로 추출. frac = 추출할 비율 \n"
   ]
  },
  {
   "cell_type": "markdown",
   "id": "7a583781",
   "metadata": {},
   "source": [
    "### Pearson 상관분석\n",
    "* corr()"
   ]
  },
  {
   "cell_type": "code",
   "execution_count": null,
   "id": "60c5cdc1",
   "metadata": {},
   "outputs": [],
   "source": [
    "df = pd.read_csv('iris.csv')\n",
    "df.head()"
   ]
  },
  {
   "cell_type": "code",
   "execution_count": null,
   "id": "0e1d5eea",
   "metadata": {},
   "outputs": [],
   "source": [
    "# 상관계수 출력 \n"
   ]
  },
  {
   "cell_type": "markdown",
   "id": "7aad32fd",
   "metadata": {},
   "source": [
    "* pearsonr"
   ]
  },
  {
   "cell_type": "code",
   "execution_count": null,
   "id": "b443cb1c",
   "metadata": {},
   "outputs": [],
   "source": [
    "# 상관계수와 p-value 구하기 - pearsonr()\n",
    "from scipy.stats import pearsonr\n"
   ]
  },
  {
   "cell_type": "markdown",
   "id": "fb6dbbdc",
   "metadata": {},
   "source": [
    "<p style=\"color:#fb0101;\"><b>실습: df 객체의 Sepal.Length와 Petal.Length의 Pearson's 상관계수를 구하고 그 값을 반올림하여 소수점 둘째 자리까지 구하시오. </b></p>\n",
    "\n",
    "※ 필요시 각 변수의 결측치를 제거하고 분석을 실시하시오."
   ]
  },
  {
   "cell_type": "code",
   "execution_count": null,
   "id": "a0e5a90d",
   "metadata": {},
   "outputs": [],
   "source": [
    "import pandas as pd\n",
    "from scipy.stats import pearsonr\n",
    "\n",
    "df = pd.read_csv('iris.csv')\n",
    "\n",
    "def solution():\n",
    "    return 1\n",
    "\n",
    "solution()"
   ]
  },
  {
   "cell_type": "markdown",
   "id": "975592c0",
   "metadata": {},
   "source": [
    "### 정규성 검정"
   ]
  },
  {
   "cell_type": "code",
   "execution_count": null,
   "id": "339fb7ad",
   "metadata": {},
   "outputs": [],
   "source": [
    "# 정규성 검정을 위해 \n",
    "# 정규 분포인 random 자료와 비정규인 random 자료를 생성\n",
    "np.random.seed(0)\n",
    "df = pd.DataFrame(np.random.normal(size=500),columns=['y'])\n",
    "np.random.seed(0)\n",
    "df['n'] = np.random.uniform(size=500)\n",
    "df"
   ]
  },
  {
   "cell_type": "code",
   "execution_count": null,
   "id": "4cb27232",
   "metadata": {},
   "outputs": [],
   "source": [
    "# y 칼럼으로 히스토그램 그려서 확인\n",
    "\n",
    "# n 칼럼으로 히스토그램 그려서 확인\n"
   ]
  },
  {
   "cell_type": "code",
   "execution_count": null,
   "id": "fb3490ec",
   "metadata": {},
   "outputs": [],
   "source": [
    "# 정규성 검정 - shapiro\n",
    "from scipy.stats import shapiro\n",
    "\n"
   ]
  },
  {
   "cell_type": "markdown",
   "id": "cef0c64a",
   "metadata": {},
   "source": [
    "### t-검정"
   ]
  },
  {
   "cell_type": "code",
   "execution_count": null,
   "id": "fe0c0e7e",
   "metadata": {},
   "outputs": [],
   "source": [
    "df = pd.read_csv('iris.csv')\n",
    "df.describe()"
   ]
  },
  {
   "cell_type": "code",
   "execution_count": null,
   "id": "bd46a3b6",
   "metadata": {},
   "outputs": [],
   "source": [
    "# 정규성 검정\n",
    "from scipy.stats import shapiro\n",
    "print('꽃받침 길이 정규성:',shapiro(df['Sepal.Length'])[1])\n",
    "print('꽃받침 너비 정규성:',shapiro(df['Sepal.Width'])[1])\n",
    "print('꽃잎 길이 정규성:',shapiro(df['Petal.Length'])[1])\n",
    "print('꽃잎 너비 정규성:',shapiro(df['Petal.Width'])[1])"
   ]
  },
  {
   "cell_type": "markdown",
   "id": "24420f98",
   "metadata": {},
   "source": [
    "* 단일표본 :  Sepal.Width 칼럼 t-검정"
   ]
  },
  {
   "cell_type": "code",
   "execution_count": null,
   "id": "3dadace1",
   "metadata": {},
   "outputs": [],
   "source": [
    "# 3.057333 와 단일표본 t-검정 - ttest_1samp (  ) popmean = 비교 수치값\n",
    "from scipy.stats import ttest_1samp\n",
    "\n"
   ]
  },
  {
   "cell_type": "markdown",
   "id": "f3dbfda5",
   "metadata": {},
   "source": [
    "* 독립표본(2표본 t-검정)  : Sepal.Width 칼럼 t-검정"
   ]
  },
  {
   "cell_type": "code",
   "execution_count": null,
   "id": "d36ebf58",
   "metadata": {},
   "outputs": [],
   "source": [
    "# Species 칼럼의 setosa와 versicolor의 두 데이터를 추출하여 Sepal.Width 검정\n",
    "from scipy.stats import ttest_ind\n"
   ]
  },
  {
   "cell_type": "markdown",
   "id": "a236d177",
   "metadata": {},
   "source": [
    "* 대응표본 : Sepal.Length 칼럼과 Petal.Length 칼럼 검정"
   ]
  },
  {
   "cell_type": "code",
   "execution_count": null,
   "id": "ee2279f0",
   "metadata": {},
   "outputs": [],
   "source": [
    "from scipy.stats import ttest_rel\n",
    "\n"
   ]
  },
  {
   "cell_type": "markdown",
   "id": "ad0d0d28",
   "metadata": {},
   "source": [
    "<p style=\"color:#fb0101;\"><b>실습: 커팅(cut)이 'Good'인 다이아몬드와 'Very Good'인 다이아몬드의 가격(price)는 유의미한 차이가 있는지 독립 2표본 t-검정으로 확인하고, 검정 결과의 p-value를 반올림하여 소수점 넷째 자리까지 구하시오.</b></p>\n",
    "\n",
    "※ 가설검정시 별도의 값 지정이 없는 인자는 기본값을 사용하시오.\n",
    "\n",
    "※ scipy.stats의 ttest_ind() 함수를 활용하시오."
   ]
  },
  {
   "cell_type": "code",
   "execution_count": null,
   "id": "0e7e2197",
   "metadata": {},
   "outputs": [],
   "source": [
    "import pandas as pd\n",
    "from scipy.stats import ttest_ind\n",
    "\n",
    "df = pd.read_csv(\"diamonds.csv\")\n",
    "\n",
    "def solution():\n",
    "    return 1\n",
    "\n",
    "solution()"
   ]
  },
  {
   "cell_type": "markdown",
   "id": "1a06a1b2",
   "metadata": {},
   "source": [
    "### 일원 분산분석"
   ]
  },
  {
   "cell_type": "code",
   "execution_count": null,
   "id": "0e9b9b7a",
   "metadata": {},
   "outputs": [],
   "source": [
    "df = pd.read_csv('iris.csv')"
   ]
  },
  {
   "cell_type": "markdown",
   "id": "8d3fbbe0",
   "metadata": {},
   "source": [
    "* scipy.stats 로 일원 분산 분석 실시\n",
    "* setosa, versicolor, virginica별 Sepal.Width 칼럼 데이터로 일원 분산 분석 실시"
   ]
  },
  {
   "cell_type": "code",
   "execution_count": null,
   "id": "81a168dd",
   "metadata": {},
   "outputs": [],
   "source": [
    "from scipy.stats import f_oneway\n"
   ]
  },
  {
   "cell_type": "markdown",
   "id": "cd17d95f",
   "metadata": {},
   "source": [
    "* statsmodels.stats.anova 로 일원 분산 분석 실시"
   ]
  },
  {
   "cell_type": "code",
   "execution_count": null,
   "id": "15c16ae5",
   "metadata": {},
   "outputs": [],
   "source": [
    "# 칼럼명에 . 을 제거하기 위해 rename\n",
    "df.rename(columns={'Sepal.Width':'SW'},inplace=True)\n",
    "df"
   ]
  },
  {
   "cell_type": "code",
   "execution_count": null,
   "id": "61717eff",
   "metadata": {},
   "outputs": [],
   "source": [
    "from statsmodels.formula.api import ols\n",
    "from statsmodels.stats.anova import anova_lm\n",
    "\n",
    "model = ols('SW ~ C(Species)',data=df).fit()\n",
    "anova_lm(model)"
   ]
  },
  {
   "cell_type": "markdown",
   "id": "649d5424",
   "metadata": {},
   "source": [
    "## 2.머신러닝"
   ]
  },
  {
   "cell_type": "code",
   "execution_count": null,
   "id": "bfd654ff",
   "metadata": {},
   "outputs": [],
   "source": [
    "from sklearn.tree import DecisionTreeClassifier\n",
    "from sklearn.metrics import accuracy_score\n",
    "\n",
    "\n",
    "# 데이터 수집\n",
    "x = [[182,167], [175,160], [181,170], [164,159], [170,153]]\n",
    "y = ['큰키','중간키','중간키','작은키','작은키']\n",
    "\n",
    "#데이터 전처리\n",
    "x_train = x\n",
    "y_train = [3,2,2,1,1]\n",
    "x_test = [[180,165],[170,159],[180,190]]\n",
    "y_test = [2,1,3]\n",
    "\n",
    "#머신러닝 모델 생성\n",
    "model = DecisionTreeClassifier()\n",
    "model.fit(x_train,y_train)\n",
    "\n",
    "#예측\n",
    "pred = model.predict(x_test)\n",
    "print(pred)\n",
    "\n",
    "#평가\n",
    "accuracy_score(y_test,pred)"
   ]
  },
  {
   "cell_type": "markdown",
   "id": "1b988aa9",
   "metadata": {},
   "source": [
    "### Holdout Test"
   ]
  },
  {
   "cell_type": "code",
   "execution_count": null,
   "id": "6a571cd1",
   "metadata": {},
   "outputs": [],
   "source": [
    "df = pd.read_csv('iris.csv')\n",
    "df.info()"
   ]
  },
  {
   "cell_type": "markdown",
   "id": "94000983",
   "metadata": {},
   "source": [
    "* 훈련 데이터와 테스트 데이터 분리"
   ]
  },
  {
   "cell_type": "code",
   "execution_count": null,
   "id": "71d09d77",
   "metadata": {},
   "outputs": [],
   "source": [
    "from sklearn.model_selection import train_test_split\n",
    "\n",
    "train_df, test_df = train_test_split(df,train_size=0.7,random_state=0)\n",
    "print(len(train_df))\n",
    "print(len(test_df))"
   ]
  },
  {
   "cell_type": "code",
   "execution_count": null,
   "id": "c5d95627",
   "metadata": {},
   "outputs": [],
   "source": [
    "x = df.iloc[:,:4]\n",
    "y = df['Species']\n",
    "\n",
    "x_train,x_test, y_train,y_test = train_test_split(x,y,train_size=0.8,random_state=0)\n",
    "print(len(x_train),len(y_train))\n",
    "print(len(x_test),len(y_test))"
   ]
  },
  {
   "cell_type": "markdown",
   "id": "1bc47efd",
   "metadata": {},
   "source": [
    "### 의사결정 트리"
   ]
  },
  {
   "cell_type": "markdown",
   "id": "301d2a0f",
   "metadata": {},
   "source": [
    "* 데이터 수집 및 전처리"
   ]
  },
  {
   "cell_type": "code",
   "execution_count": null,
   "id": "8dbb1598",
   "metadata": {},
   "outputs": [],
   "source": [
    "df = pd.read_csv('iris.csv')\n",
    "df.head()"
   ]
  },
  {
   "cell_type": "code",
   "execution_count": null,
   "id": "2c6a188e",
   "metadata": {},
   "outputs": [],
   "source": [
    "df['Species'].value_counts()"
   ]
  },
  {
   "cell_type": "code",
   "execution_count": null,
   "id": "fe1cfeea",
   "metadata": {},
   "outputs": [],
   "source": [
    "from sklearn.model_selection import train_test_split\n",
    "df_train, df_test = train_test_split(df,train_size=0.8,random_state=0)\n",
    "print(len(df_train),len(df_test))"
   ]
  },
  {
   "cell_type": "markdown",
   "id": "277f2707",
   "metadata": {},
   "source": [
    "시험에서는 train_test_split 방식으로 자료를 추출하지 않으므로 실습을 위해 자료를 섞어서 특정 위치까지의 레코드를 가져올 수 있도록 함"
   ]
  },
  {
   "cell_type": "code",
   "execution_count": null,
   "id": "479788c2",
   "metadata": {},
   "outputs": [],
   "source": [
    "# 무작위로 자료 섞기\n",
    "from sklearn.utils import shuffle\n",
    "df = shuffle(df, random_state=0).reset_index(drop=True)\n",
    "df"
   ]
  },
  {
   "cell_type": "code",
   "execution_count": null,
   "id": "8c4ebd2b",
   "metadata": {},
   "outputs": [],
   "source": [
    "#데이터 변환\n",
    "df['y'] = 0\n",
    "df.loc[df['Species'] == 'virginica','y'] = 0\n",
    "df.loc[df['Species'] == 'versicolor','y'] = 1\n",
    "df.loc[df['Species'] == 'virginica','y'] = 2"
   ]
  },
  {
   "cell_type": "code",
   "execution_count": null,
   "id": "82e89dfa",
   "metadata": {},
   "outputs": [],
   "source": [
    "# 독립변수 x와 종속 변수 y로 나누기\n",
    "\n",
    "# 훈련 데이터\n",
    "\n",
    "# 테스트 데이터\n"
   ]
  },
  {
   "cell_type": "markdown",
   "id": "842022cc",
   "metadata": {},
   "source": [
    "* 모델 생성"
   ]
  },
  {
   "cell_type": "code",
   "execution_count": null,
   "id": "85d63e69",
   "metadata": {},
   "outputs": [],
   "source": [
    "from sklearn.tree import DecisionTreeClassifier\n",
    "\n",
    "# 모델 객체 생성 및 훈련\n"
   ]
  },
  {
   "cell_type": "markdown",
   "id": "39bd9877",
   "metadata": {},
   "source": [
    "* 예측 및 평가"
   ]
  },
  {
   "cell_type": "code",
   "execution_count": null,
   "id": "7de91bf3",
   "metadata": {},
   "outputs": [],
   "source": [
    "#예측하기\n"
   ]
  },
  {
   "cell_type": "code",
   "execution_count": null,
   "id": "786cb5c2",
   "metadata": {},
   "outputs": [],
   "source": [
    "# 정확도 평가\n",
    "from sklearn.metrics import accuracy_score\n"
   ]
  },
  {
   "cell_type": "markdown",
   "id": "86c27a94",
   "metadata": {},
   "source": [
    "### 분류 모델의 평가지표"
   ]
  },
  {
   "cell_type": "code",
   "execution_count": null,
   "id": "26544e25",
   "metadata": {},
   "outputs": [],
   "source": [
    "#의사결정 나무 머신러닝 모델 생성\n",
    "import numpy as np\n",
    "import pandas as pd\n",
    "import seaborn as sns\n",
    "from sklearn.utils import shuffle\n",
    "\n",
    "df = sns.load_dataset('penguins')\n",
    "df.drop(df[df['species']=='Gentoo'].index,inplace=True)\n",
    "df.dropna(subset=['body_mass_g'],inplace=True)\n",
    "df = shuffle(df).reset_index(drop=True)"
   ]
  },
  {
   "cell_type": "markdown",
   "id": "b303411d",
   "metadata": {},
   "source": [
    "* 데이터 전처리 및 모델 생성"
   ]
  },
  {
   "cell_type": "code",
   "execution_count": null,
   "id": "80ea535e",
   "metadata": {},
   "outputs": [],
   "source": [
    "from sklearn.tree import DecisionTreeClassifier\n",
    "\n",
    "# 1. species 칼럼 값이 Chinstrap이면 1로 Adelie이면 0으로 변환\n",
    "\n",
    "# 2. bill_length_mm, body_mass_g를 독립변수로 species를 종속변수로  \n",
    "\n",
    "# 3. 훈련 데이터, 테스트 데이터 분리 (훈련데이터 상위 170개로 설정)\n",
    "\n",
    "# 4. 모델 생성\n",
    "\n",
    "# 5. 예측"
   ]
  },
  {
   "cell_type": "markdown",
   "id": "57b756ea",
   "metadata": {},
   "source": [
    "* 분할표(오차행렬)"
   ]
  },
  {
   "cell_type": "code",
   "execution_count": null,
   "id": "227a70b5",
   "metadata": {},
   "outputs": [],
   "source": [
    "from sklearn.metrics import confusion_matrix\n"
   ]
  },
  {
   "cell_type": "markdown",
   "id": "97f51dec",
   "metadata": {},
   "source": [
    "* 정확도"
   ]
  },
  {
   "cell_type": "code",
   "execution_count": null,
   "id": "44bc1351",
   "metadata": {},
   "outputs": [],
   "source": [
    "from sklearn.metrics import accuracy_score\n",
    "\n"
   ]
  },
  {
   "cell_type": "markdown",
   "id": "9686b142",
   "metadata": {},
   "source": [
    "* 정밀도"
   ]
  },
  {
   "cell_type": "code",
   "execution_count": null,
   "id": "75309c1a",
   "metadata": {},
   "outputs": [],
   "source": [
    "from sklearn.metrics import precision_score\n",
    "\n"
   ]
  },
  {
   "cell_type": "markdown",
   "id": "406cb987",
   "metadata": {},
   "source": [
    "* 재현율"
   ]
  },
  {
   "cell_type": "code",
   "execution_count": null,
   "id": "0499597f",
   "metadata": {},
   "outputs": [],
   "source": [
    "from sklearn.metrics import recall_score\n"
   ]
  },
  {
   "cell_type": "markdown",
   "id": "0a889758",
   "metadata": {},
   "source": [
    "* f1 score"
   ]
  },
  {
   "cell_type": "code",
   "execution_count": null,
   "id": "2072ded6",
   "metadata": {},
   "outputs": [],
   "source": [
    "from sklearn.metrics import f1_score\n",
    "\n"
   ]
  },
  {
   "cell_type": "markdown",
   "id": "dc4a934e",
   "metadata": {},
   "source": [
    "### 선형 회귀 분석"
   ]
  },
  {
   "cell_type": "code",
   "execution_count": null,
   "id": "f03b078f",
   "metadata": {},
   "outputs": [],
   "source": [
    "df = pd.read_csv('diamonds.csv')\n",
    "df.info()"
   ]
  },
  {
   "cell_type": "code",
   "execution_count": null,
   "id": "85af3777",
   "metadata": {},
   "outputs": [],
   "source": [
    "df.corr()"
   ]
  },
  {
   "cell_type": "markdown",
   "id": "d0681429",
   "metadata": {},
   "source": [
    "* sklearn 활용"
   ]
  },
  {
   "cell_type": "code",
   "execution_count": null,
   "id": "f9065ef2",
   "metadata": {},
   "outputs": [],
   "source": [
    "from sklearn.linear_model import LinearRegression\n",
    "\n",
    "x= df[['carat']]\n",
    "y = df['price']\n",
    "\n",
    "# 훈련 데이터는 x,y 전체로 설정\n",
    "\n",
    "\n",
    "# 테스트 데이터는 x,y의 상위 4개까지 \n",
    "\n",
    "#모델 생성 및 훈련\n",
    "\n",
    "#예측\n"
   ]
  },
  {
   "cell_type": "code",
   "execution_count": null,
   "id": "d0c3d710",
   "metadata": {},
   "outputs": [],
   "source": [
    "#회귀계수(coef_)와 절편(intercept_)\n"
   ]
  },
  {
   "cell_type": "markdown",
   "id": "ee473963",
   "metadata": {},
   "source": [
    "* statsmodels 활용"
   ]
  },
  {
   "cell_type": "code",
   "execution_count": null,
   "id": "8567eb16",
   "metadata": {},
   "outputs": [],
   "source": [
    "from statsmodels.formula.api import ols\n",
    "\n",
    "df = pd.read_csv('diamonds.csv')\n",
    "\n",
    "model = ols(formula='price ~ carat',data=df).fit()\n",
    "model.summary()"
   ]
  },
  {
   "cell_type": "code",
   "execution_count": null,
   "id": "2d003e56",
   "metadata": {},
   "outputs": [],
   "source": [
    "pred = model.predict(x_test)\n",
    "pred"
   ]
  },
  {
   "cell_type": "code",
   "execution_count": null,
   "id": "1130e4bf",
   "metadata": {},
   "outputs": [],
   "source": [
    "#결정계수\n",
    "model.rsquared"
   ]
  },
  {
   "cell_type": "code",
   "execution_count": null,
   "id": "3dd57e38",
   "metadata": {},
   "outputs": [],
   "source": [
    "#절편과 회귀계수 \n",
    "model.params"
   ]
  },
  {
   "cell_type": "markdown",
   "id": "b607655d",
   "metadata": {},
   "source": [
    "### 회귀 모델의 평가지표"
   ]
  },
  {
   "cell_type": "markdown",
   "id": "102f01bc",
   "metadata": {},
   "source": [
    "* MSE 평가"
   ]
  },
  {
   "cell_type": "code",
   "execution_count": null,
   "id": "0243ad1b",
   "metadata": {},
   "outputs": [],
   "source": [
    "from sklearn.metrics import mean_squared_error\n"
   ]
  },
  {
   "cell_type": "markdown",
   "id": "e1b94aa3",
   "metadata": {},
   "source": [
    "* MAE 평가"
   ]
  },
  {
   "cell_type": "code",
   "execution_count": null,
   "id": "80413990",
   "metadata": {},
   "outputs": [],
   "source": [
    "from sklearn.metrics import mean_absolute_error\n"
   ]
  },
  {
   "cell_type": "markdown",
   "id": "9efb2152",
   "metadata": {},
   "source": [
    "* MAPE 평가"
   ]
  },
  {
   "cell_type": "code",
   "execution_count": null,
   "id": "9abb831f",
   "metadata": {},
   "outputs": [],
   "source": [
    "from sklearn.metrics import mean_absolute_percentage_error\n"
   ]
  },
  {
   "cell_type": "markdown",
   "id": "1933ab1a",
   "metadata": {},
   "source": [
    "* MSE 평가"
   ]
  },
  {
   "cell_type": "code",
   "execution_count": null,
   "id": "786aeac0",
   "metadata": {},
   "outputs": [],
   "source": [
    "from sklearn.metrics import mean_squared_error\n"
   ]
  },
  {
   "cell_type": "markdown",
   "id": "03e5260b",
   "metadata": {},
   "source": [
    "* RMSE 평가"
   ]
  },
  {
   "cell_type": "code",
   "execution_count": null,
   "id": "342823c2",
   "metadata": {},
   "outputs": [],
   "source": []
  },
  {
   "cell_type": "markdown",
   "id": "b74f2f70",
   "metadata": {},
   "source": [
    "* R2 Score"
   ]
  },
  {
   "cell_type": "code",
   "execution_count": null,
   "id": "e2ba6fb8",
   "metadata": {},
   "outputs": [],
   "source": [
    "from sklearn.metrics import r2_score\n"
   ]
  },
  {
   "cell_type": "markdown",
   "id": "4a26d1aa",
   "metadata": {},
   "source": [
    "<p style=\"color:#fb0101;\"><b>실습: df 객체의 price변수를 종속변수로 하고 x,y,z 데이터를 독립변수로 하여 다중선형회귀를 실시하고 절편을 반올림하여 소수점 둘째 자리까지 표기하시오</b></p>\n",
    "\n",
    "※ sklearn의 LinearRegression함수를 활용하여 다중선형회귀를 실시하시오.\n",
    "\n",
    "※ 필요시 각 변수의 결측치를 제거하고 분석을 실시하시오."
   ]
  },
  {
   "cell_type": "code",
   "execution_count": null,
   "id": "50f8bd4e",
   "metadata": {},
   "outputs": [],
   "source": [
    "import pandas as pd\n",
    "from sklearn.linear_model import LinearRegression\n",
    "\n",
    "df = pd.read_csv('diamonds.csv')\n",
    "def solution():\n",
    "    return 1\n",
    "    \n",
    "solution()"
   ]
  },
  {
   "cell_type": "markdown",
   "id": "3588502a",
   "metadata": {},
   "source": [
    "### 이항 로지스틱 회귀 분석"
   ]
  },
  {
   "cell_type": "code",
   "execution_count": null,
   "id": "9f9d5723",
   "metadata": {},
   "outputs": [],
   "source": [
    "df = pd.read_csv('diabetes.csv')\n",
    "df.head()"
   ]
  },
  {
   "cell_type": "markdown",
   "id": "dad84636",
   "metadata": {},
   "source": [
    "* sklearn 활용"
   ]
  },
  {
   "cell_type": "code",
   "execution_count": null,
   "id": "77650101",
   "metadata": {},
   "outputs": [],
   "source": [
    "from sklearn.linear_model import LogisticRegression\n",
    "\n",
    "x= df[['SkinThickness','Insulin','BMI']]\n",
    "y = df['Outcome']\n",
    "\n",
    "x_train = x.iloc[:500,]\n",
    "y_train = y.iloc[:500,]\n",
    "x_test = x.iloc[500:,]\n",
    "y_test = y.iloc[500:,]\n",
    "\n",
    "model = LogisticRegression(random_state=0).fit(x_train,y_train)\n",
    "pred = model.predict(x_test)\n",
    "pred"
   ]
  },
  {
   "cell_type": "code",
   "execution_count": null,
   "id": "71691297",
   "metadata": {},
   "outputs": [],
   "source": [
    "print(model.coef_, model.intercept_)"
   ]
  },
  {
   "cell_type": "code",
   "execution_count": null,
   "id": "0acd6348",
   "metadata": {},
   "outputs": [],
   "source": [
    "from sklearn.metrics import accuracy_score\n",
    "accuracy_score(y_test,pred)"
   ]
  },
  {
   "cell_type": "markdown",
   "id": "85bb9dc9",
   "metadata": {},
   "source": [
    "* statsmodels 활용"
   ]
  },
  {
   "cell_type": "code",
   "execution_count": null,
   "id": "f7d577ca",
   "metadata": {
    "scrolled": true
   },
   "outputs": [],
   "source": [
    "from statsmodels.api import Logit\n",
    "\n",
    "model = Logit(exog=x_train, endog=y_train).fit()\n",
    "model.summary()"
   ]
  },
  {
   "cell_type": "code",
   "execution_count": null,
   "id": "edd92c7a",
   "metadata": {},
   "outputs": [],
   "source": [
    "#model = LogisticRegression(fit_intercept = False, C = 1e9,random_state=0).fit(x_train,y_train)"
   ]
  },
  {
   "cell_type": "code",
   "execution_count": null,
   "id": "005e04f5",
   "metadata": {},
   "outputs": [],
   "source": [
    "pred = model.predict(x_test)\n",
    "pred"
   ]
  },
  {
   "cell_type": "code",
   "execution_count": null,
   "id": "189d5e90",
   "metadata": {},
   "outputs": [],
   "source": [
    "new_pred = (pred>0.5)+0\n",
    "new_pred"
   ]
  },
  {
   "cell_type": "code",
   "execution_count": null,
   "id": "536a1e0c",
   "metadata": {},
   "outputs": [],
   "source": [
    "accuracy_score(y_test,new_pred)"
   ]
  },
  {
   "cell_type": "markdown",
   "id": "d7c8b2da",
   "metadata": {},
   "source": [
    "### 유클리드 거리 계산"
   ]
  },
  {
   "cell_type": "code",
   "execution_count": null,
   "id": "5a76c7b9",
   "metadata": {},
   "outputs": [],
   "source": [
    "arr1 = np.array([0,5,2])\n",
    "arr2 = np.array([1,5,4])\n",
    "print(np.sqrt(sum((arr1-arr2)**2)))\n",
    "print(sum((arr1-arr2)**2)**0.5)"
   ]
  },
  {
   "cell_type": "code",
   "execution_count": null,
   "id": "c4ebef86",
   "metadata": {},
   "outputs": [],
   "source": [
    "# 유클리드 거리 계산 - distance.euclidean()\n",
    "from scipy.spatial import distance\n"
   ]
  },
  {
   "cell_type": "markdown",
   "id": "f115bd0b",
   "metadata": {},
   "source": [
    "### k-means 군집 분석"
   ]
  },
  {
   "cell_type": "code",
   "execution_count": null,
   "id": "9824220e",
   "metadata": {},
   "outputs": [],
   "source": [
    "df = pd.read_csv('iris.csv')\n",
    "df.head()"
   ]
  },
  {
   "cell_type": "code",
   "execution_count": null,
   "id": "0d0d3a17",
   "metadata": {},
   "outputs": [],
   "source": [
    "from sklearn.cluster import KMeans\n",
    "\n",
    "x = df.iloc[:,:-1]\n",
    "\n",
    "model = KMeans(n_clusters = 3,random_state=0).fit(x)"
   ]
  },
  {
   "cell_type": "code",
   "execution_count": null,
   "id": "9d7df89c",
   "metadata": {},
   "outputs": [],
   "source": [
    "#분류된 군집 출력\n"
   ]
  },
  {
   "cell_type": "code",
   "execution_count": null,
   "id": "4f3b719a",
   "metadata": {},
   "outputs": [],
   "source": [
    "# 군집 번호를 데이터프레임에 추가\n"
   ]
  },
  {
   "cell_type": "code",
   "execution_count": null,
   "id": "bc7e6612",
   "metadata": {
    "scrolled": true
   },
   "outputs": [],
   "source": [
    "# 군집과 Species 구성 groupby로 비교해보기\n"
   ]
  },
  {
   "cell_type": "code",
   "execution_count": null,
   "id": "cb8f8875",
   "metadata": {
    "scrolled": true
   },
   "outputs": [],
   "source": [
    "df.plot.scatter(x='Sepal.Length',y='Petal.Length',\n",
    "                c = df['cluster'], colormap='viridis')\n",
    "plt.show()"
   ]
  },
  {
   "cell_type": "markdown",
   "id": "d1a9a4c9",
   "metadata": {},
   "source": [
    "### 계층적 군집 분석"
   ]
  },
  {
   "cell_type": "code",
   "execution_count": null,
   "id": "1a3defc8",
   "metadata": {},
   "outputs": [],
   "source": [
    "df = pd.read_csv('iris.csv')\n",
    "df.head()"
   ]
  },
  {
   "cell_type": "code",
   "execution_count": null,
   "id": "28418f9a",
   "metadata": {},
   "outputs": [],
   "source": [
    "from sklearn.cluster import AgglomerativeClustering\n",
    "x = df.iloc[:,:-1]\n",
    "model = AgglomerativeClustering(n_clusters=3).fit(x)"
   ]
  },
  {
   "cell_type": "code",
   "execution_count": null,
   "id": "9a7a2e0e",
   "metadata": {},
   "outputs": [],
   "source": [
    "#분류된 군집 출력\n",
    "model.labels_"
   ]
  },
  {
   "cell_type": "code",
   "execution_count": null,
   "id": "08246821",
   "metadata": {},
   "outputs": [],
   "source": [
    "df['cluster'] = model.labels_\n",
    "df.groupby('cluster').mean()"
   ]
  },
  {
   "cell_type": "code",
   "execution_count": null,
   "id": "74ec35ec",
   "metadata": {
    "scrolled": true
   },
   "outputs": [],
   "source": [
    "import scipy.cluster.hierarchy as shc\n",
    "\n",
    "data = df.iloc[:,:4].values\n",
    "link = shc.linkage(data, method='ward')\n",
    "dend = shc.dendrogram(link)"
   ]
  }
 ],
 "metadata": {
  "kernelspec": {
   "display_name": "Python 3 (ipykernel)",
   "language": "python",
   "name": "python3"
  },
  "language_info": {
   "codemirror_mode": {
    "name": "ipython",
    "version": 3
   },
   "file_extension": ".py",
   "mimetype": "text/x-python",
   "name": "python",
   "nbconvert_exporter": "python",
   "pygments_lexer": "ipython3",
   "version": "3.9.12"
  }
 },
 "nbformat": 4,
 "nbformat_minor": 5
}

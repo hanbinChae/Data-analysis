{
 "cells": [
  {
   "cell_type": "code",
   "execution_count": 2,
   "id": "b3ebb187",
   "metadata": {},
   "outputs": [],
   "source": [
    "import pandas as pd\n",
    "import numpy as np\n",
    "import matplotlib.pyplot as plt"
   ]
  },
  {
   "cell_type": "markdown",
   "id": "4f6474bc",
   "metadata": {},
   "source": [
    "## 1.데이터 탐색"
   ]
  },
  {
   "cell_type": "markdown",
   "id": "d6917d9b",
   "metadata": {},
   "source": [
    "### 기술 통계량"
   ]
  },
  {
   "cell_type": "markdown",
   "id": "4b8f4e68",
   "metadata": {},
   "source": [
    "* 위치 통계량\n",
    "    - 산술평균, 중앙값, 최빈값, 최솟값, 최댓값"
   ]
  },
  {
   "cell_type": "code",
   "execution_count": 3,
   "id": "3f4c8da8",
   "metadata": {},
   "outputs": [
    {
     "data": {
      "text/html": [
       "<div>\n",
       "<style scoped>\n",
       "    .dataframe tbody tr th:only-of-type {\n",
       "        vertical-align: middle;\n",
       "    }\n",
       "\n",
       "    .dataframe tbody tr th {\n",
       "        vertical-align: top;\n",
       "    }\n",
       "\n",
       "    .dataframe thead th {\n",
       "        text-align: right;\n",
       "    }\n",
       "</style>\n",
       "<table border=\"1\" class=\"dataframe\">\n",
       "  <thead>\n",
       "    <tr style=\"text-align: right;\">\n",
       "      <th></th>\n",
       "      <th>YEAR</th>\n",
       "      <th>MONTH</th>\n",
       "      <th>DAY</th>\n",
       "      <th>X1HR</th>\n",
       "      <th>X2HR</th>\n",
       "      <th>X3HR</th>\n",
       "      <th>X4HR</th>\n",
       "      <th>X5HR</th>\n",
       "      <th>X6HR</th>\n",
       "      <th>X7HR</th>\n",
       "      <th>...</th>\n",
       "      <th>X15HR</th>\n",
       "      <th>X16HR</th>\n",
       "      <th>X17HR</th>\n",
       "      <th>X18HR</th>\n",
       "      <th>X19HR</th>\n",
       "      <th>X20HR</th>\n",
       "      <th>X21HR</th>\n",
       "      <th>X22HR</th>\n",
       "      <th>X23HR</th>\n",
       "      <th>X24HR</th>\n",
       "    </tr>\n",
       "  </thead>\n",
       "  <tbody>\n",
       "    <tr>\n",
       "      <th>0</th>\n",
       "      <td>2017</td>\n",
       "      <td>1</td>\n",
       "      <td>1</td>\n",
       "      <td>60178</td>\n",
       "      <td>57862</td>\n",
       "      <td>56165</td>\n",
       "      <td>55135</td>\n",
       "      <td>54450</td>\n",
       "      <td>54401</td>\n",
       "      <td>54147</td>\n",
       "      <td>...</td>\n",
       "      <td>49213</td>\n",
       "      <td>49357</td>\n",
       "      <td>50362</td>\n",
       "      <td>53115</td>\n",
       "      <td>55205</td>\n",
       "      <td>55437</td>\n",
       "      <td>55348</td>\n",
       "      <td>55790</td>\n",
       "      <td>58195</td>\n",
       "      <td>59330</td>\n",
       "    </tr>\n",
       "    <tr>\n",
       "      <th>1</th>\n",
       "      <td>2017</td>\n",
       "      <td>1</td>\n",
       "      <td>2</td>\n",
       "      <td>57067</td>\n",
       "      <td>55148</td>\n",
       "      <td>53983</td>\n",
       "      <td>53571</td>\n",
       "      <td>54027</td>\n",
       "      <td>55388</td>\n",
       "      <td>57753</td>\n",
       "      <td>...</td>\n",
       "      <td>72228</td>\n",
       "      <td>71945</td>\n",
       "      <td>72641</td>\n",
       "      <td>73387</td>\n",
       "      <td>72294</td>\n",
       "      <td>69989</td>\n",
       "      <td>67893</td>\n",
       "      <td>66504</td>\n",
       "      <td>67435</td>\n",
       "      <td>69275</td>\n",
       "    </tr>\n",
       "    <tr>\n",
       "      <th>2</th>\n",
       "      <td>2017</td>\n",
       "      <td>1</td>\n",
       "      <td>3</td>\n",
       "      <td>66263</td>\n",
       "      <td>64233</td>\n",
       "      <td>63194</td>\n",
       "      <td>62461</td>\n",
       "      <td>62649</td>\n",
       "      <td>63396</td>\n",
       "      <td>65098</td>\n",
       "      <td>...</td>\n",
       "      <td>75576</td>\n",
       "      <td>75168</td>\n",
       "      <td>75791</td>\n",
       "      <td>75922</td>\n",
       "      <td>75469</td>\n",
       "      <td>73118</td>\n",
       "      <td>70769</td>\n",
       "      <td>68726</td>\n",
       "      <td>69593</td>\n",
       "      <td>71346</td>\n",
       "    </tr>\n",
       "    <tr>\n",
       "      <th>3</th>\n",
       "      <td>2017</td>\n",
       "      <td>1</td>\n",
       "      <td>4</td>\n",
       "      <td>68403</td>\n",
       "      <td>66143</td>\n",
       "      <td>65051</td>\n",
       "      <td>64245</td>\n",
       "      <td>64152</td>\n",
       "      <td>64678</td>\n",
       "      <td>66494</td>\n",
       "      <td>...</td>\n",
       "      <td>74977</td>\n",
       "      <td>74275</td>\n",
       "      <td>74909</td>\n",
       "      <td>75344</td>\n",
       "      <td>74504</td>\n",
       "      <td>71957</td>\n",
       "      <td>69715</td>\n",
       "      <td>68155</td>\n",
       "      <td>68948</td>\n",
       "      <td>70834</td>\n",
       "    </tr>\n",
       "    <tr>\n",
       "      <th>4</th>\n",
       "      <td>2017</td>\n",
       "      <td>1</td>\n",
       "      <td>5</td>\n",
       "      <td>68053</td>\n",
       "      <td>65801</td>\n",
       "      <td>64439</td>\n",
       "      <td>63437</td>\n",
       "      <td>63135</td>\n",
       "      <td>63250</td>\n",
       "      <td>63658</td>\n",
       "      <td>...</td>\n",
       "      <td>64767</td>\n",
       "      <td>63613</td>\n",
       "      <td>63095</td>\n",
       "      <td>63230</td>\n",
       "      <td>64253</td>\n",
       "      <td>63353</td>\n",
       "      <td>62455</td>\n",
       "      <td>62314</td>\n",
       "      <td>64350</td>\n",
       "      <td>66687</td>\n",
       "    </tr>\n",
       "    <tr>\n",
       "      <th>5</th>\n",
       "      <td>2017</td>\n",
       "      <td>1</td>\n",
       "      <td>6</td>\n",
       "      <td>64147</td>\n",
       "      <td>62010</td>\n",
       "      <td>60783</td>\n",
       "      <td>59779</td>\n",
       "      <td>59398</td>\n",
       "      <td>59296</td>\n",
       "      <td>58984</td>\n",
       "      <td>...</td>\n",
       "      <td>55408</td>\n",
       "      <td>55256</td>\n",
       "      <td>56000</td>\n",
       "      <td>58322</td>\n",
       "      <td>60456</td>\n",
       "      <td>60310</td>\n",
       "      <td>60173</td>\n",
       "      <td>60224</td>\n",
       "      <td>62288</td>\n",
       "      <td>63214</td>\n",
       "    </tr>\n",
       "    <tr>\n",
       "      <th>6</th>\n",
       "      <td>2017</td>\n",
       "      <td>1</td>\n",
       "      <td>7</td>\n",
       "      <td>60754</td>\n",
       "      <td>58974</td>\n",
       "      <td>57845</td>\n",
       "      <td>57387</td>\n",
       "      <td>57749</td>\n",
       "      <td>58794</td>\n",
       "      <td>60869</td>\n",
       "      <td>...</td>\n",
       "      <td>73064</td>\n",
       "      <td>72466</td>\n",
       "      <td>73274</td>\n",
       "      <td>73844</td>\n",
       "      <td>73287</td>\n",
       "      <td>71062</td>\n",
       "      <td>68628</td>\n",
       "      <td>66861</td>\n",
       "      <td>67697</td>\n",
       "      <td>69219</td>\n",
       "    </tr>\n",
       "  </tbody>\n",
       "</table>\n",
       "<p>7 rows × 27 columns</p>\n",
       "</div>"
      ],
      "text/plain": [
       "   YEAR  MONTH  DAY   X1HR   X2HR   X3HR   X4HR   X5HR   X6HR   X7HR  ...  \\\n",
       "0  2017      1    1  60178  57862  56165  55135  54450  54401  54147  ...   \n",
       "1  2017      1    2  57067  55148  53983  53571  54027  55388  57753  ...   \n",
       "2  2017      1    3  66263  64233  63194  62461  62649  63396  65098  ...   \n",
       "3  2017      1    4  68403  66143  65051  64245  64152  64678  66494  ...   \n",
       "4  2017      1    5  68053  65801  64439  63437  63135  63250  63658  ...   \n",
       "5  2017      1    6  64147  62010  60783  59779  59398  59296  58984  ...   \n",
       "6  2017      1    7  60754  58974  57845  57387  57749  58794  60869  ...   \n",
       "\n",
       "   X15HR  X16HR  X17HR  X18HR  X19HR  X20HR  X21HR  X22HR  X23HR  X24HR  \n",
       "0  49213  49357  50362  53115  55205  55437  55348  55790  58195  59330  \n",
       "1  72228  71945  72641  73387  72294  69989  67893  66504  67435  69275  \n",
       "2  75576  75168  75791  75922  75469  73118  70769  68726  69593  71346  \n",
       "3  74977  74275  74909  75344  74504  71957  69715  68155  68948  70834  \n",
       "4  64767  63613  63095  63230  64253  63353  62455  62314  64350  66687  \n",
       "5  55408  55256  56000  58322  60456  60310  60173  60224  62288  63214  \n",
       "6  73064  72466  73274  73844  73287  71062  68628  66861  67697  69219  \n",
       "\n",
       "[7 rows x 27 columns]"
      ]
     },
     "execution_count": 3,
     "metadata": {},
     "output_type": "execute_result"
    }
   ],
   "source": [
    "df = pd.read_csv('data/elec_load_2017_7d.csv')\n",
    "df"
   ]
  },
  {
   "cell_type": "code",
   "execution_count": 4,
   "id": "d1fb57fc",
   "metadata": {},
   "outputs": [
    {
     "name": "stdout",
     "output_type": "stream",
     "text": [
      "<class 'pandas.core.frame.DataFrame'>\n",
      "RangeIndex: 7 entries, 0 to 6\n",
      "Data columns (total 27 columns):\n",
      " #   Column  Non-Null Count  Dtype\n",
      "---  ------  --------------  -----\n",
      " 0   YEAR    7 non-null      int64\n",
      " 1   MONTH   7 non-null      int64\n",
      " 2   DAY     7 non-null      int64\n",
      " 3   X1HR    7 non-null      int64\n",
      " 4   X2HR    7 non-null      int64\n",
      " 5   X3HR    7 non-null      int64\n",
      " 6   X4HR    7 non-null      int64\n",
      " 7   X5HR    7 non-null      int64\n",
      " 8   X6HR    7 non-null      int64\n",
      " 9   X7HR    7 non-null      int64\n",
      " 10  X8HR    7 non-null      int64\n",
      " 11  X9HR    7 non-null      int64\n",
      " 12  X10HR   7 non-null      int64\n",
      " 13  X11HR   7 non-null      int64\n",
      " 14  X12HR   7 non-null      int64\n",
      " 15  X13HR   7 non-null      int64\n",
      " 16  X14HR   7 non-null      int64\n",
      " 17  X15HR   7 non-null      int64\n",
      " 18  X16HR   7 non-null      int64\n",
      " 19  X17HR   7 non-null      int64\n",
      " 20  X18HR   7 non-null      int64\n",
      " 21  X19HR   7 non-null      int64\n",
      " 22  X20HR   7 non-null      int64\n",
      " 23  X21HR   7 non-null      int64\n",
      " 24  X22HR   7 non-null      int64\n",
      " 25  X23HR   7 non-null      int64\n",
      " 26  X24HR   7 non-null      int64\n",
      "dtypes: int64(27)\n",
      "memory usage: 1.6 KB\n"
     ]
    }
   ],
   "source": [
    "df.info()"
   ]
  },
  {
   "cell_type": "code",
   "execution_count": 7,
   "id": "5c356a61",
   "metadata": {},
   "outputs": [
    {
     "data": {
      "text/plain": [
       "68403"
      ]
     },
     "execution_count": 7,
     "metadata": {},
     "output_type": "execute_result"
    }
   ],
   "source": [
    "# X1HR 칼럼의 평균, 중앙값, 최솟값, 최댓값\n",
    "df['X1HR'].mean()\n",
    "df['X1HR'].min()\n",
    "df['X1HR'].max()"
   ]
  },
  {
   "cell_type": "code",
   "execution_count": null,
   "id": "61a18eed",
   "metadata": {},
   "outputs": [],
   "source": [
    "#최빈값(mode)\n"
   ]
  },
  {
   "cell_type": "markdown",
   "id": "11376e67",
   "metadata": {},
   "source": [
    "* 변이 통계량\n",
    "    - 분위수(quantile), 분산, 표준편차"
   ]
  },
  {
   "cell_type": "code",
   "execution_count": null,
   "id": "e4a271e4",
   "metadata": {},
   "outputs": [],
   "source": [
    "# 제 1 사분위수, 제 2 사분위수, 제 3 사분위수\n"
   ]
  },
  {
   "cell_type": "code",
   "execution_count": null,
   "id": "38fd9223",
   "metadata": {},
   "outputs": [],
   "source": [
    "# 상자수염 그래프 그려보기\n"
   ]
  },
  {
   "cell_type": "markdown",
   "id": "308a3585",
   "metadata": {},
   "source": [
    "<p style=\"color:#fb0101;\"><b>실습: df 객체의 X2HR 변수의 제 98 백분위수를 반올림하여 소수점 둘째 자리까지 구하시오 </b></p>"
   ]
  },
  {
   "cell_type": "code",
   "execution_count": null,
   "id": "edf3bade",
   "metadata": {},
   "outputs": [],
   "source": [
    "import pandas as pd\n",
    "\n",
    "df = pd.read_csv('./elec_load_2017_7d.csv')\n",
    "\n",
    "def solution():\n",
    "    return 1\n",
    "    \n",
    "solution()"
   ]
  },
  {
   "cell_type": "code",
   "execution_count": null,
   "id": "2b96fa65",
   "metadata": {},
   "outputs": [],
   "source": [
    "# 분산, 표준편차\n"
   ]
  },
  {
   "cell_type": "code",
   "execution_count": null,
   "id": "ed02bb5f",
   "metadata": {
    "scrolled": true
   },
   "outputs": [],
   "source": [
    "# 전체 통계량 조회 - describe()\n"
   ]
  },
  {
   "cell_type": "markdown",
   "id": "df6164fa",
   "metadata": {},
   "source": [
    "<p style=\"color:#fb0101;\"><b>실습: df 객체의 Period와 Sales_quantity의 결측치를 제거한 후 Period 변수의 값에서 년도만을 추출하여 새로운 변수 Year에 저장하고, Year별 Sales_quantity 변수의 평균을 구하시오. 평균 중 가장 큰 값을 구하시오. </b></p>\n",
    "\n",
    "※ 'Month_Value_1.csv' 파일을 사용하여 분석하시오.\n",
    "\n",
    "※ Pandas의 to_datetime( ) 함수를 사용하시오.\n",
    "\n",
    "※ Pandas Series 객체의 .dt.accessor의 year 어트리뷰트를 사용하시오.\n",
    "\n",
    "※ Pandas의 groupby() 메서드를 사용하시오.\n",
    "\n",
    "※ 소수점 두 번째 자리까지 구하시오."
   ]
  },
  {
   "cell_type": "code",
   "execution_count": null,
   "id": "dd088202",
   "metadata": {},
   "outputs": [],
   "source": [
    "import numpy as np\n",
    "import pandas as pd\n",
    "\n",
    "df = pd.read_csv('./Month_Value_1.csv')\n",
    "\n",
    "def solution():\n",
    "    return 1\n",
    "    \n",
    "solution()\n"
   ]
  },
  {
   "cell_type": "markdown",
   "id": "29c4cbff",
   "metadata": {},
   "source": [
    "* 모양 통계량\n",
    "    - 왜도, 첨도"
   ]
  },
  {
   "cell_type": "code",
   "execution_count": null,
   "id": "b0aa5f5e",
   "metadata": {},
   "outputs": [],
   "source": [
    "df = pd.read_csv('./elec_load_2017_7d.csv')\n",
    "\n",
    "print('왜도:',df['X1HR'].skew())\n",
    "print('첨도:',df['X1HR'].kurt())"
   ]
  },
  {
   "cell_type": "markdown",
   "id": "373e3dd4",
   "metadata": {},
   "source": [
    "### 이상치"
   ]
  },
  {
   "cell_type": "markdown",
   "id": "24d6ad64",
   "metadata": {},
   "source": [
    "* 예)평균을 기준으로 1 표준편차보다 멀리 있는 값을 이상치로 처리"
   ]
  },
  {
   "cell_type": "code",
   "execution_count": null,
   "id": "80e223b7",
   "metadata": {},
   "outputs": [],
   "source": [
    "# 왼쪽 기준값과 오른쪽 기준값을 구하기\n",
    "right = df['X2HR'].mean() + df['X2HR'].std()\n",
    "left = df['X2HR'].mean() - df['X2HR'].std()\n",
    "print(left, right)"
   ]
  },
  {
   "cell_type": "code",
   "execution_count": null,
   "id": "e6b016f7",
   "metadata": {},
   "outputs": [],
   "source": [
    "#이상치 구하기\n",
    "df[(df['X2HR'] < left) | (df['X2HR'] > right)]"
   ]
  },
  {
   "cell_type": "code",
   "execution_count": null,
   "id": "42b046c1",
   "metadata": {
    "scrolled": true
   },
   "outputs": [],
   "source": [
    "# 이상치를 제거한 데이터\n",
    "df[~((df['X2HR'] < left) | (df['X2HR'] > right))]"
   ]
  },
  {
   "cell_type": "code",
   "execution_count": null,
   "id": "f7e61a22",
   "metadata": {},
   "outputs": [],
   "source": [
    "# 이상치를 제거한 데이터\n",
    "df[(df['X2HR'] >= left) & (df['X2HR'] <= right)]"
   ]
  }
 ],
 "metadata": {
  "kernelspec": {
   "display_name": "Python 3 (ipykernel)",
   "language": "python",
   "name": "python3"
  },
  "language_info": {
   "codemirror_mode": {
    "name": "ipython",
    "version": 3
   },
   "file_extension": ".py",
   "mimetype": "text/x-python",
   "name": "python",
   "nbconvert_exporter": "python",
   "pygments_lexer": "ipython3",
   "version": "3.9.12"
  }
 },
 "nbformat": 4,
 "nbformat_minor": 5
}

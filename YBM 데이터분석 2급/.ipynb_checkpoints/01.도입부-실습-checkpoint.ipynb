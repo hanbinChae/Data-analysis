{
 "cells": [
  {
   "cell_type": "markdown",
   "id": "502f9855",
   "metadata": {},
   "source": [
    "## 1. 파이썬 기초 문법\n",
    "### 데이터 타입"
   ]
  },
  {
   "cell_type": "markdown",
   "id": "340a296f",
   "metadata": {},
   "source": [
    "* 정수"
   ]
  },
  {
   "cell_type": "code",
   "execution_count": 1,
   "id": "a890ce0d",
   "metadata": {},
   "outputs": [
    {
     "name": "stdout",
     "output_type": "stream",
     "text": [
      "<class 'int'> 10\n"
     ]
    }
   ],
   "source": [
    "a = 10\n",
    "print(type(a), a)"
   ]
  },
  {
   "cell_type": "markdown",
   "id": "cef465be",
   "metadata": {},
   "source": [
    "* 실수"
   ]
  },
  {
   "cell_type": "code",
   "execution_count": 2,
   "id": "8827249c",
   "metadata": {},
   "outputs": [
    {
     "name": "stdout",
     "output_type": "stream",
     "text": [
      "<class 'float'> 1.2\n"
     ]
    }
   ],
   "source": [
    "a = 1.2\n",
    "print(type(a), a)"
   ]
  },
  {
   "cell_type": "markdown",
   "id": "e60f0d8f",
   "metadata": {},
   "source": [
    "* 문자열"
   ]
  },
  {
   "cell_type": "code",
   "execution_count": 5,
   "id": "eca443fc",
   "metadata": {
    "scrolled": true
   },
   "outputs": [
    {
     "name": "stdout",
     "output_type": "stream",
     "text": [
      "<class 'str'> data\n"
     ]
    }
   ],
   "source": [
    "a = 'data'\n",
    "print(type(a), a)"
   ]
  },
  {
   "cell_type": "markdown",
   "id": "48135ea5",
   "metadata": {},
   "source": [
    "<p style=\"color:#fb0101;\"><b>실습: 세 변수를 출력해 보세요</b></p>"
   ]
  },
  {
   "cell_type": "code",
   "execution_count": 6,
   "id": "7b56c6c4",
   "metadata": {},
   "outputs": [
    {
     "name": "stdout",
     "output_type": "stream",
     "text": [
      "1 2.0 3\n"
     ]
    }
   ],
   "source": [
    "i=1      #정수\n",
    "f = 2.0  #실수\n",
    "s = '3'  #문자열\n",
    "\n",
    "def solution():\n",
    "    print(i,f,s)\n",
    "    \n",
    "solution()"
   ]
  },
  {
   "cell_type": "markdown",
   "id": "3de70bd9",
   "metadata": {},
   "source": [
    "* 부울"
   ]
  },
  {
   "cell_type": "code",
   "execution_count": 7,
   "id": "d3ae75af",
   "metadata": {},
   "outputs": [
    {
     "name": "stdout",
     "output_type": "stream",
     "text": [
      "<class 'bool'> True\n"
     ]
    }
   ],
   "source": [
    "a = True\n",
    "print(type(a), a)"
   ]
  },
  {
   "cell_type": "markdown",
   "id": "de3e6cb5",
   "metadata": {},
   "source": [
    "* 정수로 변환 : int( )"
   ]
  },
  {
   "cell_type": "code",
   "execution_count": 8,
   "id": "68e759ae",
   "metadata": {},
   "outputs": [
    {
     "name": "stdout",
     "output_type": "stream",
     "text": [
      "<class 'int'> 2\n",
      "<class 'int'> 3\n"
     ]
    }
   ],
   "source": [
    "f = 2.0 #실수\n",
    "s = '3' #문자열\n",
    "\n",
    "f_to_i = int(f) #실수를 정수로\n",
    "s_to_i = int(s) #문자열을 정수로\n",
    "\n",
    "print(type(f_to_i), f_to_i)\n",
    "print(type(s_to_i), s_to_i)"
   ]
  },
  {
   "cell_type": "markdown",
   "id": "1d8ba9fb",
   "metadata": {},
   "source": [
    "* 실수로 변환 : float( )"
   ]
  },
  {
   "cell_type": "code",
   "execution_count": 9,
   "id": "6e5d624d",
   "metadata": {
    "scrolled": false
   },
   "outputs": [
    {
     "name": "stdout",
     "output_type": "stream",
     "text": [
      "<class 'float'> 1.0\n",
      "<class 'float'> 3.0\n"
     ]
    }
   ],
   "source": [
    "i = 1\n",
    "s = '3'\n",
    "\n",
    "i_to_f = float(i)\n",
    "s_to_f = float(s)\n",
    "\n",
    "print(type(i_to_f), i_to_f)\n",
    "print(type(s_to_f), s_to_f)"
   ]
  },
  {
   "cell_type": "markdown",
   "id": "a87e2769",
   "metadata": {},
   "source": [
    "* 문자열로 변환 : str( )"
   ]
  },
  {
   "cell_type": "code",
   "execution_count": 10,
   "id": "de914602",
   "metadata": {
    "scrolled": false
   },
   "outputs": [
    {
     "name": "stdout",
     "output_type": "stream",
     "text": [
      "<class 'str'> 1\n",
      "<class 'str'> 2.0\n"
     ]
    }
   ],
   "source": [
    "i = 1\n",
    "f = 2.0\n",
    "\n",
    "i_to_s = str(i)\n",
    "f_to_s = str(f)\n",
    "\n",
    "print(type(i_to_s), i_to_s)\n",
    "print(type(f_to_s), f_to_s)"
   ]
  },
  {
   "cell_type": "markdown",
   "id": "729e4738",
   "metadata": {},
   "source": [
    "<p style=\"color:#fb0101;\"><b>실습: 세 변수를 정수형, 실수형, 문자형으로 변환하여 출력해 보세요</b></p>"
   ]
  },
  {
   "cell_type": "code",
   "execution_count": 13,
   "id": "a626edd5",
   "metadata": {},
   "outputs": [
    {
     "name": "stdout",
     "output_type": "stream",
     "text": [
      "정수형 변환: 1 2\n",
      "실수형 변환: 1.0 2.0\n",
      "문자형 변환: 1 2.0\n"
     ]
    }
   ],
   "source": [
    "i=1      #정수\n",
    "f = 2.0  #실수\n",
    "s = '3'  #문자열\n",
    "\n",
    "def solution():\n",
    "    print('정수형 변환:',int(i),int(f))\n",
    "    print('실수형 변환:',float(i),float(f))\n",
    "    print('문자형 변환:',str(i),str(f))\n",
    "\n",
    "solution()"
   ]
  },
  {
   "cell_type": "markdown",
   "id": "67a57a58",
   "metadata": {},
   "source": [
    "* 에러 발생"
   ]
  },
  {
   "cell_type": "code",
   "execution_count": 16,
   "id": "608c10dc",
   "metadata": {},
   "outputs": [
    {
     "name": "stdout",
     "output_type": "stream",
     "text": [
      "3\n"
     ]
    }
   ],
   "source": [
    "s = '3.0'\n",
    "s_to_i = int(float(s))\n",
    "print(s_to_i)"
   ]
  },
  {
   "cell_type": "code",
   "execution_count": 17,
   "id": "61c4d5a0",
   "metadata": {},
   "outputs": [
    {
     "ename": "ValueError",
     "evalue": "invalid literal for int() with base 10: 'a'",
     "output_type": "error",
     "traceback": [
      "\u001b[1;31m---------------------------------------------------------------------------\u001b[0m",
      "\u001b[1;31mValueError\u001b[0m                                Traceback (most recent call last)",
      "Input \u001b[1;32mIn [17]\u001b[0m, in \u001b[0;36m<cell line: 2>\u001b[1;34m()\u001b[0m\n\u001b[0;32m      1\u001b[0m s \u001b[38;5;241m=\u001b[39m \u001b[38;5;124m'\u001b[39m\u001b[38;5;124ma\u001b[39m\u001b[38;5;124m'\u001b[39m\n\u001b[1;32m----> 2\u001b[0m s_to_i \u001b[38;5;241m=\u001b[39m \u001b[38;5;28;43mint\u001b[39;49m\u001b[43m(\u001b[49m\u001b[43ms\u001b[49m\u001b[43m)\u001b[49m\n",
      "\u001b[1;31mValueError\u001b[0m: invalid literal for int() with base 10: 'a'"
     ]
    }
   ],
   "source": [
    "s = 'a'\n",
    "s_to_i = int(s)"
   ]
  },
  {
   "cell_type": "markdown",
   "id": "a5039be3",
   "metadata": {},
   "source": [
    "### 연산자"
   ]
  },
  {
   "cell_type": "code",
   "execution_count": null,
   "id": "bce04f6b",
   "metadata": {},
   "outputs": [],
   "source": [
    "print('1+2 =',1+2)\n",
    "print('2*3 =',2*3)\n",
    "print('2/4 =',2/4)\n",
    "print('5//2 =',5//2)\n",
    "print('5%2 =',5%2)\n",
    "print('2**3 =',2**3)\n",
    "print('\"DA\"+\"TA\" =',\"DA\"+\"TA\")\n",
    "print('\"DATA\"*3 =',\"DATA\"*3)\n",
    "print(\"2 == 2 :\",2==2)\n",
    "print(\"2 > 3 :\",2>3)"
   ]
  },
  {
   "cell_type": "markdown",
   "id": "58c0a932",
   "metadata": {},
   "source": [
    "### 문자열 자르기"
   ]
  },
  {
   "cell_type": "code",
   "execution_count": null,
   "id": "5482786f",
   "metadata": {},
   "outputs": [],
   "source": [
    "a = \"DATA\"\n",
    "\n"
   ]
  },
  {
   "cell_type": "markdown",
   "id": "e425f99a",
   "metadata": {},
   "source": [
    "<p style=\"color:#fb0101;\"><b>실습: 문자열 자르기 기능을 이용해서 \"slice = SLICE\"를 출력하세요</b></p>"
   ]
  },
  {
   "cell_type": "code",
   "execution_count": null,
   "id": "37e6dfb5",
   "metadata": {},
   "outputs": [],
   "source": [
    "a = \"DATA SLICE.\"\n",
    "\n",
    "def solution():\n",
    "    print(\"slice =\",\"???\")\n",
    "    \n",
    "solution()"
   ]
  },
  {
   "cell_type": "markdown",
   "id": "4575410d",
   "metadata": {},
   "source": [
    "### 제어문"
   ]
  },
  {
   "cell_type": "markdown",
   "id": "9536784e",
   "metadata": {},
   "source": [
    "* 조건문\n",
    "\n",
    "1. 점수를 입력 받기 ( input(), int() )\n",
    "2. 90점 이상이면 입력 받은 점수와 'A'를 출력하고 다음 줄에 '축하합니다.' 출력\n",
    "3. 60점 이상 90점 미만이면 'P'를 출력\n",
    "4. 60미만이면 'F' 출력"
   ]
  },
  {
   "cell_type": "code",
   "execution_count": null,
   "id": "5689b6c6",
   "metadata": {},
   "outputs": [],
   "source": []
  },
  {
   "cell_type": "markdown",
   "id": "b80d617a",
   "metadata": {},
   "source": [
    "* 반복문"
   ]
  },
  {
   "cell_type": "markdown",
   "id": "039c41ca",
   "metadata": {},
   "source": [
    "0부터 4까지 출력"
   ]
  },
  {
   "cell_type": "code",
   "execution_count": null,
   "id": "c168d37f",
   "metadata": {},
   "outputs": [],
   "source": []
  },
  {
   "cell_type": "markdown",
   "id": "d2389759",
   "metadata": {},
   "source": [
    "1부터 4까지 출력"
   ]
  },
  {
   "cell_type": "code",
   "execution_count": null,
   "id": "a99005b6",
   "metadata": {},
   "outputs": [],
   "source": []
  },
  {
   "cell_type": "markdown",
   "id": "fe085d03",
   "metadata": {},
   "source": [
    "1부터 2씩 증가하면서 4까지 출력"
   ]
  },
  {
   "cell_type": "code",
   "execution_count": null,
   "id": "2c49abf2",
   "metadata": {},
   "outputs": [],
   "source": []
  },
  {
   "cell_type": "markdown",
   "id": "a983f467",
   "metadata": {},
   "source": [
    "'데이터분석' 문자열을 반복문을 출력해보기"
   ]
  },
  {
   "cell_type": "code",
   "execution_count": null,
   "id": "53590979",
   "metadata": {},
   "outputs": [],
   "source": []
  },
  {
   "cell_type": "markdown",
   "id": "6b5dbd08",
   "metadata": {},
   "source": [
    "['데이터', '분석', '기술평가', '파이썬'] 리스트를 반복문으로 출력해보기"
   ]
  },
  {
   "cell_type": "code",
   "execution_count": null,
   "id": "8d50f022",
   "metadata": {},
   "outputs": [],
   "source": [
    "for s in ['데이터', '분석', '기술평가', '파이썬']:\n",
    "    print(s)"
   ]
  },
  {
   "cell_type": "markdown",
   "id": "15d69350",
   "metadata": {},
   "source": [
    "### 함수와 메서드"
   ]
  },
  {
   "cell_type": "markdown",
   "id": "3561c8a3",
   "metadata": {},
   "source": [
    "* 기본 함수\n",
    "\n",
    "round(), abs(), pow()"
   ]
  },
  {
   "cell_type": "code",
   "execution_count": null,
   "id": "d7eac69b",
   "metadata": {},
   "outputs": [],
   "source": []
  },
  {
   "cell_type": "markdown",
   "id": "f51eefbf",
   "metadata": {},
   "source": [
    "<p style=\"color:#fb0101;\"><b>실습: -12.4567를 제곱하고 반올림하여 소수점 셋째 자리까지 표기하여 출력하세요</b></p>"
   ]
  },
  {
   "cell_type": "code",
   "execution_count": null,
   "id": "52c59211",
   "metadata": {},
   "outputs": [],
   "source": [
    "a = -12.4567\n",
    "\n",
    "def solution():\n",
    "    print(\"???\")\n",
    "    \n",
    "solution()"
   ]
  },
  {
   "cell_type": "markdown",
   "id": "76531a8e",
   "metadata": {},
   "source": [
    "<p style=\"color:#fb0101;\"><b>실습: -12.4567의 절대값을 출력하세요</b></p>"
   ]
  },
  {
   "cell_type": "code",
   "execution_count": null,
   "id": "11142b96",
   "metadata": {},
   "outputs": [],
   "source": [
    "a = -12.4567\n",
    "\n",
    "def solution():\n",
    "    print(\"???\")\n",
    "    \n",
    "solution()"
   ]
  },
  {
   "cell_type": "markdown",
   "id": "f53ba656",
   "metadata": {},
   "source": [
    "* 문자열 메서드"
   ]
  },
  {
   "cell_type": "code",
   "execution_count": null,
   "id": "4b230087",
   "metadata": {},
   "outputs": [],
   "source": [
    "print(\"data Analysis\".upper())"
   ]
  },
  {
   "cell_type": "code",
   "execution_count": null,
   "id": "a8c9a057",
   "metadata": {},
   "outputs": [],
   "source": [
    "print(\"DATA Analysis\".lower())"
   ]
  },
  {
   "cell_type": "code",
   "execution_count": null,
   "id": "a4b835df",
   "metadata": {},
   "outputs": [],
   "source": [
    "print(\"DATA Analysis\".count(\"A\"))"
   ]
  },
  {
   "cell_type": "code",
   "execution_count": null,
   "id": "3cd3ff8a",
   "metadata": {},
   "outputs": [],
   "source": [
    "print(\"DATA Analysis\".find(\"T\"))"
   ]
  },
  {
   "cell_type": "markdown",
   "id": "436a2ba1",
   "metadata": {},
   "source": [
    "<p style=\"color:#fb0101;\"><b>실습: 주어진 변수a를 전체 대문자로 한 번, 전체 소문자로 한 번 한 줄로 붙여서 출력하세요</b></p>\n",
    "(실행 결과:PYTHONPANDASNUMPYpythonpandasnumpy)"
   ]
  },
  {
   "cell_type": "code",
   "execution_count": null,
   "id": "567d82f4",
   "metadata": {},
   "outputs": [],
   "source": [
    "a = \"PythonPandasNumpy\"\n",
    "\n",
    "def solution():\n",
    "    print(\"???\")\n",
    "    \n",
    "solution()"
   ]
  },
  {
   "cell_type": "markdown",
   "id": "f5c35900",
   "metadata": {},
   "source": [
    "* 사용자 정의 함수"
   ]
  },
  {
   "cell_type": "code",
   "execution_count": null,
   "id": "09c0b277",
   "metadata": {},
   "outputs": [],
   "source": [
    "# 매개변수 0개, return 0개\n"
   ]
  },
  {
   "cell_type": "code",
   "execution_count": null,
   "id": "8e30f22b",
   "metadata": {},
   "outputs": [],
   "source": [
    "# 매개변수 1개, return 0개\n"
   ]
  },
  {
   "cell_type": "code",
   "execution_count": null,
   "id": "c9f7810e",
   "metadata": {},
   "outputs": [],
   "source": [
    "# 매개변수 1개, return 1개\n"
   ]
  },
  {
   "cell_type": "code",
   "execution_count": null,
   "id": "77d787e7",
   "metadata": {},
   "outputs": [],
   "source": [
    "# 매개변수 2개, return 1개\n"
   ]
  },
  {
   "cell_type": "code",
   "execution_count": null,
   "id": "43c15811",
   "metadata": {},
   "outputs": [],
   "source": [
    "# 매개변수 2개, return 2개\n"
   ]
  },
  {
   "cell_type": "markdown",
   "id": "82d26cbe",
   "metadata": {},
   "source": [
    "### 리스트(list)"
   ]
  },
  {
   "cell_type": "markdown",
   "id": "8e342596",
   "metadata": {},
   "source": [
    "* 리스트 생성1"
   ]
  },
  {
   "cell_type": "code",
   "execution_count": null,
   "id": "34a23b73",
   "metadata": {},
   "outputs": [],
   "source": []
  },
  {
   "cell_type": "markdown",
   "id": "86bdf94b",
   "metadata": {},
   "source": [
    "* 리스트 생성2"
   ]
  },
  {
   "cell_type": "code",
   "execution_count": null,
   "id": "c9e59ff8",
   "metadata": {},
   "outputs": [],
   "source": [
    "# * 연산자 사용\n"
   ]
  },
  {
   "cell_type": "code",
   "execution_count": null,
   "id": "2d935290",
   "metadata": {},
   "outputs": [],
   "source": [
    "# + 연산자 사용\n",
    "\n",
    "print(y)"
   ]
  },
  {
   "cell_type": "markdown",
   "id": "73dbe767",
   "metadata": {},
   "source": [
    "* 리스트 슬라이싱"
   ]
  },
  {
   "cell_type": "code",
   "execution_count": null,
   "id": "e4b0f017",
   "metadata": {},
   "outputs": [],
   "source": [
    "x = [10, 20, 30, 40]\n"
   ]
  },
  {
   "cell_type": "markdown",
   "id": "9b43b4a7",
   "metadata": {},
   "source": [
    "<p style=\"color:#fb0101;\"><b>실습: 주어진 리스트에서 첫번째와 마지막 요소를 제외하고 출력하세요.</b></p>"
   ]
  },
  {
   "cell_type": "code",
   "execution_count": null,
   "id": "7d700a64",
   "metadata": {},
   "outputs": [],
   "source": [
    "x = [1,2,3,4,5,6,7]\n",
    "\n",
    "def solution():\n",
    "    print(\"???\")\n",
    "    \n",
    "solution()\n"
   ]
  },
  {
   "cell_type": "markdown",
   "id": "389ff45a",
   "metadata": {},
   "source": [
    "* 리스트 관련 함수\n",
    "\n",
    "len(), sum(), min(), max()"
   ]
  },
  {
   "cell_type": "code",
   "execution_count": null,
   "id": "33199bd7",
   "metadata": {},
   "outputs": [],
   "source": [
    "a = [1,2,3]\n"
   ]
  },
  {
   "cell_type": "markdown",
   "id": "a8c4fa1a",
   "metadata": {},
   "source": [
    "<p style=\"color:#fb0101;\"><b>실습: 주어진 리스트의 원소 개수를 출력하세요.</b></p>"
   ]
  },
  {
   "cell_type": "code",
   "execution_count": null,
   "id": "56f74958",
   "metadata": {},
   "outputs": [],
   "source": [
    "x = [1,2,3,4,5,6,7,8] * 2\n",
    "\n",
    "def solution():\n",
    "    print(\"???\")\n",
    "\n",
    "solution()"
   ]
  },
  {
   "cell_type": "markdown",
   "id": "750c3e65",
   "metadata": {},
   "source": [
    "### 튜플(tuple)"
   ]
  },
  {
   "cell_type": "markdown",
   "id": "1b0f96f1",
   "metadata": {},
   "source": [
    "* 튜플 생성"
   ]
  },
  {
   "cell_type": "code",
   "execution_count": null,
   "id": "67b00aea",
   "metadata": {},
   "outputs": [],
   "source": []
  },
  {
   "cell_type": "markdown",
   "id": "d11a6c5c",
   "metadata": {},
   "source": [
    "* 튜플 값 변경 불가"
   ]
  },
  {
   "cell_type": "code",
   "execution_count": null,
   "id": "02d24c5d",
   "metadata": {},
   "outputs": [],
   "source": [
    "a = (1,2,3)\n",
    "a[0] = 2"
   ]
  },
  {
   "cell_type": "markdown",
   "id": "a0ceb87b",
   "metadata": {},
   "source": [
    "### 딕셔너리(dictionary)"
   ]
  },
  {
   "cell_type": "markdown",
   "id": "5ffcf55d",
   "metadata": {},
   "source": [
    "* 딕셔너리 생성"
   ]
  },
  {
   "cell_type": "code",
   "execution_count": null,
   "id": "ea2d9676",
   "metadata": {},
   "outputs": [],
   "source": [
    "x_1 = {90:'A', 80:'B', 70:'C'}\n",
    "x_2 = {0:['a','b','c'], 1:['d','e','f']}\n",
    "x_3 = {'a':[1,2,3], 'b':[4,5,6]}\n",
    "\n",
    "print(x_1)\n",
    "print(x_2)\n",
    "print(x_3)"
   ]
  },
  {
   "cell_type": "markdown",
   "id": "f43b51b1",
   "metadata": {},
   "source": [
    "<p style=\"color:#fb0101;\"><b>실습: 아래 표의 내용을 참고하여 반별 인원을 저장하는 딕셔너리를 생성하세요</b></p>"
   ]
  },
  {
   "attachments": {
    "image.png": {
     "image/png": "[encoded data removed]"
    }
   },
   "cell_type": "markdown",
   "id": "32aa07f3",
   "metadata": {},
   "source": [
    "![image.png](attachment:image.png)"
   ]
  },
  {
   "cell_type": "code",
   "execution_count": null,
   "id": "de2a8ca4",
   "metadata": {},
   "outputs": [],
   "source": [
    "\n",
    "def solution():\n",
    "    return 1\n",
    "\n",
    "solution()"
   ]
  },
  {
   "cell_type": "markdown",
   "id": "9b5480e4",
   "metadata": {},
   "source": [
    "* 딕셔너리 활용"
   ]
  },
  {
   "cell_type": "code",
   "execution_count": null,
   "id": "f78b5dc9",
   "metadata": {},
   "outputs": [],
   "source": [
    "fruit = {'사과':10, '오렌지': 5, '바나나': 7}\n",
    "\n",
    "print(fruit['사과'])"
   ]
  },
  {
   "cell_type": "markdown",
   "id": "cac63ad5",
   "metadata": {},
   "source": [
    "## 2. 넘파이(NumPy)"
   ]
  },
  {
   "cell_type": "code",
   "execution_count": null,
   "id": "6b0a6e34",
   "metadata": {},
   "outputs": [],
   "source": [
    "import numpy as np"
   ]
  },
  {
   "cell_type": "markdown",
   "id": "082e1171",
   "metadata": {},
   "source": [
    "### 넘파이 배열 생성"
   ]
  },
  {
   "cell_type": "markdown",
   "id": "3593cb5d",
   "metadata": {},
   "source": [
    "* 리스트, 튜플로 생성"
   ]
  },
  {
   "cell_type": "code",
   "execution_count": null,
   "id": "1315863c",
   "metadata": {},
   "outputs": [],
   "source": [
    "# 리스트로 생성\n"
   ]
  },
  {
   "cell_type": "code",
   "execution_count": null,
   "id": "8e7d066a",
   "metadata": {},
   "outputs": [],
   "source": [
    "# 튜플로 생성\n"
   ]
  },
  {
   "cell_type": "code",
   "execution_count": null,
   "id": "17bebf0f",
   "metadata": {},
   "outputs": [],
   "source": [
    "# 2차원 배열 생성\n"
   ]
  },
  {
   "cell_type": "markdown",
   "id": "7be74d3d",
   "metadata": {},
   "source": [
    "* arange( )"
   ]
  },
  {
   "cell_type": "code",
   "execution_count": null,
   "id": "a2a869db",
   "metadata": {},
   "outputs": [],
   "source": [
    "# 0부터 5보다 작은 값까지 1씩 증가\n"
   ]
  },
  {
   "cell_type": "code",
   "execution_count": null,
   "id": "66236242",
   "metadata": {},
   "outputs": [],
   "source": [
    "#1부터 5보다 작은 값까지 1씩 증가\n"
   ]
  },
  {
   "cell_type": "code",
   "execution_count": null,
   "id": "69054afe",
   "metadata": {},
   "outputs": [],
   "source": [
    "# 0부터 10보다 작은 값까지 2씩 증가\n"
   ]
  },
  {
   "cell_type": "markdown",
   "id": "67caf901",
   "metadata": {},
   "source": [
    "* arange( )와 list(range( )) 비교"
   ]
  },
  {
   "cell_type": "code",
   "execution_count": null,
   "id": "30a4e466",
   "metadata": {},
   "outputs": [],
   "source": [
    "arr = list(range(0, 10, 2))\n",
    "arr"
   ]
  },
  {
   "cell_type": "code",
   "execution_count": null,
   "id": "35dc4164",
   "metadata": {},
   "outputs": [],
   "source": [
    "arr = np.arange(0, 5, 0.5)\n",
    "arr"
   ]
  },
  {
   "cell_type": "code",
   "execution_count": null,
   "id": "ae4ef3c8",
   "metadata": {},
   "outputs": [],
   "source": [
    "arr = list(range(0, 5 ,0.5))\n",
    "arr"
   ]
  },
  {
   "cell_type": "markdown",
   "id": "5fadcd75",
   "metadata": {},
   "source": [
    "### 인덱싱, 슬라이싱"
   ]
  },
  {
   "cell_type": "code",
   "execution_count": null,
   "id": "b00b0499",
   "metadata": {},
   "outputs": [],
   "source": [
    "arr_1 = np.array([[1,2,3],\n",
    "                  [4,5,6],\n",
    "                  [7,8,9]])\n",
    "arr_1"
   ]
  },
  {
   "cell_type": "code",
   "execution_count": null,
   "id": "3170e1e4",
   "metadata": {},
   "outputs": [],
   "source": [
    "# 1 출력\n"
   ]
  },
  {
   "cell_type": "code",
   "execution_count": null,
   "id": "75e70f18",
   "metadata": {},
   "outputs": [],
   "source": [
    "# 3 출력\n"
   ]
  },
  {
   "cell_type": "code",
   "execution_count": null,
   "id": "23c52d08",
   "metadata": {},
   "outputs": [],
   "source": [
    "# 두 번째, 세 번째 행만 출력\n"
   ]
  },
  {
   "cell_type": "code",
   "execution_count": null,
   "id": "b9cdc04e",
   "metadata": {},
   "outputs": [],
   "source": [
    "# 5 이상인 값을 출력\n"
   ]
  },
  {
   "cell_type": "markdown",
   "id": "a450ee75",
   "metadata": {},
   "source": [
    "<p style=\"color:#fb0101;\"><b>실습: 주어진 배열에 있는 0의 개수를 구하세요</b></p>"
   ]
  },
  {
   "cell_type": "code",
   "execution_count": null,
   "id": "c5b1f6c2",
   "metadata": {},
   "outputs": [],
   "source": [
    "import numpy as np\n",
    "arr = np.array([1,2,0,3,4,0,5,2,3,0,4,5,0,0,6,3,2,0,2,0,1])\n",
    "\n",
    "def solution():\n",
    "    return 1\n",
    "    \n",
    "solution()"
   ]
  },
  {
   "cell_type": "markdown",
   "id": "808e1fec",
   "metadata": {},
   "source": [
    "### 연산자 적용"
   ]
  },
  {
   "cell_type": "code",
   "execution_count": null,
   "id": "660568e5",
   "metadata": {},
   "outputs": [],
   "source": [
    "arr_1 = np.arange(1,6)\n",
    "arr_2 = np.array([1,1,1,1,1])\n",
    "print(arr_1, arr_2)"
   ]
  },
  {
   "cell_type": "code",
   "execution_count": null,
   "id": "3f80e6fe",
   "metadata": {},
   "outputs": [],
   "source": [
    "# 두 배열 더하기\n"
   ]
  },
  {
   "cell_type": "code",
   "execution_count": null,
   "id": "b9163d0a",
   "metadata": {},
   "outputs": [],
   "source": [
    "# 빼기\n"
   ]
  },
  {
   "cell_type": "code",
   "execution_count": null,
   "id": "148234e1",
   "metadata": {},
   "outputs": [],
   "source": [
    "# 곱하기\n"
   ]
  },
  {
   "cell_type": "code",
   "execution_count": null,
   "id": "54149b6b",
   "metadata": {},
   "outputs": [],
   "source": [
    "# 크기 판별\n"
   ]
  },
  {
   "cell_type": "code",
   "execution_count": null,
   "id": "bd032da8",
   "metadata": {},
   "outputs": [],
   "source": [
    "# 2 더하기\n"
   ]
  },
  {
   "cell_type": "code",
   "execution_count": null,
   "id": "0a70420c",
   "metadata": {},
   "outputs": [],
   "source": [
    "# 10 곱하기\n"
   ]
  },
  {
   "cell_type": "markdown",
   "id": "57e0a0c7",
   "metadata": {},
   "source": [
    "<p style=\"color:#fb0101;\"><b>실습: arr_1배열의 값을 두 배하면 arr_2의 같은 위치의 값보다 더 큰 경우의 개수를 구하세요 </b></p>"
   ]
  },
  {
   "cell_type": "code",
   "execution_count": null,
   "id": "89ef5390",
   "metadata": {},
   "outputs": [],
   "source": [
    "import numpy as np\n",
    "arr_1 = np.arange(1,7)\n",
    "arr_2 = np.arange(3,9)\n",
    "\n",
    "def solution():\n",
    "    return 1\n",
    "    \n",
    "solution()"
   ]
  },
  {
   "cell_type": "markdown",
   "id": "e11ffaa1",
   "metadata": {},
   "source": [
    "### 넘파이 배열 속성"
   ]
  },
  {
   "cell_type": "code",
   "execution_count": null,
   "id": "0a19c3b7",
   "metadata": {},
   "outputs": [],
   "source": [
    "arr = np.array([[1,2,3],\n",
    "                [3,4,5]])\n",
    "print(arr)\n",
    "arr.shape"
   ]
  },
  {
   "cell_type": "markdown",
   "id": "88819729",
   "metadata": {},
   "source": [
    "### 넘파이 배열 메서드"
   ]
  },
  {
   "cell_type": "code",
   "execution_count": null,
   "id": "894b53d0",
   "metadata": {},
   "outputs": [],
   "source": [
    "arr = np.array([[1.234, 20],\n",
    "                [333, -444]])\n",
    "arr"
   ]
  },
  {
   "cell_type": "markdown",
   "id": "55b5b3a4",
   "metadata": {},
   "source": [
    "round(), min(), max(), sum(), mean(), var(), std()"
   ]
  },
  {
   "cell_type": "code",
   "execution_count": null,
   "id": "8e988a32",
   "metadata": {},
   "outputs": [],
   "source": []
  },
  {
   "cell_type": "markdown",
   "id": "6a00c13e",
   "metadata": {},
   "source": [
    "* 넘파이 함수"
   ]
  },
  {
   "cell_type": "code",
   "execution_count": null,
   "id": "b0e408d7",
   "metadata": {},
   "outputs": [],
   "source": [
    "arr = np.arange(-3,4)\n",
    "arr"
   ]
  },
  {
   "cell_type": "markdown",
   "id": "3334351a",
   "metadata": {},
   "source": [
    "where(), abs()"
   ]
  },
  {
   "cell_type": "code",
   "execution_count": null,
   "id": "c40cd811",
   "metadata": {},
   "outputs": [],
   "source": []
  },
  {
   "cell_type": "markdown",
   "id": "8164f7c0",
   "metadata": {},
   "source": [
    "<p style=\"color:#fb0101;\"><b>실습: 다음과 같은 Numpy array 객체가 있을 때 최초 3개의 원소는 True이고 나머지 원소는 False로 하는 array를 출력하도록 NumPy의 함수를 활용하여 코드를 작성하시오.</b></p>\n",
    "\n",
    "※ Numpy의 where() 함수를 사용하시오.\n",
    "\n",
    "※ 10보다 작은 숫자는 True, 나머지는 False로 변화되도록 하시오."
   ]
  },
  {
   "cell_type": "code",
   "execution_count": null,
   "id": "ab967d2f",
   "metadata": {},
   "outputs": [],
   "source": [
    "import numpy as np\n",
    "\n",
    "arr = np.array([4,2,5,15,34,66,90])\n",
    "def solution():\n",
    "    return 1\n",
    "    \n",
    "solution()"
   ]
  },
  {
   "cell_type": "markdown",
   "id": "9e8e96de",
   "metadata": {},
   "source": [
    "### random"
   ]
  },
  {
   "cell_type": "code",
   "execution_count": null,
   "id": "8698786c",
   "metadata": {},
   "outputs": [],
   "source": [
    "# 난수 발생\n"
   ]
  },
  {
   "cell_type": "code",
   "execution_count": null,
   "id": "eb1253e4",
   "metadata": {},
   "outputs": [],
   "source": [
    "# 난수 세트 고정\n"
   ]
  },
  {
   "cell_type": "markdown",
   "id": "703caa4f",
   "metadata": {},
   "source": [
    "## 3. 판다스(pandas)"
   ]
  },
  {
   "cell_type": "code",
   "execution_count": null,
   "id": "ca9435f9",
   "metadata": {},
   "outputs": [],
   "source": [
    "import pandas as pd\n",
    "import numpy as np"
   ]
  },
  {
   "cell_type": "markdown",
   "id": "5dc84422",
   "metadata": {},
   "source": [
    "### Series"
   ]
  },
  {
   "cell_type": "code",
   "execution_count": null,
   "id": "c4aeed11",
   "metadata": {},
   "outputs": [],
   "source": [
    "ser = pd.Series(np.arange(5))\n",
    "ser"
   ]
  },
  {
   "cell_type": "code",
   "execution_count": null,
   "id": "74289cf3",
   "metadata": {},
   "outputs": [],
   "source": [
    "ser.dtype"
   ]
  },
  {
   "cell_type": "markdown",
   "id": "dc476100",
   "metadata": {},
   "source": [
    "### 데이터프레임 생성"
   ]
  },
  {
   "cell_type": "markdown",
   "id": "76598d58",
   "metadata": {},
   "source": [
    "* 리스트로 생성"
   ]
  },
  {
   "cell_type": "code",
   "execution_count": null,
   "id": "940caf04",
   "metadata": {},
   "outputs": [],
   "source": [
    "# 값만 지정\n"
   ]
  },
  {
   "cell_type": "code",
   "execution_count": null,
   "id": "855b0eeb",
   "metadata": {},
   "outputs": [],
   "source": [
    "# 칼러명 지정\n"
   ]
  },
  {
   "cell_type": "markdown",
   "id": "32a48d0b",
   "metadata": {},
   "source": [
    "* 딕셔너리로 생성"
   ]
  },
  {
   "cell_type": "code",
   "execution_count": null,
   "id": "d7eb2343",
   "metadata": {},
   "outputs": [],
   "source": []
  },
  {
   "cell_type": "markdown",
   "id": "c326111f",
   "metadata": {},
   "source": [
    "<p style=\"color:#fb0101;\"><b>실습: arr_1 배열을 칼럼명 'a'로 arr_2 배열을 칼럼명 'b'로 하여 데이터프레임을 생성하고 생성한 데이터프레임의 row 개수를 구하세요 </b></p>"
   ]
  },
  {
   "cell_type": "code",
   "execution_count": null,
   "id": "6ddeecf2",
   "metadata": {},
   "outputs": [],
   "source": [
    "import numpy as np\n",
    "import pandas as pd\n",
    "\n",
    "arr_1 = np.arange(1,7)\n",
    "arr_2 = np.arange(3,9)\n",
    "\n",
    "def solution():\n",
    "    return 1\n",
    "\n",
    "solution()"
   ]
  },
  {
   "cell_type": "markdown",
   "id": "d12bfec1",
   "metadata": {},
   "source": [
    "* 파일 데이터로 생성"
   ]
  },
  {
   "cell_type": "markdown",
   "id": "135ca9b6",
   "metadata": {},
   "source": [
    "    - 현재 작업 폴더 경로 탐색 : pwd"
   ]
  },
  {
   "cell_type": "code",
   "execution_count": null,
   "id": "9b7bfae9",
   "metadata": {},
   "outputs": [],
   "source": []
  },
  {
   "cell_type": "code",
   "execution_count": null,
   "id": "4043dd5b",
   "metadata": {},
   "outputs": [],
   "source": [
    "#  DATA_test_result.csv 로 데이터프레임 생성\n"
   ]
  },
  {
   "cell_type": "code",
   "execution_count": null,
   "id": "bc175693",
   "metadata": {},
   "outputs": [],
   "source": [
    "# iris.xlsx 로 데이터프레임 생성\n"
   ]
  },
  {
   "cell_type": "markdown",
   "id": "03a1f374",
   "metadata": {},
   "source": [
    "### 데이터프레임 속성"
   ]
  },
  {
   "cell_type": "code",
   "execution_count": null,
   "id": "4e433922",
   "metadata": {},
   "outputs": [],
   "source": [
    "df = pd.read_csv('DATA_test_result.csv')\n",
    "df"
   ]
  },
  {
   "cell_type": "code",
   "execution_count": null,
   "id": "39a49da6",
   "metadata": {},
   "outputs": [],
   "source": [
    "# 행, 열 구성\n"
   ]
  },
  {
   "cell_type": "code",
   "execution_count": null,
   "id": "44ed6f77",
   "metadata": {},
   "outputs": [],
   "source": [
    "# 칼럼명\n"
   ]
  },
  {
   "cell_type": "markdown",
   "id": "e38aad6f",
   "metadata": {},
   "source": [
    "### 데이터프레임 메서드"
   ]
  },
  {
   "cell_type": "markdown",
   "id": "0a8becbe",
   "metadata": {},
   "source": [
    "head(), tail(), info()"
   ]
  },
  {
   "cell_type": "code",
   "execution_count": null,
   "id": "aa1ca9ba",
   "metadata": {},
   "outputs": [],
   "source": []
  },
  {
   "cell_type": "markdown",
   "id": "b99ef743",
   "metadata": {},
   "source": [
    "칼럼 지정"
   ]
  },
  {
   "cell_type": "code",
   "execution_count": null,
   "id": "d76b4d8b",
   "metadata": {},
   "outputs": [],
   "source": []
  },
  {
   "cell_type": "markdown",
   "id": "e344616e",
   "metadata": {},
   "source": [
    "행 지정"
   ]
  },
  {
   "cell_type": "code",
   "execution_count": null,
   "id": "35d39ba7",
   "metadata": {},
   "outputs": [],
   "source": []
  },
  {
   "cell_type": "markdown",
   "id": "4e595801",
   "metadata": {},
   "source": [
    "행, 열 지정"
   ]
  },
  {
   "cell_type": "code",
   "execution_count": null,
   "id": "8afa6f2a",
   "metadata": {},
   "outputs": [],
   "source": [
    "# loc[]\n"
   ]
  },
  {
   "cell_type": "code",
   "execution_count": null,
   "id": "8589b494",
   "metadata": {},
   "outputs": [],
   "source": [
    "# iloc[]\n"
   ]
  },
  {
   "cell_type": "markdown",
   "id": "ca221d25",
   "metadata": {},
   "source": [
    "정렬하기"
   ]
  },
  {
   "cell_type": "code",
   "execution_count": null,
   "id": "3445e636",
   "metadata": {},
   "outputs": [],
   "source": []
  },
  {
   "cell_type": "markdown",
   "id": "6b2542be",
   "metadata": {},
   "source": [
    "<p style=\"color:#fb0101;\"><b>실습: df 객체의 원소 3이 출력되도록 하세요 </b></p>"
   ]
  },
  {
   "cell_type": "code",
   "execution_count": null,
   "id": "f3b3ec15",
   "metadata": {
    "scrolled": true
   },
   "outputs": [],
   "source": [
    "import pandas as pd\n",
    "\n",
    "df = pd.DataFrame({'v1':[1,2,5],'v2':[4,3,9]})\n",
    "\n",
    "def solution():\n",
    "    return 1\n",
    "    \n",
    "solution()"
   ]
  },
  {
   "cell_type": "markdown",
   "id": "c63f8b23",
   "metadata": {},
   "source": [
    "<p style=\"color:#fb0101;\"><b>실습: df 객체의 Sales_quantity 변수를 기준으로 내림차순 정렬을 하고 해당 변수를 기준으로 상위 10개의 데이터를 추출하여 df_top10에 저장하시오. 10위에 해당하는 Sales_quantity 변수의 값을 정수 부분만 구하시오.  </b></p>\n",
    "\n",
    "※ 'Month_Value_1.csv' 파일을 사용하여 분석하시오.\n",
    "\n",
    "※ Pandas의 .sort_values() 메서드를 사용하시오.\n"
   ]
  },
  {
   "cell_type": "code",
   "execution_count": null,
   "id": "88d63d59",
   "metadata": {},
   "outputs": [],
   "source": [
    "import pandas as pd\n",
    "\n",
    "df =  pd.read_csv('Month_Value_1.csv')\n",
    "\n",
    "def solution():\n",
    "    print(\"???\")\n",
    "    \n",
    "solution() "
   ]
  },
  {
   "cell_type": "markdown",
   "id": "29533daa",
   "metadata": {},
   "source": [
    "통계량 함수들\n",
    "\n",
    "describe(), min(), max(), sum(), mean(), var(), std()"
   ]
  },
  {
   "cell_type": "code",
   "execution_count": null,
   "id": "0f2180b2",
   "metadata": {},
   "outputs": [],
   "source": [
    "df = pd.read_csv('DATA_test_result.csv')\n",
    "df.head()"
   ]
  },
  {
   "cell_type": "code",
   "execution_count": null,
   "id": "c0d283de",
   "metadata": {},
   "outputs": [],
   "source": []
  },
  {
   "cell_type": "markdown",
   "id": "a81bc002",
   "metadata": {},
   "source": [
    "그룹별 집계\n",
    "\n",
    "value_counts(), groupby()"
   ]
  },
  {
   "cell_type": "code",
   "execution_count": null,
   "id": "9a169f81",
   "metadata": {},
   "outputs": [],
   "source": [
    "df = pd.read_excel('iris.xlsx')\n",
    "df"
   ]
  },
  {
   "cell_type": "code",
   "execution_count": null,
   "id": "760ec007",
   "metadata": {},
   "outputs": [],
   "source": []
  },
  {
   "cell_type": "markdown",
   "id": "a8b29e22",
   "metadata": {},
   "source": [
    "<p style=\"color:#fb0101;\"><b>실습: df 객체의 score_a 변수의 평균을 제곱한 값을 소수점 두 번째 자리까지 구하시오 </b></p>"
   ]
  },
  {
   "cell_type": "code",
   "execution_count": null,
   "id": "c5facc4d",
   "metadata": {},
   "outputs": [],
   "source": [
    "import numpy as np\n",
    "import pandas as pd\n",
    "\n",
    "df = df = pd.read_csv('DATA_test_result.csv')\n",
    "\n",
    "def solution():\n",
    "    return 1\n",
    "    \n",
    "solution()"
   ]
  },
  {
   "cell_type": "markdown",
   "id": "6091d2a0",
   "metadata": {},
   "source": [
    "### 조건 맞는 데이터 출력"
   ]
  },
  {
   "cell_type": "code",
   "execution_count": null,
   "id": "2103fc01",
   "metadata": {},
   "outputs": [],
   "source": [
    "df = pd.read_csv('DATA_test_result.csv')"
   ]
  },
  {
   "cell_type": "code",
   "execution_count": null,
   "id": "0cbb423b",
   "metadata": {},
   "outputs": [],
   "source": [
    "#df['칼럼명'] 비교연산자 비교값\n"
   ]
  },
  {
   "cell_type": "code",
   "execution_count": null,
   "id": "db76b00d",
   "metadata": {},
   "outputs": [],
   "source": [
    "#df[df['칼럼명'] 비교연산자 비교값]\n",
    "df[  ]"
   ]
  }
 ],
 "metadata": {
  "kernelspec": {
   "display_name": "Python 3 (ipykernel)",
   "language": "python",
   "name": "python3"
  },
  "language_info": {
   "codemirror_mode": {
    "name": "ipython",
    "version": 3
   },
   "file_extension": ".py",
   "mimetype": "text/x-python",
   "name": "python",
   "nbconvert_exporter": "python",
   "pygments_lexer": "ipython3",
   "version": "3.9.12"
  }
 },
 "nbformat": 4,
 "nbformat_minor": 5
}

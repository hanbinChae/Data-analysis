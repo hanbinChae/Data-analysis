{
 "cells": [
  {
   "cell_type": "code",
   "execution_count": null,
   "id": "127f0726",
   "metadata": {
    "scrolled": true
   },
   "outputs": [],
   "source": [
    "%%html\n",
    "<style type='text/css'>\n",
    ".CodeMirror{\n",
    "font-size: 18px;\n",
    "font-family: D2CODING;\n",
    "}\n",
    "\n",
    "div.output_area pre {\n",
    "font-size: 15px;\n",
    "font-family: D2CODING; \n",
    "}\n",
    "</style>"
   ]
  },
  {
   "cell_type": "code",
   "execution_count": null,
   "id": "b3ebb187",
   "metadata": {},
   "outputs": [],
   "source": [
    "import pandas as pd\n",
    "import numpy as np\n",
    "import matplotlib.pyplot as plt"
   ]
  },
  {
   "cell_type": "markdown",
   "id": "4f6474bc",
   "metadata": {},
   "source": [
    "## 1.데이터 탐색"
   ]
  },
  {
   "cell_type": "markdown",
   "id": "d6917d9b",
   "metadata": {},
   "source": [
    "### 기술 통계량"
   ]
  },
  {
   "cell_type": "markdown",
   "id": "4b8f4e68",
   "metadata": {},
   "source": [
    "* 위치 통계량\n",
    "    - 산술평균, 중앙값, 최빈값, 최솟값, 최댓값"
   ]
  },
  {
   "cell_type": "code",
   "execution_count": null,
   "id": "3f4c8da8",
   "metadata": {},
   "outputs": [],
   "source": [
    "df = pd.read_csv('./elec_load_2017_7d.csv')\n",
    "df"
   ]
  },
  {
   "cell_type": "code",
   "execution_count": null,
   "id": "d1fb57fc",
   "metadata": {},
   "outputs": [],
   "source": [
    "df.info()"
   ]
  },
  {
   "cell_type": "code",
   "execution_count": null,
   "id": "5c356a61",
   "metadata": {},
   "outputs": [],
   "source": [
    "# X1HR 칼럼의 평균, 중앙값, 최솟값, 최댓값\n",
    "print('산술평균:',df['X1HR'].mean())\n",
    "print('중앙값  :',df['X1HR'].median())\n",
    "print('최솟값  :',df['X1HR'].min())\n",
    "print('최댓값  :',df['X1HR'].max())"
   ]
  },
  {
   "cell_type": "code",
   "execution_count": null,
   "id": "61a18eed",
   "metadata": {},
   "outputs": [],
   "source": [
    "#최빈값\n",
    "df['YEAR'].mode()"
   ]
  },
  {
   "cell_type": "markdown",
   "id": "11376e67",
   "metadata": {},
   "source": [
    "* 변이 통계량\n",
    "    - 분위수(quantile), 분산, 표준편차"
   ]
  },
  {
   "cell_type": "code",
   "execution_count": null,
   "id": "e4a271e4",
   "metadata": {},
   "outputs": [],
   "source": [
    "# 제 1 사분위수, 제 2 사분위수, 제 3 사분위수\n",
    "print('제 1 사분위수  :', df['X1HR'].quantile(0.25))\n",
    "print('제 2 사분위수  :', df['X1HR'].quantile(0.5))\n",
    "print('제 3 사분위수  :', df['X1HR'].quantile(0.75))"
   ]
  },
  {
   "cell_type": "code",
   "execution_count": null,
   "id": "38fd9223",
   "metadata": {},
   "outputs": [],
   "source": [
    "df['X1HR'].plot.box()\n",
    "plt.show()"
   ]
  },
  {
   "cell_type": "markdown",
   "id": "308a3585",
   "metadata": {},
   "source": [
    "<p style=\"color:#fb0101;\"><b>실습: df 객체의 X2HR 변수의 제 98 백분위수를 반올림하여 소수점 둘째 자리까지 구하시오 </b></p>"
   ]
  },
  {
   "cell_type": "code",
   "execution_count": null,
   "id": "edf3bade",
   "metadata": {},
   "outputs": [],
   "source": [
    "import pandas as pd\n",
    "\n",
    "df = pd.read_csv('./elec_load_2017_7d.csv')\n",
    "\n",
    "def solution():\n",
    "    return round(df['X2HR'].quantile(0.98),2)\n",
    "    \n",
    "solution()"
   ]
  },
  {
   "cell_type": "code",
   "execution_count": null,
   "id": "2b96fa65",
   "metadata": {},
   "outputs": [],
   "source": [
    "# 분산, 표준편차\n",
    "print('분산    :',df['X1HR'].var())\n",
    "print('표준편차:',df['X1HR'].std())"
   ]
  },
  {
   "cell_type": "code",
   "execution_count": null,
   "id": "ed02bb5f",
   "metadata": {
    "scrolled": true
   },
   "outputs": [],
   "source": [
    "# 전체 통계량 조회 - describe()\n",
    "df['X1HR'].describe()"
   ]
  },
  {
   "cell_type": "markdown",
   "id": "df6164fa",
   "metadata": {},
   "source": [
    "<p style=\"color:#fb0101;\"><b>실습: df 객체의 Period와 Sales_quantity의 결측치를 제거한 후 Period 변수의 값에서 년도만을 추출하여 새로운 변수 Year에 저장하고, Year별 Sales_quantity 변수의 평균을 구하시오. 평균 중 가장 큰 값을 구하시오. </b></p>\n",
    "\n",
    "※ 'Month_Value_1.csv' 파일을 사용하여 분석하시오.\n",
    "\n",
    "※ Pandas의 to_datetime( ) 함수를 사용하시오.\n",
    "\n",
    "※ Pandas Series 객체의 .dt.accessor의 year 어트리뷰트를 사용하시오.\n",
    "\n",
    "※ Pandas의 groupby() 메서드를 사용하시오.\n",
    "\n",
    "※ 소수점 두 번째 자리까지 구하시오."
   ]
  },
  {
   "cell_type": "code",
   "execution_count": null,
   "id": "dd088202",
   "metadata": {},
   "outputs": [],
   "source": [
    "import numpy as np\n",
    "import pandas as pd\n",
    "\n",
    "df = pd.read_csv('./Month_Value_1.csv')\n",
    "\n",
    "df = df.loc[df['Period'].notna() & df['Sales_quantity'].notna(),]\n",
    "df['Year'] = pd.to_datetime(df['Period']).dt.year\n",
    "\n",
    "def solution():\n",
    "    return round(df.groupby('Year')['Sales_quantity'].mean().max(),2)\n",
    "    \n",
    "solution()\n"
   ]
  },
  {
   "cell_type": "markdown",
   "id": "29c4cbff",
   "metadata": {},
   "source": [
    "* 모양 통계량\n",
    "    - 왜도, 첨도"
   ]
  },
  {
   "cell_type": "code",
   "execution_count": null,
   "id": "b0aa5f5e",
   "metadata": {},
   "outputs": [],
   "source": [
    "df = pd.read_csv('./elec_load_2017_7d.csv')\n",
    "\n",
    "print('왜도:',df['X1HR'].skew())\n",
    "print('첨도:',df['X1HR'].kurt())"
   ]
  },
  {
   "cell_type": "markdown",
   "id": "373e3dd4",
   "metadata": {},
   "source": [
    "### 이상치"
   ]
  },
  {
   "cell_type": "markdown",
   "id": "24d6ad64",
   "metadata": {},
   "source": [
    "* 예)평균을 기준으로 1 표준편차보다 멀리 있는 값을 이상치로 처리"
   ]
  },
  {
   "cell_type": "code",
   "execution_count": null,
   "id": "80e223b7",
   "metadata": {},
   "outputs": [],
   "source": [
    "# 왼쪽 기준값과 오른쪽 기준값을 구하기\n",
    "right = df['X2HR'].mean() + df['X2HR'].std()\n",
    "left = df['X2HR'].mean() - df['X2HR'].std()\n",
    "print(left, right)"
   ]
  },
  {
   "cell_type": "code",
   "execution_count": null,
   "id": "e6b016f7",
   "metadata": {},
   "outputs": [],
   "source": [
    "#이상치 구하기\n",
    "df[(df['X2HR'] < left) | (df['X2HR'] > right)]"
   ]
  },
  {
   "cell_type": "code",
   "execution_count": null,
   "id": "42b046c1",
   "metadata": {
    "scrolled": true
   },
   "outputs": [],
   "source": [
    "# 이상치를 제거한 데이터\n",
    "df[~((df['X2HR'] < left) | (df['X2HR'] > right))]"
   ]
  },
  {
   "cell_type": "code",
   "execution_count": null,
   "id": "f7e61a22",
   "metadata": {},
   "outputs": [],
   "source": [
    "# 이상치를 제거한 데이터\n",
    "df[(df['X2HR'] >= left) & (df['X2HR'] <= right)]"
   ]
  }
 ],
 "metadata": {
  "kernelspec": {
   "display_name": "Python 3 (ipykernel)",
   "language": "python",
   "name": "python3"
  },
  "language_info": {
   "codemirror_mode": {
    "name": "ipython",
    "version": 3
   },
   "file_extension": ".py",
   "mimetype": "text/x-python",
   "name": "python",
   "nbconvert_exporter": "python",
   "pygments_lexer": "ipython3",
   "version": "3.9.12"
  }
 },
 "nbformat": 4,
 "nbformat_minor": 5
}

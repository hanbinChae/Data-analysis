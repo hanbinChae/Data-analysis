{
 "cells": [
  {
   "cell_type": "code",
   "execution_count": null,
   "id": "e5120d66",
   "metadata": {},
   "outputs": [],
   "source": [
    "%%html\n",
    "<style type='text/css'>\n",
    ".CodeMirror{\n",
    "font-size: 20px;\n",
    "font-family: D2CODING;\n",
    "}\n",
    "\n",
    "div.output_area pre {\n",
    "font-size: 16px;\n",
    "font-family: D2CODING; \n",
    "}\n",
    "</style>"
   ]
  },
  {
   "cell_type": "code",
   "execution_count": null,
   "id": "423baf8c",
   "metadata": {},
   "outputs": [],
   "source": [
    "import numpy as np\n",
    "import pandas as pd\n",
    "import matplotlib.pyplot as plt"
   ]
  },
  {
   "cell_type": "markdown",
   "id": "7fbe56dd",
   "metadata": {},
   "source": [
    "## 선 그래프(Line plot)"
   ]
  },
  {
   "cell_type": "code",
   "execution_count": null,
   "id": "d037d525",
   "metadata": {},
   "outputs": [],
   "source": [
    "df = pd.read_csv('DATA_test_result.csv')\n",
    "df"
   ]
  },
  {
   "cell_type": "code",
   "execution_count": null,
   "id": "cc883e28",
   "metadata": {},
   "outputs": [],
   "source": [
    "# score_a 칼럼으로 선그래프 그리기 - plot()\n",
    "df['score_a'].plot()\n",
    "plt.show()"
   ]
  },
  {
   "cell_type": "code",
   "execution_count": null,
   "id": "1c37b59d",
   "metadata": {},
   "outputs": [],
   "source": [
    "# score_a, score_b 칼럼으로 선그래프 그리기 - plot()\n",
    "df[['score_a','score_b']].plot()\n",
    "plt.show()"
   ]
  },
  {
   "cell_type": "code",
   "execution_count": null,
   "id": "2502a23d",
   "metadata": {},
   "outputs": [],
   "source": [
    "# 색, 마커, 선굵기 조정\n",
    "df['score_a'].plot(c='g',marker='o')\n",
    "df['score_b'].plot(c='y',linewidth=5)\n",
    "plt.show()"
   ]
  },
  {
   "cell_type": "code",
   "execution_count": null,
   "id": "5a0718c8",
   "metadata": {},
   "outputs": [],
   "source": [
    "# score_a, score_b 칼럼으로 선그래프 그리기 - plot.line()\n",
    "df[['score_a','score_b']].plot.line()\n",
    "plt.show()"
   ]
  },
  {
   "cell_type": "markdown",
   "id": "90c8262e",
   "metadata": {},
   "source": [
    "## 막대 그래프(Bar plot)"
   ]
  },
  {
   "cell_type": "code",
   "execution_count": null,
   "id": "ac84b23d",
   "metadata": {},
   "outputs": [],
   "source": [
    "# score_a 칼럼으로막대그래프 그리기 - plot.bar()\n",
    "df['score_a'].plot.bar()\n",
    "plt.show()"
   ]
  },
  {
   "cell_type": "code",
   "execution_count": null,
   "id": "a1807c9a",
   "metadata": {},
   "outputs": [],
   "source": [
    "# score_a 칼럼으로 가로막대그래프 그리기 - plot.barh()\n",
    "df['score_a'].plot.barh()\n",
    "plt.show()"
   ]
  },
  {
   "cell_type": "code",
   "execution_count": null,
   "id": "81f70db3",
   "metadata": {},
   "outputs": [],
   "source": [
    "# score_a, score_b 칼럼으로 막대그래프 그리기 - plot.bar()\n",
    "df[['score_a','score_b']].plot.bar()\n",
    "plt.show()"
   ]
  },
  {
   "cell_type": "markdown",
   "id": "a6907f2c",
   "metadata": {},
   "source": [
    "## 산점도 그래프"
   ]
  },
  {
   "cell_type": "code",
   "execution_count": null,
   "id": "1887b115",
   "metadata": {},
   "outputs": [],
   "source": [
    "# score_a 칼럼으로 산점도 그래프 그리기 - plot.scatter()\n",
    "df.plot.scatter(x='score_a',y='score_b')\n",
    "plt.show()"
   ]
  },
  {
   "cell_type": "code",
   "execution_count": null,
   "id": "7d46a1b9",
   "metadata": {},
   "outputs": [],
   "source": [
    "iris = pd.read_csv('iris.csv')\n",
    "iris"
   ]
  },
  {
   "cell_type": "code",
   "execution_count": null,
   "id": "81c417d7",
   "metadata": {},
   "outputs": [],
   "source": [
    "iris.plot.scatter(x='Sepal.Length',y='Petal.Length')\n",
    "plt.show()"
   ]
  },
  {
   "cell_type": "markdown",
   "id": "0eb7cca9",
   "metadata": {},
   "source": [
    "## 히스토그램(Histogram)"
   ]
  },
  {
   "cell_type": "code",
   "execution_count": null,
   "id": "6d7812bb",
   "metadata": {},
   "outputs": [],
   "source": [
    "# score_a 칼럼으로 히스토그램 그리기 - plot.hist()\n",
    "df['score_a'].plot.hist()\n",
    "plt.show()"
   ]
  },
  {
   "cell_type": "code",
   "execution_count": null,
   "id": "a7c3f7b5",
   "metadata": {},
   "outputs": [],
   "source": [
    "# score_a 칼럼으로 히스토그램 그리기 - 막대 갯수 설정\n",
    "df['score_a'].plot.hist(bins=5)\n",
    "plt.show()"
   ]
  },
  {
   "cell_type": "markdown",
   "id": "706ac4cf",
   "metadata": {},
   "source": [
    "## 파이 차트(Pie chart) - 원 그래프"
   ]
  },
  {
   "cell_type": "code",
   "execution_count": null,
   "id": "f927a9e0",
   "metadata": {},
   "outputs": [],
   "source": [
    "# 파이 차트 그리기 - plot.pie()\n",
    "iris = pd.read_csv('iris.csv')\n",
    "\n",
    "iris['Species'].value_counts().plot.pie()\n",
    "plt.show()"
   ]
  },
  {
   "cell_type": "markdown",
   "id": "f75c4c29",
   "metadata": {},
   "source": [
    "<p style=\"color:#fb0101;\"><b>실습: df 객체의 Period 변수의 값에서 년도만을 추출하여 새로운 변수 Year에 저장하고, 년도별 데이터의 개수를 막대 그래프로 표현하시오.</b></p>\n",
    "\n",
    "※ 'Month_Value_1.csv' 파일을 사용하여 분석하시오.\n",
    "\n",
    "※ Pandas의 to_datetime( ) 함수를 사용하시오.\n",
    "\n",
    "※ Pandas Series 객체의 .dt.accessor의 year 어트리뷰트를 사용하시오.\n",
    "\n",
    "※ Pandas의 .value_counts()를 사용하여 데이터를 요약하시오.\n",
    "\n",
    "※ Pandas의 .plot acceessor의 .bar() 메서드를 사용하여 그래프를 구현하시오."
   ]
  },
  {
   "cell_type": "code",
   "execution_count": null,
   "id": "f1291b0c",
   "metadata": {},
   "outputs": [],
   "source": [
    "import numpy as np\n",
    "import pandas as pd\n",
    "import matplotlib.pyplot as plt\n",
    "\n",
    "df = pd.read_csv('Month_Value_1.csv')\n",
    "\n",
    "df['Year'] = pd.to_datetime(df['Period']).dt.year\n",
    "df['Year'].value_counts().plot.bar()\n",
    "\n",
    "def solution():\n",
    "    plt.show()\n",
    "    \n",
    "solution()"
   ]
  }
 ],
 "metadata": {
  "kernelspec": {
   "display_name": "Python 3 (ipykernel)",
   "language": "python",
   "name": "python3"
  },
  "language_info": {
   "codemirror_mode": {
    "name": "ipython",
    "version": 3
   },
   "file_extension": ".py",
   "mimetype": "text/x-python",
   "name": "python",
   "nbconvert_exporter": "python",
   "pygments_lexer": "ipython3",
   "version": "3.9.12"
  }
 },
 "nbformat": 4,
 "nbformat_minor": 5
}
